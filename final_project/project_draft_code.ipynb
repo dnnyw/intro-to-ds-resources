{
 "cells": [
  {
   "cell_type": "code",
   "execution_count": null,
   "metadata": {},
   "outputs": [],
   "source": [
    "import pandas as pd\n",
    "import numpy as np\n"
   ]
  }
 ],
 "metadata": {
  "kernelspec": {
   "display_name": "Python 3.8.8 ('base')",
   "language": "python",
   "name": "python3"
  },
  "language_info": {
   "name": "python",
   "version": "3.8.8"
  },
  "orig_nbformat": 4,
  "vscode": {
   "interpreter": {
    "hash": "2f39d6a9340f9094a15ae3206b3cb83be26c4819028e15d4b820076fd30a3721"
   }
  }
 },
 "nbformat": 4,
 "nbformat_minor": 2
}

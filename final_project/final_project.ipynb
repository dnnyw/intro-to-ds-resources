{
 "cells": [
  {
   "cell_type": "markdown",
   "metadata": {},
   "source": [
    "# Final Project: Yelp and Food Safety\n",
    "#### Exploring the San Francisco Restaurant World\n",
    "\n",
    "In this project, we will investigate a subset of the restaurants and related information from them adapted from Yelp data located in San Francisco, California. You will first explore some of the data about the restaurants themselves, calculating some summary statistics and trying to figure out some patterns in the data. Next we will merge that with a list of health inspection scores and violations that have been [made available by the San Francisco Department of Public Health](https://data.sfgov.org/Health-and-Social-Services/Restaurant-Scores-LIVES-Standard/pyih-qa8i). Lastly, we will run some linear regression analysis to see if there is any meaningful relationship between health inspection scores, and other aspects of each restaurant\n",
    "\n",
    "If you have any questions or get stuck or anything, feel free to come to office hours. \n",
    "\n",
    "**Helpful Resource:**\n",
    "\n",
    "* [Python Reference](https://docs.google.com/document/d/1zpTTl47NoGf2A3_oE1YusLyb-cF2sZMALdCMM5dpYIA/edit): Cheat sheet for Python and other functions used in this course\n",
    "\n",
    "\n",
    "To get started on the final project, first run the following cell to import some necessary packages, and have fun! \n"
   ]
  },
  {
   "cell_type": "code",
   "execution_count": null,
   "metadata": {},
   "outputs": [],
   "source": [
    "# importing some helful libraries\n",
    "import pandas as pd\n",
    "import numpy as np\n",
    "from functions import * \n",
    "\n",
    "# downloading necessary data \n",
    "\n",
    "# !wget \n",
    "\n",
    "from project_helper import * \n",
    "def check(*args):\n",
    "    return None"
   ]
  },
  {
   "cell_type": "markdown",
   "metadata": {},
   "source": [
    "# **1. San Francisco Restaurant Data**\n",
    "\n",
    "In this section you'll be learning a few extra useful features of _dataframes_, which we previously used in lab 3 as a way to managing data for analysis. \n",
    "\n",
    "As you might have noticed, the package we are using is called _Pandas_, which is the most commonly used package to clean and analyze data. You will learn some of the most important features of manipulating data using Pandas, and get a feel for exploring data using Python. "
   ]
  },
  {
   "cell_type": "markdown",
   "metadata": {},
   "source": [
    "## Part One: Loading the Data\n",
    "\n",
    "As mentioned in lecture, we can use Pandas to read many differe types of data format and read it into a table. The most common are `.csv` files, which stand for comma-separated-values. \n",
    "\n",
    "Run the following cell to download two `.csv` files that contain the data you will be working with in this project."
   ]
  },
  {
   "cell_type": "code",
   "execution_count": null,
   "metadata": {},
   "outputs": [],
   "source": [
    "# !wget ... \n"
   ]
  },
  {
   "cell_type": "markdown",
   "metadata": {},
   "source": [
    "As a side note, when you reopen this project in Google Colab, your code will remain, however it will delete any files you downloaded in the previous session. Just a friendly reminder to rerun that cell block to download the files each time you restart Google Colab.\n"
   ]
  },
  {
   "cell_type": "markdown",
   "metadata": {},
   "source": [
    "\n",
    "### Question 1:\n",
    "\n",
    "Now, load the files, named `businesses.csv` and `inspections.csv` into Pandas dataframes named `bus`, and `ins` respectively. \n",
    "\n",
    "Run the cell afterwards to check if you did this correctly."
   ]
  },
  {
   "cell_type": "code",
   "execution_count": null,
   "metadata": {},
   "outputs": [],
   "source": [
    "## Your Code Here...\n",
    "\n",
    "bus = ...\n",
    "ins = ..."
   ]
  },
  {
   "cell_type": "code",
   "execution_count": null,
   "metadata": {},
   "outputs": [],
   "source": [
    "check('q1a', [bus, ins])"
   ]
  },
  {
   "cell_type": "code",
   "execution_count": null,
   "metadata": {},
   "outputs": [],
   "source": [
    "# delete cell\n",
    "bus = pd.read_csv('data/businesses.csv')\n",
    "ins = pd.read_csv('data/inspections.csv')"
   ]
  },
  {
   "cell_type": "markdown",
   "metadata": {},
   "source": [
    "Now that you've read in the files, let's try some `pd.DataFrame` methods ([docs](https://pandas.pydata.org/pandas-docs/version/0.21/generated/pandas.DataFrame.html)).\n",
    "We can use the `DataFrame.head` method to show the top few lines of the `bus` and `ins` dataframes. To show multiple return outputs in one single cell, you can use `display()`.\n",
    "\n",
    "Run the following cell to display the both data frames. "
   ]
  },
  {
   "cell_type": "code",
   "execution_count": null,
   "metadata": {},
   "outputs": [],
   "source": [
    "display(bus.head(), ins.head())"
   ]
  },
  {
   "cell_type": "markdown",
   "metadata": {},
   "source": [
    "You can also use the `DataFrame.describe` method to learn about the numeric columns of each dataframe. It can be handy for computing summaries of various statistics of our dataframes. \n",
    "\n",
    "Try it out with our two dataframes."
   ]
  },
  {
   "cell_type": "code",
   "execution_count": null,
   "metadata": {},
   "outputs": [],
   "source": [
    "# Try displaying the DataFrame.describe outputs for bus and ins\n",
    "\n",
    "## Your code here..."
   ]
  },
  {
   "cell_type": "code",
   "execution_count": null,
   "metadata": {},
   "outputs": [],
   "source": [
    "# delete this cell \n",
    "display(bus.describe(), ins.describe())"
   ]
  },
  {
   "cell_type": "markdown",
   "metadata": {},
   "source": [
    "From its name alone, we expect the `bus.csv` file to contain information about the restaurants. Let's do some Exploratory Data Analysis (EDA), and see if we can get a better understanding of the data. \n",
    "\n"
   ]
  },
  {
   "cell_type": "markdown",
   "metadata": {},
   "source": [
    "## Part 2: Exploring the Data"
   ]
  },
  {
   "cell_type": "markdown",
   "metadata": {},
   "source": [
    "In lab 3, we refered to the data in a column as an array. Another term that it can be called is a `Series`, which is just a fancier version of an array. \n",
    "\n",
    "The nice thing about Series' is that they have lots of [built in functions within them](https://pandas.pydata.org/docs/reference/api/pandas.Series.html) that are called methods. \n",
    "\n",
    "\n",
    "- The [`Series.unique`](https://pandas.pydata.org/docs/reference/api/pandas.Series.unique.html) method returns an array of all the unique entries inside of a Series. \n",
    "\n",
    "- The [`Series.value_counts`](https://pandas.pydata.org/docs/reference/api/pandas.Series.value_counts.html) method returns a new series that lists the number of occurencies of each unique element in a Series. \n",
    "\n",
    "Read the documentation is you want a deeper look at these functions, you can also look at some examples of how they are used. "
   ]
  },
  {
   "cell_type": "markdown",
   "metadata": {},
   "source": [
    "### Question 2a:\n",
    "\n",
    "Notice that there are two different identifiers for businesses in our dataset, `bid` which is an identification number, as well as `name`. \n",
    "\n",
    "For both of these variables, figure out the number of unique entires, and assign them to `n_bus`, and `n_bid`."
   ]
  },
  {
   "cell_type": "code",
   "execution_count": null,
   "metadata": {},
   "outputs": [],
   "source": [
    "## Your Code Here...\n",
    "n_bus = ...\n",
    "n_bid = ...\n",
    "\n",
    "print(' Number of Unique Businesses: ', n_bus, \"\\n Number of Unique Business ID: \", n_bid)"
   ]
  },
  {
   "cell_type": "code",
   "execution_count": null,
   "metadata": {},
   "outputs": [],
   "source": [
    "#delete\n",
    "n_bid = len(bus['bid'].unique())\n",
    "n_bus = len(bus['name'].unique())\n",
    "\n",
    "print(' Number of Unique Businesses: ', n_bus, \"\\n Number of Unique Business ID: \", n_bid)"
   ]
  },
  {
   "cell_type": "code",
   "execution_count": null,
   "metadata": {},
   "outputs": [],
   "source": [
    "check('q2a', n_bus)"
   ]
  },
  {
   "cell_type": "markdown",
   "metadata": {},
   "source": [
    "Interesting. There are more unique `bid`'s than there are `name`'s. As you might have guessed, this is because there might be more than one location of a restaurant, yet both the `bid` and `name` can be used to identify restaurants. Since `bid` also distinguishes between the locations of a restaurant, we say `bid` is more _granular_ in data."
   ]
  },
  {
   "cell_type": "markdown",
   "metadata": {},
   "source": [
    "### Question 2b:\n",
    "\n",
    "Find the name of the restaurant with the most number of occurences in our dataset, and assign it's name as a string to `most_locations`. "
   ]
  },
  {
   "cell_type": "code",
   "execution_count": null,
   "metadata": {},
   "outputs": [],
   "source": [
    "#delete me\n",
    "bus['name'].value_counts() "
   ]
  },
  {
   "cell_type": "code",
   "execution_count": null,
   "metadata": {},
   "outputs": [],
   "source": [
    "## Your Answer Here...\n",
    "most_locations = ..."
   ]
  },
  {
   "cell_type": "code",
   "execution_count": null,
   "metadata": {},
   "outputs": [],
   "source": [
    "check('q2b', most_locations)"
   ]
  },
  {
   "cell_type": "markdown",
   "metadata": {},
   "source": [
    "### Question 2c:\n",
    "\n",
    "The cool thing about Series is that when you apply comparison operators to them, it does it for each entry in the Series. Figure out how many restaurants chains have more than one location, and assign that to `num_mult_locations`. \n",
    "\n",
    "_Hint: Remember that True and 1 and the same. First try getting a series of booleans and then use that to find the number of locations._"
   ]
  },
  {
   "cell_type": "code",
   "execution_count": null,
   "metadata": {},
   "outputs": [],
   "source": [
    "## Your Code Here... \n",
    "num_mult_locations = ..."
   ]
  },
  {
   "cell_type": "code",
   "execution_count": null,
   "metadata": {},
   "outputs": [],
   "source": [
    "check('q2c', num_mult_locations)"
   ]
  },
  {
   "cell_type": "markdown",
   "metadata": {},
   "source": [
    "You can also use other comparisons to return a series of booleans, refer to Lecture 2 for a list of comparison operators. This is very useful for filtering data from dataframes, which we shall do in the next problem."
   ]
  },
  {
   "cell_type": "markdown",
   "metadata": {},
   "source": [
    "### Part 3: Exploring the Data (cont.)\n",
    "\n",
    "So far, you've had a chance to select and analyze data from a single column of a dataframe. This is useful when we want to analyze information accross the observations we have (for example, accross all restaurants in our dataset). Often times we also want only consider a certain subset of our observations (for example only selecting the Italian restaurants). \n",
    "\n",
    "There are [many ways to select subsets of data](https://pandas.pydata.org/docs/user_guide/indexing.html), but we will focus on boolean-indexing. \n",
    "\n",
    "\n",
    "Let's walk through a short little example:"
   ]
  },
  {
   "cell_type": "code",
   "execution_count": null,
   "metadata": {},
   "outputs": [],
   "source": [
    "# Output data frame for convenience\n",
    "bus.head()"
   ]
  },
  {
   "cell_type": "markdown",
   "metadata": {},
   "source": [
    "Say I really liked _Burma Superstar_ and want all other restaurants with `type == 'Burmese'`. \n",
    "\n",
    "First, I can extract the `type` column as a Series, similarly to how we have done in Lab 3."
   ]
  },
  {
   "cell_type": "code",
   "execution_count": null,
   "metadata": {},
   "outputs": [],
   "source": [
    "# Just run this cell\n",
    "types = bus['type']\n",
    "types\n"
   ]
  },
  {
   "cell_type": "markdown",
   "metadata": {},
   "source": [
    "You'll notice that on the left of the Series output, there are numbers that each correspond to a specific level of price. This is called the index, and it corresponds to the index (also on the left) in the `bus` dataframe. \n",
    "\n",
    "_Indices don't have to be in ascending order, and they also do not have to be numbers either, but more on this later._\n",
    "\n",
    "Next, like in part 2c, I can use a comparison operator to find all indices that are equal to `'Burmese'`"
   ]
  },
  {
   "cell_type": "code",
   "execution_count": null,
   "metadata": {},
   "outputs": [],
   "source": [
    "burmese = types == 'Burmese'\n",
    "burmese"
   ]
  },
  {
   "cell_type": "markdown",
   "metadata": {},
   "source": [
    "_Burma Superstar_, in index position 1 returns true, as expected. We can now use this Series to index into the `bus` dataframe. Rows that correspond `True` indices in the \"indexer\" will be kept, and all falses will be dropped. This will not change the original `bus` dataframe, so we have to reassign it to a new variable if we want to keep using it. \n"
   ]
  },
  {
   "cell_type": "code",
   "execution_count": null,
   "metadata": {},
   "outputs": [],
   "source": [
    "burmese_restaurants = bus[burmese]\n",
    "burmese_restaurants"
   ]
  },
  {
   "cell_type": "markdown",
   "metadata": {},
   "source": [
    "We walked through it step by step, but this can be done in one line as follows:\n"
   ]
  },
  {
   "cell_type": "code",
   "execution_count": null,
   "metadata": {},
   "outputs": [],
   "source": [
    "burmese_restaurants = bus[bus['type'] == 'Burmese']\n",
    "burmese_restaurants"
   ]
  },
  {
   "cell_type": "markdown",
   "metadata": {},
   "source": [
    "### Question 3a:\n",
    "\n",
    "Using boolean-indexing, create a new dataframe that only contains the rows in `bus` for the restaurant you found in part 2b (the string you assigned to `most_locations`) and assign it to `most_locations_df`. \n"
   ]
  },
  {
   "cell_type": "code",
   "execution_count": null,
   "metadata": {},
   "outputs": [],
   "source": [
    "## Your Code Here...\n",
    "most_locations_df = ..."
   ]
  },
  {
   "cell_type": "code",
   "execution_count": null,
   "metadata": {},
   "outputs": [],
   "source": [
    "check('q3a', most_locations_df)"
   ]
  },
  {
   "cell_type": "markdown",
   "metadata": {},
   "source": [
    "We can also do more complicated selects over multiple different columns. As we've mentioned, the syntax in Python is very similar to English. \n",
    "\n",
    "Say I wanted to find restaurants that were both `type == 'Chinese'` AND had `price == '$$'`. The syntax would be exactly that! \n",
    "\n",
    "One finicky note however is that you cannot use `and` or `or`, instead you use the ampersand `&` and the pipe symbol `|` respectively."
   ]
  },
  {
   "cell_type": "code",
   "execution_count": null,
   "metadata": {},
   "outputs": [],
   "source": [
    "# run this cell and see what it does\n",
    "chinese_2 = bus[(bus['type'] == 'Chinese') & (bus['price'] == '$$')]\n",
    "chinese_2"
   ]
  },
  {
   "cell_type": "markdown",
   "metadata": {},
   "source": [
    "### Question 3b: \n",
    "\n",
    "Create a dataframe that contains all restaurants that have a less than 4.0 rating and more than 1,000 reviews. Then, using this subset, figure out how many restaurants are each of the four price categoreies ('$', '$$', '$$$', and '$$$$') and assign it as a Series to the variable `q3b`. \n",
    "\n",
    "Your answer should have the indices be the corresponding price categories, and the counts of each categories as the values for each index. \n"
   ]
  },
  {
   "cell_type": "code",
   "execution_count": null,
   "metadata": {},
   "outputs": [],
   "source": [
    "## Your Code Here...\n",
    "\n",
    "q3b = ..."
   ]
  },
  {
   "cell_type": "code",
   "execution_count": null,
   "metadata": {},
   "outputs": [],
   "source": [
    "check('q3b', q3b)"
   ]
  },
  {
   "cell_type": "markdown",
   "metadata": {},
   "source": [
    "### Question 3c:\n",
    "\n",
    "You might have noticed that some of the longitude and latitude data is -9999. This is typically a way to indicate that the data is missing when dealing with numerical data instead of just leaving the space blank. \n",
    "\n",
    "#### Part 1:"
   ]
  },
  {
   "cell_type": "markdown",
   "metadata": {},
   "source": [
    "Filter out the data that has missing coordinate data from `bus` and assign it to the dataframe `bus_coords`. "
   ]
  },
  {
   "cell_type": "code",
   "execution_count": null,
   "metadata": {},
   "outputs": [],
   "source": [
    "## Your Code Here...\n",
    "\n",
    "bus_coords = ...\n",
    "bus_coords"
   ]
  },
  {
   "cell_type": "code",
   "execution_count": null,
   "metadata": {},
   "outputs": [],
   "source": [
    "bus_coords = bus[(bus['latitude'] != -9999) & (bus['longitude'] != -9999)]"
   ]
  },
  {
   "cell_type": "code",
   "execution_count": null,
   "metadata": {},
   "outputs": [],
   "source": [
    "check('q3c1', bus_coords)"
   ]
  },
  {
   "cell_type": "markdown",
   "metadata": {},
   "source": [
    "#### Part 2\n",
    "\n",
    "Next, we'll use a new package called Seaborn to plot the coordinates on a graph. The cool thing about Seaborn is that it allows for easy way to encode new information to aspects of the plot, like color! \n",
    "\n",
    "We've imported Seaborn for you, and made a basic plot of all the restaurants using the `scatterplot` function, and coded their `review_count` into the color of each point. Take a look at the [documentation](https://seaborn.pydata.org/generated/seaborn.scatterplot.html) and have some fun plotting data from the `bus_location` dataframe."
   ]
  },
  {
   "cell_type": "code",
   "execution_count": null,
   "metadata": {},
   "outputs": [],
   "source": [
    "# A little example\n",
    "import seaborn as sns\n",
    "\n",
    "sns.scatterplot(data = bus_coords, \n",
    "                x = 'latitude', \n",
    "                y = 'longitude', \n",
    "                hue = 'review_count')"
   ]
  },
  {
   "cell_type": "markdown",
   "metadata": {},
   "source": [
    "Some potential ideas:\n",
    "- Look at the distributions of some select cuisines, are they clustered around each other? (Probably subset the data before plotting)\n",
    "- Plot the locations of highly rated restaurants, and encode the size of each data point to the correspoding price rating \n",
    "- Encode the rating to the color of the data, and see if things are clustered together! \n",
    "\n",
    "\n",
    "Feel free to implement one of the ideas above, or try something new. \n",
    "\n",
    "Create your graph in the following code cell, and write down your findings as a comment in the same cell! "
   ]
  },
  {
   "cell_type": "code",
   "execution_count": 61,
   "metadata": {},
   "outputs": [],
   "source": [
    "## Your Code Here\n",
    "\n",
    "\n",
    "\n",
    "## Write down your discoveries as a comment! "
   ]
  },
  {
   "cell_type": "markdown",
   "metadata": {},
   "source": [
    "# 2. Health Inspection Data\n",
    "\n",
    "In this next section, we're going to merge the health inspection data with our business data. We will be doing some more statistics in this part in addition to exploring the data. "
   ]
  },
  {
   "cell_type": "code",
   "execution_count": 64,
   "metadata": {},
   "outputs": [
    {
     "data": {
      "text/html": [
       "<div>\n",
       "<style scoped>\n",
       "    .dataframe tbody tr th:only-of-type {\n",
       "        vertical-align: middle;\n",
       "    }\n",
       "\n",
       "    .dataframe tbody tr th {\n",
       "        vertical-align: top;\n",
       "    }\n",
       "\n",
       "    .dataframe thead th {\n",
       "        text-align: right;\n",
       "    }\n",
       "</style>\n",
       "<table border=\"1\" class=\"dataframe\">\n",
       "  <thead>\n",
       "    <tr style=\"text-align: right;\">\n",
       "      <th></th>\n",
       "      <th>iid</th>\n",
       "      <th>date</th>\n",
       "      <th>score</th>\n",
       "      <th>type</th>\n",
       "      <th>bid</th>\n",
       "      <th>timestamp</th>\n",
       "      <th>year</th>\n",
       "    </tr>\n",
       "  </thead>\n",
       "  <tbody>\n",
       "    <tr>\n",
       "      <th>0</th>\n",
       "      <td>100504_20190411</td>\n",
       "      <td>04/11/2019 12:00:00 AM</td>\n",
       "      <td>88</td>\n",
       "      <td>Routine - Unscheduled</td>\n",
       "      <td>100504</td>\n",
       "      <td>2019-04-11</td>\n",
       "      <td>2019</td>\n",
       "    </tr>\n",
       "    <tr>\n",
       "      <th>1</th>\n",
       "      <td>100504_20190619</td>\n",
       "      <td>06/19/2019 12:00:00 AM</td>\n",
       "      <td>-1</td>\n",
       "      <td>New Ownership</td>\n",
       "      <td>100504</td>\n",
       "      <td>2019-06-19</td>\n",
       "      <td>2019</td>\n",
       "    </tr>\n",
       "    <tr>\n",
       "      <th>2</th>\n",
       "      <td>100504_20190927</td>\n",
       "      <td>09/27/2019 12:00:00 AM</td>\n",
       "      <td>-1</td>\n",
       "      <td>Reinspection/Followup</td>\n",
       "      <td>100504</td>\n",
       "      <td>2019-09-27</td>\n",
       "      <td>2019</td>\n",
       "    </tr>\n",
       "    <tr>\n",
       "      <th>3</th>\n",
       "      <td>100992_20190517</td>\n",
       "      <td>05/17/2019 12:00:00 AM</td>\n",
       "      <td>-1</td>\n",
       "      <td>Non-inspection site visit</td>\n",
       "      <td>100992</td>\n",
       "      <td>2019-05-17</td>\n",
       "      <td>2019</td>\n",
       "    </tr>\n",
       "    <tr>\n",
       "      <th>4</th>\n",
       "      <td>100992_20190621</td>\n",
       "      <td>06/21/2019 12:00:00 AM</td>\n",
       "      <td>-1</td>\n",
       "      <td>New Ownership</td>\n",
       "      <td>100992</td>\n",
       "      <td>2019-06-21</td>\n",
       "      <td>2019</td>\n",
       "    </tr>\n",
       "  </tbody>\n",
       "</table>\n",
       "</div>"
      ],
      "text/plain": [
       "               iid                    date  score                       type  \\\n",
       "0  100504_20190411  04/11/2019 12:00:00 AM     88      Routine - Unscheduled   \n",
       "1  100504_20190619  06/19/2019 12:00:00 AM     -1              New Ownership   \n",
       "2  100504_20190927  09/27/2019 12:00:00 AM     -1      Reinspection/Followup   \n",
       "3  100992_20190517  05/17/2019 12:00:00 AM     -1  Non-inspection site visit   \n",
       "4  100992_20190621  06/21/2019 12:00:00 AM     -1              New Ownership   \n",
       "\n",
       "      bid   timestamp  year  \n",
       "0  100504  2019-04-11  2019  \n",
       "1  100504  2019-06-19  2019  \n",
       "2  100504  2019-09-27  2019  \n",
       "3  100992  2019-05-17  2019  \n",
       "4  100992  2019-06-21  2019  "
      ]
     },
     "execution_count": 64,
     "metadata": {},
     "output_type": "execute_result"
    }
   ],
   "source": [
    "ins.head()"
   ]
  },
  {
   "cell_type": "markdown",
   "metadata": {},
   "source": [
    "Let's examine the inspection scores `ins['score']`"
   ]
  },
  {
   "cell_type": "code",
   "execution_count": 63,
   "metadata": {},
   "outputs": [
    {
     "data": {
      "text/plain": [
       "-1     1410\n",
       " 96     193\n",
       " 90     177\n",
       " 94     160\n",
       " 92     148\n",
       "Name: score, dtype: int64"
      ]
     },
     "execution_count": 63,
     "metadata": {},
     "output_type": "execute_result"
    }
   ],
   "source": [
    "ins['score'].value_counts().head()"
   ]
  },
  {
   "cell_type": "markdown",
   "metadata": {},
   "source": [
    "It looks like there are a lot of inspections with the `'score'` of `-1`. In fact, only health inspections of the 'Routine - Unscheduled' type are scored. \n",
    "\n",
    "In the following cell, we used the [`merge`](https://pandas.pydata.org/docs/reference/api/pandas.DataFrame.merge.html) function from pandas to join the inspection data with the business data. You don't know to know how it works, but if you're curious read more in the documentation. The merged datafram is called `ins_named`"
   ]
  },
  {
   "cell_type": "code",
   "execution_count": 66,
   "metadata": {},
   "outputs": [
    {
     "data": {
      "text/html": [
       "<div>\n",
       "<style scoped>\n",
       "    .dataframe tbody tr th:only-of-type {\n",
       "        vertical-align: middle;\n",
       "    }\n",
       "\n",
       "    .dataframe tbody tr th {\n",
       "        vertical-align: top;\n",
       "    }\n",
       "\n",
       "    .dataframe thead th {\n",
       "        text-align: right;\n",
       "    }\n",
       "</style>\n",
       "<table border=\"1\" class=\"dataframe\">\n",
       "  <thead>\n",
       "    <tr style=\"text-align: right;\">\n",
       "      <th></th>\n",
       "      <th>iid</th>\n",
       "      <th>date</th>\n",
       "      <th>score</th>\n",
       "      <th>type_x</th>\n",
       "      <th>bid</th>\n",
       "      <th>timestamp</th>\n",
       "      <th>year</th>\n",
       "      <th>name</th>\n",
       "      <th>display_address</th>\n",
       "      <th>type_y</th>\n",
       "      <th>rating</th>\n",
       "      <th>review_count</th>\n",
       "      <th>price</th>\n",
       "      <th>latitude</th>\n",
       "      <th>longitude</th>\n",
       "    </tr>\n",
       "  </thead>\n",
       "  <tbody>\n",
       "    <tr>\n",
       "      <th>0</th>\n",
       "      <td>100504_20190411</td>\n",
       "      <td>04/11/2019 12:00:00 AM</td>\n",
       "      <td>88</td>\n",
       "      <td>Routine - Unscheduled</td>\n",
       "      <td>100504</td>\n",
       "      <td>2019-04-11</td>\n",
       "      <td>2019</td>\n",
       "      <td>Holy Gelato!</td>\n",
       "      <td>1392 9th Ave, San Francisco, CA 94122</td>\n",
       "      <td>Gelato</td>\n",
       "      <td>4.65</td>\n",
       "      <td>1100</td>\n",
       "      <td>$$</td>\n",
       "      <td>-9999.0</td>\n",
       "      <td>-9999.0</td>\n",
       "    </tr>\n",
       "    <tr>\n",
       "      <th>1</th>\n",
       "      <td>100504_20190619</td>\n",
       "      <td>06/19/2019 12:00:00 AM</td>\n",
       "      <td>-1</td>\n",
       "      <td>New Ownership</td>\n",
       "      <td>100504</td>\n",
       "      <td>2019-06-19</td>\n",
       "      <td>2019</td>\n",
       "      <td>Holy Gelato!</td>\n",
       "      <td>1392 9th Ave, San Francisco, CA 94122</td>\n",
       "      <td>Gelato</td>\n",
       "      <td>4.65</td>\n",
       "      <td>1100</td>\n",
       "      <td>$$</td>\n",
       "      <td>-9999.0</td>\n",
       "      <td>-9999.0</td>\n",
       "    </tr>\n",
       "    <tr>\n",
       "      <th>2</th>\n",
       "      <td>100504_20190927</td>\n",
       "      <td>09/27/2019 12:00:00 AM</td>\n",
       "      <td>-1</td>\n",
       "      <td>Reinspection/Followup</td>\n",
       "      <td>100504</td>\n",
       "      <td>2019-09-27</td>\n",
       "      <td>2019</td>\n",
       "      <td>Holy Gelato!</td>\n",
       "      <td>1392 9th Ave, San Francisco, CA 94122</td>\n",
       "      <td>Gelato</td>\n",
       "      <td>4.65</td>\n",
       "      <td>1100</td>\n",
       "      <td>$$</td>\n",
       "      <td>-9999.0</td>\n",
       "      <td>-9999.0</td>\n",
       "    </tr>\n",
       "    <tr>\n",
       "      <th>3</th>\n",
       "      <td>100992_20190517</td>\n",
       "      <td>05/17/2019 12:00:00 AM</td>\n",
       "      <td>-1</td>\n",
       "      <td>Non-inspection site visit</td>\n",
       "      <td>100992</td>\n",
       "      <td>2019-05-17</td>\n",
       "      <td>2019</td>\n",
       "      <td>District Tea</td>\n",
       "      <td>2154 Mission St, San Francisco, CA 94110</td>\n",
       "      <td>Bubble Tea</td>\n",
       "      <td>4.62</td>\n",
       "      <td>324</td>\n",
       "      <td>$$</td>\n",
       "      <td>-9999.0</td>\n",
       "      <td>-9999.0</td>\n",
       "    </tr>\n",
       "    <tr>\n",
       "      <th>4</th>\n",
       "      <td>100992_20190621</td>\n",
       "      <td>06/21/2019 12:00:00 AM</td>\n",
       "      <td>-1</td>\n",
       "      <td>New Ownership</td>\n",
       "      <td>100992</td>\n",
       "      <td>2019-06-21</td>\n",
       "      <td>2019</td>\n",
       "      <td>District Tea</td>\n",
       "      <td>2154 Mission St, San Francisco, CA 94110</td>\n",
       "      <td>Bubble Tea</td>\n",
       "      <td>4.62</td>\n",
       "      <td>324</td>\n",
       "      <td>$$</td>\n",
       "      <td>-9999.0</td>\n",
       "      <td>-9999.0</td>\n",
       "    </tr>\n",
       "  </tbody>\n",
       "</table>\n",
       "</div>"
      ],
      "text/plain": [
       "               iid                    date  score                     type_x  \\\n",
       "0  100504_20190411  04/11/2019 12:00:00 AM     88      Routine - Unscheduled   \n",
       "1  100504_20190619  06/19/2019 12:00:00 AM     -1              New Ownership   \n",
       "2  100504_20190927  09/27/2019 12:00:00 AM     -1      Reinspection/Followup   \n",
       "3  100992_20190517  05/17/2019 12:00:00 AM     -1  Non-inspection site visit   \n",
       "4  100992_20190621  06/21/2019 12:00:00 AM     -1              New Ownership   \n",
       "\n",
       "      bid   timestamp  year          name  \\\n",
       "0  100504  2019-04-11  2019  Holy Gelato!   \n",
       "1  100504  2019-06-19  2019  Holy Gelato!   \n",
       "2  100504  2019-09-27  2019  Holy Gelato!   \n",
       "3  100992  2019-05-17  2019  District Tea   \n",
       "4  100992  2019-06-21  2019  District Tea   \n",
       "\n",
       "                            display_address      type_y  rating  review_count  \\\n",
       "0     1392 9th Ave, San Francisco, CA 94122      Gelato    4.65          1100   \n",
       "1     1392 9th Ave, San Francisco, CA 94122      Gelato    4.65          1100   \n",
       "2     1392 9th Ave, San Francisco, CA 94122      Gelato    4.65          1100   \n",
       "3  2154 Mission St, San Francisco, CA 94110  Bubble Tea    4.62           324   \n",
       "4  2154 Mission St, San Francisco, CA 94110  Bubble Tea    4.62           324   \n",
       "\n",
       "  price  latitude  longitude  \n",
       "0    $$   -9999.0    -9999.0  \n",
       "1    $$   -9999.0    -9999.0  \n",
       "2    $$   -9999.0    -9999.0  \n",
       "3    $$   -9999.0    -9999.0  \n",
       "4    $$   -9999.0    -9999.0  "
      ]
     },
     "execution_count": 66,
     "metadata": {},
     "output_type": "execute_result"
    }
   ],
   "source": [
    "ins_named = ins.merge(right = bus, how = 'inner', on = 'bid')\n",
    "ins_named.head()"
   ]
  },
  {
   "cell_type": "markdown",
   "metadata": {},
   "source": [
    "### Question 4a:\n",
    "Filter out the non-Routine Unscheduled inspections and assign it to the variable, `scores`."
   ]
  },
  {
   "cell_type": "code",
   "execution_count": 78,
   "metadata": {},
   "outputs": [
    {
     "data": {
      "text/plain": [
       "Ellipsis"
      ]
     },
     "execution_count": 78,
     "metadata": {},
     "output_type": "execute_result"
    }
   ],
   "source": [
    "## You code here...\n",
    "\n",
    "scores = ...\n",
    "scores\n",
    "\n"
   ]
  },
  {
   "cell_type": "code",
   "execution_count": 79,
   "metadata": {},
   "outputs": [],
   "source": [
    "check('q4a', scores)"
   ]
  },
  {
   "cell_type": "markdown",
   "metadata": {},
   "source": [
    "### Question 4b: \n",
    "\n",
    "#### Part 1:\n",
    "Next, plot a bar chart of distribution of scores. There should be a bar for each of the discrete scores (a histogram would mask the details of the distribution)\n"
   ]
  },
  {
   "cell_type": "code",
   "execution_count": null,
   "metadata": {},
   "outputs": [],
   "source": [
    "## Your Code Here...."
   ]
  },
  {
   "cell_type": "markdown",
   "metadata": {},
   "source": [
    "#### Part 2:\n",
    "\n",
    "Describe the qualities of the distribution of the inspection scores based on your histogram. Consider the skewness, the mean, the median, or any anomalous values. Are they any unusual features about this distribution? "
   ]
  },
  {
   "cell_type": "markdown",
   "metadata": {},
   "source": [
    "_Write your answer in this cell:_"
   ]
  },
  {
   "cell_type": "markdown",
   "metadata": {},
   "source": [
    "### Question 4c: \n",
    "\n",
    "Let's figure out which restaurant had the worst score in our sample of data. Use `ins_named` to find the lowest score.\n",
    "\n",
    "A method that might be useful is [`DataFrame.sort_values`](https://pandas.pydata.org/docs/reference/api/pandas.DataFrame.sort_values.html). \n",
    "\n",
    "Then assign the name of the worst restaurant to `worst_restaurant`"
   ]
  },
  {
   "cell_type": "code",
   "execution_count": 68,
   "metadata": {},
   "outputs": [
    {
     "data": {
      "text/plain": [
       "Ellipsis"
      ]
     },
     "execution_count": 68,
     "metadata": {},
     "output_type": "execute_result"
    }
   ],
   "source": [
    "## Your Code Here...\n",
    "\n",
    "worst_restaurant = ...\n",
    "worst_restaurant"
   ]
  },
  {
   "cell_type": "code",
   "execution_count": 69,
   "metadata": {},
   "outputs": [],
   "source": [
    "check('q4c', worst_restaurant)"
   ]
  },
  {
   "cell_type": "markdown",
   "metadata": {},
   "source": [
    "### Question 4d: \n",
    "\n",
    "Let's see which restaurant has had the most extreme improvement in its health inspection rating, aka scores. Let the \"swing\" of a restaurant be defined as the difference between its highest-ever and lowest-ever rating. **Only consider restaurants with at least 3 ratings, aka rated for at least 3 times (3 scores)!** \n",
    "\n",
    "*Note*: The \"swing\" is of a specific business. There might be some restaurants with multiple locations; each location has its own \"swing\"."
   ]
  },
  {
   "cell_type": "markdown",
   "metadata": {},
   "source": [
    "#### Part 1:\n",
    "\n",
    "First, assign the Series of unique restaurant `bid`'s with more than three health ratings to the variable `unique_bids`. "
   ]
  },
  {
   "cell_type": "code",
   "execution_count": 77,
   "metadata": {},
   "outputs": [
    {
     "data": {
      "text/plain": [
       "Ellipsis"
      ]
     },
     "execution_count": 77,
     "metadata": {},
     "output_type": "execute_result"
    }
   ],
   "source": [
    "## Your Code Here...\n",
    "unique_bids = ...\n",
    "unique_bids"
   ]
  },
  {
   "cell_type": "markdown",
   "metadata": {},
   "source": [
    "### Part 2: \n",
    "\n",
    "Next, make a for loop that loops through all of the `unique_bids`. In each iteration of the loop, you should create a subset of `scores`, then calculate the swing for that bid and append it to the list `swings`, which we have created for you. \n",
    "\n",
    "After running your code, you should have an array of numbers that represents the swing of each `bid` in the order of `unique_bids`. \n",
    "\n",
    "_Hint: you can use `list.append(x)` to append a number `x` to a list._\n"
   ]
  },
  {
   "cell_type": "code",
   "execution_count": 85,
   "metadata": {},
   "outputs": [],
   "source": [
    "swings = []\n",
    "\n",
    "## Your Code Here...\n",
    "\n"
   ]
  },
  {
   "cell_type": "code",
   "execution_count": 84,
   "metadata": {},
   "outputs": [],
   "source": [
    "check('q4d2', swings)"
   ]
  },
  {
   "cell_type": "markdown",
   "metadata": {},
   "source": [
    "In the following cell, we've made a new dataframe for you that combines `unique_bids` and `swings`, called `swings_df`."
   ]
  },
  {
   "cell_type": "code",
   "execution_count": 86,
   "metadata": {},
   "outputs": [
    {
     "data": {
      "text/html": [
       "<div>\n",
       "<style scoped>\n",
       "    .dataframe tbody tr th:only-of-type {\n",
       "        vertical-align: middle;\n",
       "    }\n",
       "\n",
       "    .dataframe tbody tr th {\n",
       "        vertical-align: top;\n",
       "    }\n",
       "\n",
       "    .dataframe thead th {\n",
       "        text-align: right;\n",
       "    }\n",
       "</style>\n",
       "<table border=\"1\" class=\"dataframe\">\n",
       "  <thead>\n",
       "    <tr style=\"text-align: right;\">\n",
       "      <th></th>\n",
       "      <th>bid</th>\n",
       "      <th>swing</th>\n",
       "    </tr>\n",
       "  </thead>\n",
       "  <tbody>\n",
       "  </tbody>\n",
       "</table>\n",
       "</div>"
      ],
      "text/plain": [
       "Empty DataFrame\n",
       "Columns: [bid, swing]\n",
       "Index: []"
      ]
     },
     "execution_count": 86,
     "metadata": {},
     "output_type": "execute_result"
    }
   ],
   "source": [
    "swings_df = pd.DataFrame({'bid':unique_bids, \"swing\":swings})\n",
    "swings_df"
   ]
  },
  {
   "cell_type": "code",
   "execution_count": null,
   "metadata": {},
   "outputs": [],
   "source": []
  }
 ],
 "metadata": {
  "kernelspec": {
   "display_name": "Python 3.8.8 ('base')",
   "language": "python",
   "name": "python3"
  },
  "language_info": {
   "codemirror_mode": {
    "name": "ipython",
    "version": 3
   },
   "file_extension": ".py",
   "mimetype": "text/x-python",
   "name": "python",
   "nbconvert_exporter": "python",
   "pygments_lexer": "ipython3",
   "version": "3.8.8"
  },
  "orig_nbformat": 4,
  "vscode": {
   "interpreter": {
    "hash": "2f39d6a9340f9094a15ae3206b3cb83be26c4819028e15d4b820076fd30a3721"
   }
  }
 },
 "nbformat": 4,
 "nbformat_minor": 2
}

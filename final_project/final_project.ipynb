{
 "cells": [
  {
   "cell_type": "markdown",
   "metadata": {},
   "source": [
    "# Final Project: Yelp and Food Safety\n",
    "#### Exploring the San Francisco Restaurant World\n",
    "\n",
    "In this project, we will investigate a subset of the restaurants and related information from them adapted from Yelp data located in San Francisco, California. You will first explore some of the data about the restaurants themselves, calculating some summary statistics and trying to figure out some patterns in the data. Next we will merge that with a list of health inspection scores and violations that have been [made available by the San Francisco Department of Public Health](https://data.sfgov.org/Health-and-Social-Services/Restaurant-Scores-LIVES-Standard/pyih-qa8i). Lastly, we will run some linear regression analysis to see if there is any meaningful relationships in the data. \n",
    "\n",
    "\n",
    "If you have any questions or get stuck or anything, feel free to come to office hours. \n",
    "\n",
    "**Helpful Resource:**\n",
    "\n",
    "* [Python Reference](https://docs.google.com/document/d/1zpTTl47NoGf2A3_oE1YusLyb-cF2sZMALdCMM5dpYIA/edit): Cheat sheet for Python and other functions used in this course\n",
    "\n",
    "\n",
    "To get started on the final project, first run the following cell to import some necessary packages, and have fun! \n"
   ]
  },
  {
   "cell_type": "code",
   "execution_count": 1,
   "metadata": {},
   "outputs": [],
   "source": [
    "# importing some helful libraries\n",
    "import pandas as pd\n",
    "import numpy as np\n",
    "from functions import * \n",
    "\n",
    "# downloading necessary data \n",
    "\n",
    "# !wget \n",
    "\n",
    "from project_helper import * \n",
    "\n",
    "def check(*args):\n",
    "    return None"
   ]
  },
  {
   "cell_type": "code",
   "execution_count": null,
   "metadata": {},
   "outputs": [],
   "source": []
  },
  {
   "cell_type": "markdown",
   "metadata": {},
   "source": [
    "# **1. San Francisco Restaurant Data**\n",
    "\n",
    "In this section you'll be learning a few extra useful features of _dataframes_, which we previously used in lab 3 as a way to managing data for analysis. \n",
    "\n",
    "As you might have noticed, the package we are using is called _Pandas_, which is the most commonly used package to clean and analyze data. You will learn some of the most important features of manipulating data using Pandas, and get a feel for exploring data using Python. "
   ]
  },
  {
   "cell_type": "markdown",
   "metadata": {},
   "source": [
    "## Part One: Loading the Data\n",
    "\n",
    "As mentioned in lecture, we can use Pandas to read many differe types of data format and read it into a table. The most common are `.csv` files, which stand for comma-separated-values. \n",
    "\n",
    "Run the following cell to download two `.csv` files that contain the data you will be working with in this project."
   ]
  },
  {
   "cell_type": "code",
   "execution_count": 2,
   "metadata": {},
   "outputs": [],
   "source": [
    "# !wget ... \n"
   ]
  },
  {
   "cell_type": "markdown",
   "metadata": {},
   "source": [
    "As a side note, when you reopen this project in Google Colab, your code will remain, however it will delete any files you downloaded in the previous session. Just a friendly reminder to rerun that cell block to download the files each time you restart Google Colab.\n"
   ]
  },
  {
   "cell_type": "markdown",
   "metadata": {},
   "source": [
    "\n",
    "### Question 1:\n",
    "\n",
    "Now, load the files, named `businesses.csv` and `inspections.csv` into Pandas dataframes named `bus`, and `ins` respectively. \n",
    "\n",
    "Run the cell afterwards to check if you did this correctly."
   ]
  },
  {
   "cell_type": "code",
   "execution_count": 3,
   "metadata": {},
   "outputs": [],
   "source": [
    "## Your Code Here...\n",
    "\n",
    "bus = ...\n",
    "ins = ..."
   ]
  },
  {
   "cell_type": "code",
   "execution_count": 4,
   "metadata": {},
   "outputs": [],
   "source": [
    "check('q1a', [bus, ins])"
   ]
  },
  {
   "cell_type": "code",
   "execution_count": 2,
   "metadata": {},
   "outputs": [],
   "source": [
    "# delete cell\n",
    "bus = pd.read_csv('data/businesses.csv')\n",
    "ins = pd.read_csv('data/inspections.csv')"
   ]
  },
  {
   "cell_type": "markdown",
   "metadata": {},
   "source": [
    "Now that you've read in the files, let's try some `pd.DataFrame` methods ([docs](https://pandas.pydata.org/pandas-docs/version/0.21/generated/pandas.DataFrame.html)).\n",
    "We can use the `DataFrame.head` method to show the top few lines of the `bus` and `ins` dataframes. To show multiple return outputs in one single cell, you can use `display()`.\n",
    "\n",
    "Run the following cell to display the both data frames. "
   ]
  },
  {
   "cell_type": "code",
   "execution_count": 6,
   "metadata": {},
   "outputs": [
    {
     "data": {
      "text/html": [
       "<div>\n",
       "<style scoped>\n",
       "    .dataframe tbody tr th:only-of-type {\n",
       "        vertical-align: middle;\n",
       "    }\n",
       "\n",
       "    .dataframe tbody tr th {\n",
       "        vertical-align: top;\n",
       "    }\n",
       "\n",
       "    .dataframe thead th {\n",
       "        text-align: right;\n",
       "    }\n",
       "</style>\n",
       "<table border=\"1\" class=\"dataframe\">\n",
       "  <thead>\n",
       "    <tr style=\"text-align: right;\">\n",
       "      <th></th>\n",
       "      <th>name</th>\n",
       "      <th>display_address</th>\n",
       "      <th>type</th>\n",
       "      <th>rating</th>\n",
       "      <th>review_count</th>\n",
       "      <th>price</th>\n",
       "      <th>latitude</th>\n",
       "      <th>longitude</th>\n",
       "      <th>bid</th>\n",
       "    </tr>\n",
       "  </thead>\n",
       "  <tbody>\n",
       "    <tr>\n",
       "      <th>0</th>\n",
       "      <td>House of Prime Rib</td>\n",
       "      <td>1906 Van Ness Ave, San Francisco, CA 94109</td>\n",
       "      <td>American (Traditional)</td>\n",
       "      <td>4.52</td>\n",
       "      <td>7912</td>\n",
       "      <td>$$$</td>\n",
       "      <td>37.793338</td>\n",
       "      <td>-122.422827</td>\n",
       "      <td>3350</td>\n",
       "    </tr>\n",
       "    <tr>\n",
       "      <th>1</th>\n",
       "      <td>Burma Superstar</td>\n",
       "      <td>309 Clement St, San Francisco, CA 94118</td>\n",
       "      <td>Burmese</td>\n",
       "      <td>4.69</td>\n",
       "      <td>7145</td>\n",
       "      <td>$$</td>\n",
       "      <td>37.783004</td>\n",
       "      <td>-122.462539</td>\n",
       "      <td>1977</td>\n",
       "    </tr>\n",
       "    <tr>\n",
       "      <th>2</th>\n",
       "      <td>B Patisserie</td>\n",
       "      <td>2821 California St, San Francisco, CA 94115</td>\n",
       "      <td>Bakeries</td>\n",
       "      <td>4.77</td>\n",
       "      <td>3006</td>\n",
       "      <td>$$</td>\n",
       "      <td>37.788014</td>\n",
       "      <td>-122.440756</td>\n",
       "      <td>71696</td>\n",
       "    </tr>\n",
       "    <tr>\n",
       "      <th>3</th>\n",
       "      <td>Kokkari Estiatorio</td>\n",
       "      <td>200 Jackson St, San Francisco, CA 94111</td>\n",
       "      <td>Greek</td>\n",
       "      <td>4.81</td>\n",
       "      <td>4843</td>\n",
       "      <td>$$$</td>\n",
       "      <td>37.796918</td>\n",
       "      <td>-122.399864</td>\n",
       "      <td>2858</td>\n",
       "    </tr>\n",
       "    <tr>\n",
       "      <th>4</th>\n",
       "      <td>San Tung</td>\n",
       "      <td>1031 Irving St, San Francisco, CA 94122</td>\n",
       "      <td>Chinese</td>\n",
       "      <td>4.58</td>\n",
       "      <td>7497</td>\n",
       "      <td>$$</td>\n",
       "      <td>37.763891</td>\n",
       "      <td>-122.468805</td>\n",
       "      <td>67330</td>\n",
       "    </tr>\n",
       "  </tbody>\n",
       "</table>\n",
       "</div>"
      ],
      "text/plain": [
       "                 name                              display_address  \\\n",
       "0  House of Prime Rib   1906 Van Ness Ave, San Francisco, CA 94109   \n",
       "1     Burma Superstar      309 Clement St, San Francisco, CA 94118   \n",
       "2        B Patisserie  2821 California St, San Francisco, CA 94115   \n",
       "3  Kokkari Estiatorio      200 Jackson St, San Francisco, CA 94111   \n",
       "4            San Tung      1031 Irving St, San Francisco, CA 94122   \n",
       "\n",
       "                     type  rating  review_count price   latitude   longitude  \\\n",
       "0  American (Traditional)    4.52          7912   $$$  37.793338 -122.422827   \n",
       "1                 Burmese    4.69          7145    $$  37.783004 -122.462539   \n",
       "2                Bakeries    4.77          3006    $$  37.788014 -122.440756   \n",
       "3                   Greek    4.81          4843   $$$  37.796918 -122.399864   \n",
       "4                 Chinese    4.58          7497    $$  37.763891 -122.468805   \n",
       "\n",
       "     bid  \n",
       "0   3350  \n",
       "1   1977  \n",
       "2  71696  \n",
       "3   2858  \n",
       "4  67330  "
      ]
     },
     "metadata": {},
     "output_type": "display_data"
    },
    {
     "data": {
      "text/html": [
       "<div>\n",
       "<style scoped>\n",
       "    .dataframe tbody tr th:only-of-type {\n",
       "        vertical-align: middle;\n",
       "    }\n",
       "\n",
       "    .dataframe tbody tr th {\n",
       "        vertical-align: top;\n",
       "    }\n",
       "\n",
       "    .dataframe thead th {\n",
       "        text-align: right;\n",
       "    }\n",
       "</style>\n",
       "<table border=\"1\" class=\"dataframe\">\n",
       "  <thead>\n",
       "    <tr style=\"text-align: right;\">\n",
       "      <th></th>\n",
       "      <th>iid</th>\n",
       "      <th>date</th>\n",
       "      <th>score</th>\n",
       "      <th>type</th>\n",
       "      <th>bid</th>\n",
       "      <th>timestamp</th>\n",
       "      <th>year</th>\n",
       "    </tr>\n",
       "  </thead>\n",
       "  <tbody>\n",
       "    <tr>\n",
       "      <th>0</th>\n",
       "      <td>100504_20190411</td>\n",
       "      <td>04/11/2019 12:00:00 AM</td>\n",
       "      <td>88</td>\n",
       "      <td>Routine - Unscheduled</td>\n",
       "      <td>100504</td>\n",
       "      <td>2019-04-11</td>\n",
       "      <td>2019</td>\n",
       "    </tr>\n",
       "    <tr>\n",
       "      <th>1</th>\n",
       "      <td>100504_20190619</td>\n",
       "      <td>06/19/2019 12:00:00 AM</td>\n",
       "      <td>-1</td>\n",
       "      <td>New Ownership</td>\n",
       "      <td>100504</td>\n",
       "      <td>2019-06-19</td>\n",
       "      <td>2019</td>\n",
       "    </tr>\n",
       "    <tr>\n",
       "      <th>2</th>\n",
       "      <td>100504_20190927</td>\n",
       "      <td>09/27/2019 12:00:00 AM</td>\n",
       "      <td>-1</td>\n",
       "      <td>Reinspection/Followup</td>\n",
       "      <td>100504</td>\n",
       "      <td>2019-09-27</td>\n",
       "      <td>2019</td>\n",
       "    </tr>\n",
       "    <tr>\n",
       "      <th>3</th>\n",
       "      <td>100992_20190517</td>\n",
       "      <td>05/17/2019 12:00:00 AM</td>\n",
       "      <td>-1</td>\n",
       "      <td>Non-inspection site visit</td>\n",
       "      <td>100992</td>\n",
       "      <td>2019-05-17</td>\n",
       "      <td>2019</td>\n",
       "    </tr>\n",
       "    <tr>\n",
       "      <th>4</th>\n",
       "      <td>100992_20190621</td>\n",
       "      <td>06/21/2019 12:00:00 AM</td>\n",
       "      <td>-1</td>\n",
       "      <td>New Ownership</td>\n",
       "      <td>100992</td>\n",
       "      <td>2019-06-21</td>\n",
       "      <td>2019</td>\n",
       "    </tr>\n",
       "  </tbody>\n",
       "</table>\n",
       "</div>"
      ],
      "text/plain": [
       "               iid                    date  score                       type  \\\n",
       "0  100504_20190411  04/11/2019 12:00:00 AM     88      Routine - Unscheduled   \n",
       "1  100504_20190619  06/19/2019 12:00:00 AM     -1              New Ownership   \n",
       "2  100504_20190927  09/27/2019 12:00:00 AM     -1      Reinspection/Followup   \n",
       "3  100992_20190517  05/17/2019 12:00:00 AM     -1  Non-inspection site visit   \n",
       "4  100992_20190621  06/21/2019 12:00:00 AM     -1              New Ownership   \n",
       "\n",
       "      bid   timestamp  year  \n",
       "0  100504  2019-04-11  2019  \n",
       "1  100504  2019-06-19  2019  \n",
       "2  100504  2019-09-27  2019  \n",
       "3  100992  2019-05-17  2019  \n",
       "4  100992  2019-06-21  2019  "
      ]
     },
     "metadata": {},
     "output_type": "display_data"
    }
   ],
   "source": [
    "display(bus.head(), ins.head())"
   ]
  },
  {
   "cell_type": "markdown",
   "metadata": {},
   "source": [
    "You can also use the `DataFrame.describe` method to learn about the numeric columns of each dataframe. It can be handy for computing summaries of various statistics of our dataframes. \n",
    "\n",
    "Try it out with our two dataframes."
   ]
  },
  {
   "cell_type": "code",
   "execution_count": 7,
   "metadata": {},
   "outputs": [],
   "source": [
    "# Try displaying the DataFrame.describe outputs for bus and ins\n",
    "\n",
    "## Your code here..."
   ]
  },
  {
   "cell_type": "code",
   "execution_count": 8,
   "metadata": {},
   "outputs": [
    {
     "data": {
      "text/html": [
       "<div>\n",
       "<style scoped>\n",
       "    .dataframe tbody tr th:only-of-type {\n",
       "        vertical-align: middle;\n",
       "    }\n",
       "\n",
       "    .dataframe tbody tr th {\n",
       "        vertical-align: top;\n",
       "    }\n",
       "\n",
       "    .dataframe thead th {\n",
       "        text-align: right;\n",
       "    }\n",
       "</style>\n",
       "<table border=\"1\" class=\"dataframe\">\n",
       "  <thead>\n",
       "    <tr style=\"text-align: right;\">\n",
       "      <th></th>\n",
       "      <th>rating</th>\n",
       "      <th>review_count</th>\n",
       "      <th>latitude</th>\n",
       "      <th>longitude</th>\n",
       "      <th>bid</th>\n",
       "    </tr>\n",
       "  </thead>\n",
       "  <tbody>\n",
       "    <tr>\n",
       "      <th>count</th>\n",
       "      <td>658.000000</td>\n",
       "      <td>658.000000</td>\n",
       "      <td>658.000000</td>\n",
       "      <td>658.000000</td>\n",
       "      <td>658.000000</td>\n",
       "    </tr>\n",
       "    <tr>\n",
       "      <th>mean</th>\n",
       "      <td>4.086611</td>\n",
       "      <td>1239.186930</td>\n",
       "      <td>-4645.035430</td>\n",
       "      <td>-4730.493422</td>\n",
       "      <td>55116.506079</td>\n",
       "    </tr>\n",
       "    <tr>\n",
       "      <th>std</th>\n",
       "      <td>0.408482</td>\n",
       "      <td>977.693558</td>\n",
       "      <td>5010.965175</td>\n",
       "      <td>4930.982011</td>\n",
       "      <td>34643.693046</td>\n",
       "    </tr>\n",
       "    <tr>\n",
       "      <th>min</th>\n",
       "      <td>2.880000</td>\n",
       "      <td>157.000000</td>\n",
       "      <td>-9999.000000</td>\n",
       "      <td>-9999.000000</td>\n",
       "      <td>31.000000</td>\n",
       "    </tr>\n",
       "    <tr>\n",
       "      <th>25%</th>\n",
       "      <td>3.790000</td>\n",
       "      <td>616.250000</td>\n",
       "      <td>-9999.000000</td>\n",
       "      <td>-9999.000000</td>\n",
       "      <td>15755.000000</td>\n",
       "    </tr>\n",
       "    <tr>\n",
       "      <th>50%</th>\n",
       "      <td>4.090000</td>\n",
       "      <td>966.000000</td>\n",
       "      <td>37.749223</td>\n",
       "      <td>-122.477503</td>\n",
       "      <td>68375.000000</td>\n",
       "    </tr>\n",
       "    <tr>\n",
       "      <th>75%</th>\n",
       "      <td>4.380000</td>\n",
       "      <td>1564.500000</td>\n",
       "      <td>37.782897</td>\n",
       "      <td>-122.420564</td>\n",
       "      <td>82940.500000</td>\n",
       "    </tr>\n",
       "    <tr>\n",
       "      <th>max</th>\n",
       "      <td>4.980000</td>\n",
       "      <td>7912.000000</td>\n",
       "      <td>37.807854</td>\n",
       "      <td>-122.388189</td>\n",
       "      <td>102398.000000</td>\n",
       "    </tr>\n",
       "  </tbody>\n",
       "</table>\n",
       "</div>"
      ],
      "text/plain": [
       "           rating  review_count     latitude    longitude            bid\n",
       "count  658.000000    658.000000   658.000000   658.000000     658.000000\n",
       "mean     4.086611   1239.186930 -4645.035430 -4730.493422   55116.506079\n",
       "std      0.408482    977.693558  5010.965175  4930.982011   34643.693046\n",
       "min      2.880000    157.000000 -9999.000000 -9999.000000      31.000000\n",
       "25%      3.790000    616.250000 -9999.000000 -9999.000000   15755.000000\n",
       "50%      4.090000    966.000000    37.749223  -122.477503   68375.000000\n",
       "75%      4.380000   1564.500000    37.782897  -122.420564   82940.500000\n",
       "max      4.980000   7912.000000    37.807854  -122.388189  102398.000000"
      ]
     },
     "metadata": {},
     "output_type": "display_data"
    },
    {
     "data": {
      "text/html": [
       "<div>\n",
       "<style scoped>\n",
       "    .dataframe tbody tr th:only-of-type {\n",
       "        vertical-align: middle;\n",
       "    }\n",
       "\n",
       "    .dataframe tbody tr th {\n",
       "        vertical-align: top;\n",
       "    }\n",
       "\n",
       "    .dataframe thead th {\n",
       "        text-align: right;\n",
       "    }\n",
       "</style>\n",
       "<table border=\"1\" class=\"dataframe\">\n",
       "  <thead>\n",
       "    <tr style=\"text-align: right;\">\n",
       "      <th></th>\n",
       "      <th>score</th>\n",
       "      <th>bid</th>\n",
       "      <th>year</th>\n",
       "    </tr>\n",
       "  </thead>\n",
       "  <tbody>\n",
       "    <tr>\n",
       "      <th>count</th>\n",
       "      <td>3056.000000</td>\n",
       "      <td>3056.000000</td>\n",
       "      <td>3056.000000</td>\n",
       "    </tr>\n",
       "    <tr>\n",
       "      <th>mean</th>\n",
       "      <td>47.749673</td>\n",
       "      <td>54402.915249</td>\n",
       "      <td>2017.900851</td>\n",
       "    </tr>\n",
       "    <tr>\n",
       "      <th>std</th>\n",
       "      <td>45.423231</td>\n",
       "      <td>34729.741573</td>\n",
       "      <td>0.922701</td>\n",
       "    </tr>\n",
       "    <tr>\n",
       "      <th>min</th>\n",
       "      <td>-1.000000</td>\n",
       "      <td>31.000000</td>\n",
       "      <td>2016.000000</td>\n",
       "    </tr>\n",
       "    <tr>\n",
       "      <th>25%</th>\n",
       "      <td>-1.000000</td>\n",
       "      <td>7786.000000</td>\n",
       "      <td>2017.000000</td>\n",
       "    </tr>\n",
       "    <tr>\n",
       "      <th>50%</th>\n",
       "      <td>78.000000</td>\n",
       "      <td>68394.000000</td>\n",
       "      <td>2018.000000</td>\n",
       "    </tr>\n",
       "    <tr>\n",
       "      <th>75%</th>\n",
       "      <td>90.000000</td>\n",
       "      <td>82909.000000</td>\n",
       "      <td>2019.000000</td>\n",
       "    </tr>\n",
       "    <tr>\n",
       "      <th>max</th>\n",
       "      <td>100.000000</td>\n",
       "      <td>102398.000000</td>\n",
       "      <td>2019.000000</td>\n",
       "    </tr>\n",
       "  </tbody>\n",
       "</table>\n",
       "</div>"
      ],
      "text/plain": [
       "             score            bid         year\n",
       "count  3056.000000    3056.000000  3056.000000\n",
       "mean     47.749673   54402.915249  2017.900851\n",
       "std      45.423231   34729.741573     0.922701\n",
       "min      -1.000000      31.000000  2016.000000\n",
       "25%      -1.000000    7786.000000  2017.000000\n",
       "50%      78.000000   68394.000000  2018.000000\n",
       "75%      90.000000   82909.000000  2019.000000\n",
       "max     100.000000  102398.000000  2019.000000"
      ]
     },
     "metadata": {},
     "output_type": "display_data"
    }
   ],
   "source": [
    "# delete this cell \n",
    "display(bus.describe(), ins.describe())"
   ]
  },
  {
   "cell_type": "markdown",
   "metadata": {},
   "source": [
    "From its name alone, we expect the `bus.csv` file to contain information about the restaurants. Let's do some Exploratory Data Analysis (EDA), and see if we can get a better understanding of the data. \n",
    "\n"
   ]
  },
  {
   "cell_type": "markdown",
   "metadata": {},
   "source": [
    "## Part 2: Exploring the Data"
   ]
  },
  {
   "cell_type": "markdown",
   "metadata": {},
   "source": [
    "In lab 3, we refered to the data in a column as an array. Another term that it can be called is a `Series`, which is just a fancier version of an array. \n",
    "\n",
    "The nice thing about Series' is that they have lots of [built in functions within them](https://pandas.pydata.org/docs/reference/api/pandas.Series.html) that are called methods. \n",
    "\n",
    "\n",
    "- The [`Series.unique`](https://pandas.pydata.org/docs/reference/api/pandas.Series.unique.html) method returns an array of all the unique entries inside of a Series. \n",
    "\n",
    "- The [`Series.value_counts`](https://pandas.pydata.org/docs/reference/api/pandas.Series.value_counts.html) method returns a new series that lists the number of occurencies of each unique element in a Series. \n",
    "\n",
    "Read the documentation is you want a deeper look at these functions, you can also look at some examples of how they are used. "
   ]
  },
  {
   "cell_type": "markdown",
   "metadata": {},
   "source": [
    "### Question 2a:\n",
    "\n",
    "Notice that there are two different identifiers for businesses in our dataset, `bid` which is an identification number, as well as `name`. \n",
    "\n",
    "For both of these variables, figure out the number of unique entires, and assign them to `n_bus`, and `n_bid`."
   ]
  },
  {
   "cell_type": "code",
   "execution_count": 9,
   "metadata": {},
   "outputs": [
    {
     "name": "stdout",
     "output_type": "stream",
     "text": [
      " Number of Unique Businesses:  Ellipsis \n",
      " Number of Unique Business ID:  Ellipsis\n"
     ]
    }
   ],
   "source": [
    "## Your Code Here...\n",
    "n_bus = ...\n",
    "n_bid = ...\n",
    "\n",
    "print(' Number of Unique Businesses: ', n_bus, \"\\n Number of Unique Business ID: \", n_bid)"
   ]
  },
  {
   "cell_type": "code",
   "execution_count": 10,
   "metadata": {},
   "outputs": [
    {
     "name": "stdout",
     "output_type": "stream",
     "text": [
      " Number of Unique Businesses:  607 \n",
      " Number of Unique Business ID:  658\n"
     ]
    }
   ],
   "source": [
    "#delete\n",
    "n_bid = len(bus['bid'].unique())\n",
    "n_bus = len(bus['name'].unique())\n",
    "\n",
    "print(' Number of Unique Businesses: ', n_bus, \"\\n Number of Unique Business ID: \", n_bid)"
   ]
  },
  {
   "cell_type": "code",
   "execution_count": 11,
   "metadata": {},
   "outputs": [],
   "source": [
    "check('q2a', n_bus)"
   ]
  },
  {
   "cell_type": "markdown",
   "metadata": {},
   "source": [
    "Interesting. There are more unique `bid`'s than there are `name`'s. As you might have guessed, this is because there might be more than one location of a restaurant, yet both the `bid` and `name` can be used to identify restaurants. Since `bid` also distinguishes between the locations of a restaurant, we say `bid` is more _granular_ in data."
   ]
  },
  {
   "cell_type": "markdown",
   "metadata": {},
   "source": [
    "### Question 2b:\n",
    "\n",
    "Find the name of the restaurant with the most number of occurences in our dataset, and assign it's name as a string to `most_locations`. "
   ]
  },
  {
   "cell_type": "code",
   "execution_count": 12,
   "metadata": {},
   "outputs": [
    {
     "data": {
      "text/plain": [
       "One Market Restaurant           9\n",
       "Philz Coffee                    5\n",
       "Cake Coquette                   5\n",
       "Tonga Room & Hurricane Club     4\n",
       "Bake Cheese Tart                4\n",
       "                               ..\n",
       "Manora's Thai Cuisine           1\n",
       "Sushi Goemon                    1\n",
       "Fifty / Fifty Coffee and Tea    1\n",
       "KUSAKABE                        1\n",
       "Wayo Sushi                      1\n",
       "Name: name, Length: 607, dtype: int64"
      ]
     },
     "execution_count": 12,
     "metadata": {},
     "output_type": "execute_result"
    }
   ],
   "source": [
    "#delete me\n",
    "bus['name'].value_counts() "
   ]
  },
  {
   "cell_type": "code",
   "execution_count": 13,
   "metadata": {},
   "outputs": [],
   "source": [
    "## Your Answer Here...\n",
    "most_locations = ..."
   ]
  },
  {
   "cell_type": "code",
   "execution_count": 14,
   "metadata": {},
   "outputs": [],
   "source": [
    "check('q2b', most_locations)"
   ]
  },
  {
   "cell_type": "markdown",
   "metadata": {},
   "source": [
    "### Question 2c:\n",
    "\n",
    "The cool thing about Series is that when you apply comparison operators to them, it does it for each entry in the Series. Figure out how many restaurants chains have more than one location, and assign that to `num_mult_locations`. \n",
    "\n",
    "_Hint: Remember that True and 1 and the same. First try getting a series of booleans and then use that to find the number of locations._"
   ]
  },
  {
   "cell_type": "code",
   "execution_count": 15,
   "metadata": {},
   "outputs": [],
   "source": [
    "## Your Code Here... \n",
    "num_mult_locations = ..."
   ]
  },
  {
   "cell_type": "code",
   "execution_count": null,
   "metadata": {},
   "outputs": [],
   "source": [
    "num_mult_locations = sum(series.value_counts() > 1)"
   ]
  },
  {
   "cell_type": "code",
   "execution_count": 16,
   "metadata": {},
   "outputs": [],
   "source": [
    "check('q2c', num_mult_locations)"
   ]
  },
  {
   "cell_type": "markdown",
   "metadata": {},
   "source": [
    "You can also use other comparisons to return a series of booleans, refer to Lecture 2 for a list of comparison operators. This is very useful for filtering data from dataframes, which we shall do in the next problem."
   ]
  },
  {
   "cell_type": "markdown",
   "metadata": {},
   "source": [
    "## Part 3: Exploring the Data (cont.)\n",
    "\n",
    "So far, you've had a chance to select and analyze data from a single column of a dataframe. This is useful when we want to analyze information accross the observations we have (for example, accross all restaurants in our dataset). Often times we also want only consider a certain subset of our observations (for example only selecting the Italian restaurants). \n",
    "\n",
    "There are [many ways to select subsets of data](https://pandas.pydata.org/docs/user_guide/indexing.html), but we will focus on boolean-indexing. \n",
    "\n",
    "\n",
    "Let's walk through a short little example:"
   ]
  },
  {
   "cell_type": "code",
   "execution_count": 17,
   "metadata": {},
   "outputs": [
    {
     "data": {
      "text/html": [
       "<div>\n",
       "<style scoped>\n",
       "    .dataframe tbody tr th:only-of-type {\n",
       "        vertical-align: middle;\n",
       "    }\n",
       "\n",
       "    .dataframe tbody tr th {\n",
       "        vertical-align: top;\n",
       "    }\n",
       "\n",
       "    .dataframe thead th {\n",
       "        text-align: right;\n",
       "    }\n",
       "</style>\n",
       "<table border=\"1\" class=\"dataframe\">\n",
       "  <thead>\n",
       "    <tr style=\"text-align: right;\">\n",
       "      <th></th>\n",
       "      <th>name</th>\n",
       "      <th>display_address</th>\n",
       "      <th>type</th>\n",
       "      <th>rating</th>\n",
       "      <th>review_count</th>\n",
       "      <th>price</th>\n",
       "      <th>latitude</th>\n",
       "      <th>longitude</th>\n",
       "      <th>bid</th>\n",
       "    </tr>\n",
       "  </thead>\n",
       "  <tbody>\n",
       "    <tr>\n",
       "      <th>0</th>\n",
       "      <td>House of Prime Rib</td>\n",
       "      <td>1906 Van Ness Ave, San Francisco, CA 94109</td>\n",
       "      <td>American (Traditional)</td>\n",
       "      <td>4.52</td>\n",
       "      <td>7912</td>\n",
       "      <td>$$$</td>\n",
       "      <td>37.793338</td>\n",
       "      <td>-122.422827</td>\n",
       "      <td>3350</td>\n",
       "    </tr>\n",
       "    <tr>\n",
       "      <th>1</th>\n",
       "      <td>Burma Superstar</td>\n",
       "      <td>309 Clement St, San Francisco, CA 94118</td>\n",
       "      <td>Burmese</td>\n",
       "      <td>4.69</td>\n",
       "      <td>7145</td>\n",
       "      <td>$$</td>\n",
       "      <td>37.783004</td>\n",
       "      <td>-122.462539</td>\n",
       "      <td>1977</td>\n",
       "    </tr>\n",
       "    <tr>\n",
       "      <th>2</th>\n",
       "      <td>B Patisserie</td>\n",
       "      <td>2821 California St, San Francisco, CA 94115</td>\n",
       "      <td>Bakeries</td>\n",
       "      <td>4.77</td>\n",
       "      <td>3006</td>\n",
       "      <td>$$</td>\n",
       "      <td>37.788014</td>\n",
       "      <td>-122.440756</td>\n",
       "      <td>71696</td>\n",
       "    </tr>\n",
       "    <tr>\n",
       "      <th>3</th>\n",
       "      <td>Kokkari Estiatorio</td>\n",
       "      <td>200 Jackson St, San Francisco, CA 94111</td>\n",
       "      <td>Greek</td>\n",
       "      <td>4.81</td>\n",
       "      <td>4843</td>\n",
       "      <td>$$$</td>\n",
       "      <td>37.796918</td>\n",
       "      <td>-122.399864</td>\n",
       "      <td>2858</td>\n",
       "    </tr>\n",
       "    <tr>\n",
       "      <th>4</th>\n",
       "      <td>San Tung</td>\n",
       "      <td>1031 Irving St, San Francisco, CA 94122</td>\n",
       "      <td>Chinese</td>\n",
       "      <td>4.58</td>\n",
       "      <td>7497</td>\n",
       "      <td>$$</td>\n",
       "      <td>37.763891</td>\n",
       "      <td>-122.468805</td>\n",
       "      <td>67330</td>\n",
       "    </tr>\n",
       "  </tbody>\n",
       "</table>\n",
       "</div>"
      ],
      "text/plain": [
       "                 name                              display_address  \\\n",
       "0  House of Prime Rib   1906 Van Ness Ave, San Francisco, CA 94109   \n",
       "1     Burma Superstar      309 Clement St, San Francisco, CA 94118   \n",
       "2        B Patisserie  2821 California St, San Francisco, CA 94115   \n",
       "3  Kokkari Estiatorio      200 Jackson St, San Francisco, CA 94111   \n",
       "4            San Tung      1031 Irving St, San Francisco, CA 94122   \n",
       "\n",
       "                     type  rating  review_count price   latitude   longitude  \\\n",
       "0  American (Traditional)    4.52          7912   $$$  37.793338 -122.422827   \n",
       "1                 Burmese    4.69          7145    $$  37.783004 -122.462539   \n",
       "2                Bakeries    4.77          3006    $$  37.788014 -122.440756   \n",
       "3                   Greek    4.81          4843   $$$  37.796918 -122.399864   \n",
       "4                 Chinese    4.58          7497    $$  37.763891 -122.468805   \n",
       "\n",
       "     bid  \n",
       "0   3350  \n",
       "1   1977  \n",
       "2  71696  \n",
       "3   2858  \n",
       "4  67330  "
      ]
     },
     "execution_count": 17,
     "metadata": {},
     "output_type": "execute_result"
    }
   ],
   "source": [
    "# Output data frame for convenience\n",
    "bus.head()"
   ]
  },
  {
   "cell_type": "markdown",
   "metadata": {},
   "source": [
    "Say I really liked _Burma Superstar_ and want all other restaurants with `type == 'Burmese'`. \n",
    "\n",
    "First, I can extract the `type` column as a Series, similarly to how we have done in Lab 3."
   ]
  },
  {
   "cell_type": "code",
   "execution_count": 18,
   "metadata": {},
   "outputs": [
    {
     "data": {
      "text/plain": [
       "0      American (Traditional)\n",
       "1                     Burmese\n",
       "2                    Bakeries\n",
       "3                       Greek\n",
       "4                     Chinese\n",
       "                ...          \n",
       "653              Coffee & Tea\n",
       "654                      Poke\n",
       "655                      Bars\n",
       "656                      Thai\n",
       "657        Breakfast & Brunch\n",
       "Name: type, Length: 658, dtype: object"
      ]
     },
     "execution_count": 18,
     "metadata": {},
     "output_type": "execute_result"
    }
   ],
   "source": [
    "# Just run this cell\n",
    "types = bus['type']\n",
    "types\n"
   ]
  },
  {
   "cell_type": "markdown",
   "metadata": {},
   "source": [
    "You'll notice that on the left of the Series output, there are numbers that each correspond to a specific level of price. This is called the index, and it corresponds to the index (also on the left) in the `bus` dataframe. \n",
    "\n",
    "_Indices don't have to be in ascending order, and they also do not have to be numbers either, but more on this later._\n",
    "\n",
    "Next, like in part 2c, I can use a comparison operator to find all indices that are equal to `'Burmese'`"
   ]
  },
  {
   "cell_type": "code",
   "execution_count": 19,
   "metadata": {},
   "outputs": [
    {
     "data": {
      "text/plain": [
       "0      False\n",
       "1       True\n",
       "2      False\n",
       "3      False\n",
       "4      False\n",
       "       ...  \n",
       "653    False\n",
       "654    False\n",
       "655    False\n",
       "656    False\n",
       "657    False\n",
       "Name: type, Length: 658, dtype: bool"
      ]
     },
     "execution_count": 19,
     "metadata": {},
     "output_type": "execute_result"
    }
   ],
   "source": [
    "burmese = types == 'Burmese'\n",
    "burmese"
   ]
  },
  {
   "cell_type": "markdown",
   "metadata": {},
   "source": [
    "_Burma Superstar_, in index position 1 returns true, as expected. We can now use this Series to index into the `bus` dataframe. Rows that correspond `True` indices in the \"indexer\" will be kept, and all falses will be dropped. This will not change the original `bus` dataframe, so we have to reassign it to a new variable if we want to keep using it. \n"
   ]
  },
  {
   "cell_type": "code",
   "execution_count": 20,
   "metadata": {},
   "outputs": [
    {
     "data": {
      "text/html": [
       "<div>\n",
       "<style scoped>\n",
       "    .dataframe tbody tr th:only-of-type {\n",
       "        vertical-align: middle;\n",
       "    }\n",
       "\n",
       "    .dataframe tbody tr th {\n",
       "        vertical-align: top;\n",
       "    }\n",
       "\n",
       "    .dataframe thead th {\n",
       "        text-align: right;\n",
       "    }\n",
       "</style>\n",
       "<table border=\"1\" class=\"dataframe\">\n",
       "  <thead>\n",
       "    <tr style=\"text-align: right;\">\n",
       "      <th></th>\n",
       "      <th>name</th>\n",
       "      <th>display_address</th>\n",
       "      <th>type</th>\n",
       "      <th>rating</th>\n",
       "      <th>review_count</th>\n",
       "      <th>price</th>\n",
       "      <th>latitude</th>\n",
       "      <th>longitude</th>\n",
       "      <th>bid</th>\n",
       "    </tr>\n",
       "  </thead>\n",
       "  <tbody>\n",
       "    <tr>\n",
       "      <th>1</th>\n",
       "      <td>Burma Superstar</td>\n",
       "      <td>309 Clement St, San Francisco, CA 94118</td>\n",
       "      <td>Burmese</td>\n",
       "      <td>4.69</td>\n",
       "      <td>7145</td>\n",
       "      <td>$$</td>\n",
       "      <td>37.783004</td>\n",
       "      <td>-122.462539</td>\n",
       "      <td>1977</td>\n",
       "    </tr>\n",
       "    <tr>\n",
       "      <th>90</th>\n",
       "      <td>B Star</td>\n",
       "      <td>127 Clement St, San Francisco, CA 94118</td>\n",
       "      <td>Burmese</td>\n",
       "      <td>3.92</td>\n",
       "      <td>1995</td>\n",
       "      <td>$$</td>\n",
       "      <td>37.783093</td>\n",
       "      <td>-122.460649</td>\n",
       "      <td>33911</td>\n",
       "    </tr>\n",
       "    <tr>\n",
       "      <th>179</th>\n",
       "      <td>Burma Love</td>\n",
       "      <td>211 Valencia St, San Francisco, CA 94103</td>\n",
       "      <td>Burmese</td>\n",
       "      <td>4.17</td>\n",
       "      <td>1452</td>\n",
       "      <td>$$</td>\n",
       "      <td>-9999.000000</td>\n",
       "      <td>-9999.000000</td>\n",
       "      <td>83643</td>\n",
       "    </tr>\n",
       "    <tr>\n",
       "      <th>198</th>\n",
       "      <td>Yamo</td>\n",
       "      <td>3406 18th St, San Francisco, CA 94110</td>\n",
       "      <td>Burmese</td>\n",
       "      <td>4.04</td>\n",
       "      <td>2027</td>\n",
       "      <td>$</td>\n",
       "      <td>37.761882</td>\n",
       "      <td>-122.419599</td>\n",
       "      <td>1231</td>\n",
       "    </tr>\n",
       "  </tbody>\n",
       "</table>\n",
       "</div>"
      ],
      "text/plain": [
       "                name                           display_address     type  \\\n",
       "1    Burma Superstar   309 Clement St, San Francisco, CA 94118  Burmese   \n",
       "90            B Star   127 Clement St, San Francisco, CA 94118  Burmese   \n",
       "179       Burma Love  211 Valencia St, San Francisco, CA 94103  Burmese   \n",
       "198             Yamo     3406 18th St, San Francisco, CA 94110  Burmese   \n",
       "\n",
       "     rating  review_count price     latitude    longitude    bid  \n",
       "1      4.69          7145    $$    37.783004  -122.462539   1977  \n",
       "90     3.92          1995    $$    37.783093  -122.460649  33911  \n",
       "179    4.17          1452    $$ -9999.000000 -9999.000000  83643  \n",
       "198    4.04          2027     $    37.761882  -122.419599   1231  "
      ]
     },
     "execution_count": 20,
     "metadata": {},
     "output_type": "execute_result"
    }
   ],
   "source": [
    "burmese_restaurants = bus[burmese]\n",
    "burmese_restaurants"
   ]
  },
  {
   "cell_type": "markdown",
   "metadata": {},
   "source": [
    "We walked through it step by step, but this can be done in one line as follows:\n"
   ]
  },
  {
   "cell_type": "code",
   "execution_count": 21,
   "metadata": {},
   "outputs": [
    {
     "data": {
      "text/html": [
       "<div>\n",
       "<style scoped>\n",
       "    .dataframe tbody tr th:only-of-type {\n",
       "        vertical-align: middle;\n",
       "    }\n",
       "\n",
       "    .dataframe tbody tr th {\n",
       "        vertical-align: top;\n",
       "    }\n",
       "\n",
       "    .dataframe thead th {\n",
       "        text-align: right;\n",
       "    }\n",
       "</style>\n",
       "<table border=\"1\" class=\"dataframe\">\n",
       "  <thead>\n",
       "    <tr style=\"text-align: right;\">\n",
       "      <th></th>\n",
       "      <th>name</th>\n",
       "      <th>display_address</th>\n",
       "      <th>type</th>\n",
       "      <th>rating</th>\n",
       "      <th>review_count</th>\n",
       "      <th>price</th>\n",
       "      <th>latitude</th>\n",
       "      <th>longitude</th>\n",
       "      <th>bid</th>\n",
       "    </tr>\n",
       "  </thead>\n",
       "  <tbody>\n",
       "    <tr>\n",
       "      <th>1</th>\n",
       "      <td>Burma Superstar</td>\n",
       "      <td>309 Clement St, San Francisco, CA 94118</td>\n",
       "      <td>Burmese</td>\n",
       "      <td>4.69</td>\n",
       "      <td>7145</td>\n",
       "      <td>$$</td>\n",
       "      <td>37.783004</td>\n",
       "      <td>-122.462539</td>\n",
       "      <td>1977</td>\n",
       "    </tr>\n",
       "    <tr>\n",
       "      <th>90</th>\n",
       "      <td>B Star</td>\n",
       "      <td>127 Clement St, San Francisco, CA 94118</td>\n",
       "      <td>Burmese</td>\n",
       "      <td>3.92</td>\n",
       "      <td>1995</td>\n",
       "      <td>$$</td>\n",
       "      <td>37.783093</td>\n",
       "      <td>-122.460649</td>\n",
       "      <td>33911</td>\n",
       "    </tr>\n",
       "    <tr>\n",
       "      <th>179</th>\n",
       "      <td>Burma Love</td>\n",
       "      <td>211 Valencia St, San Francisco, CA 94103</td>\n",
       "      <td>Burmese</td>\n",
       "      <td>4.17</td>\n",
       "      <td>1452</td>\n",
       "      <td>$$</td>\n",
       "      <td>-9999.000000</td>\n",
       "      <td>-9999.000000</td>\n",
       "      <td>83643</td>\n",
       "    </tr>\n",
       "    <tr>\n",
       "      <th>198</th>\n",
       "      <td>Yamo</td>\n",
       "      <td>3406 18th St, San Francisco, CA 94110</td>\n",
       "      <td>Burmese</td>\n",
       "      <td>4.04</td>\n",
       "      <td>2027</td>\n",
       "      <td>$</td>\n",
       "      <td>37.761882</td>\n",
       "      <td>-122.419599</td>\n",
       "      <td>1231</td>\n",
       "    </tr>\n",
       "  </tbody>\n",
       "</table>\n",
       "</div>"
      ],
      "text/plain": [
       "                name                           display_address     type  \\\n",
       "1    Burma Superstar   309 Clement St, San Francisco, CA 94118  Burmese   \n",
       "90            B Star   127 Clement St, San Francisco, CA 94118  Burmese   \n",
       "179       Burma Love  211 Valencia St, San Francisco, CA 94103  Burmese   \n",
       "198             Yamo     3406 18th St, San Francisco, CA 94110  Burmese   \n",
       "\n",
       "     rating  review_count price     latitude    longitude    bid  \n",
       "1      4.69          7145    $$    37.783004  -122.462539   1977  \n",
       "90     3.92          1995    $$    37.783093  -122.460649  33911  \n",
       "179    4.17          1452    $$ -9999.000000 -9999.000000  83643  \n",
       "198    4.04          2027     $    37.761882  -122.419599   1231  "
      ]
     },
     "execution_count": 21,
     "metadata": {},
     "output_type": "execute_result"
    }
   ],
   "source": [
    "burmese_restaurants = bus[bus['type'] == 'Burmese']\n",
    "burmese_restaurants"
   ]
  },
  {
   "cell_type": "markdown",
   "metadata": {},
   "source": [
    "### Question 3a:\n",
    "\n",
    "Using boolean-indexing, create a new dataframe that only contains the rows in `bus` for the restaurant you found in part 2b (the string you assigned to `most_locations`) and assign it to `most_locations_df`. \n"
   ]
  },
  {
   "cell_type": "code",
   "execution_count": 22,
   "metadata": {},
   "outputs": [],
   "source": [
    "## Your Code Here...\n",
    "most_locations_df = ..."
   ]
  },
  {
   "cell_type": "code",
   "execution_count": 23,
   "metadata": {},
   "outputs": [],
   "source": [
    "check('q3a', most_locations_df)"
   ]
  },
  {
   "cell_type": "markdown",
   "metadata": {},
   "source": [
    "We can also do more complicated selects over multiple different columns. As we've mentioned, the syntax in Python is very similar to English. \n",
    "\n",
    "Say I wanted to find restaurants that were both `type == 'Chinese'` AND had `price == '$$'`. The syntax would be exactly that! \n",
    "\n",
    "One finicky note however is that you cannot use `and` or `or`, instead you use the ampersand `&` and the pipe symbol `|` respectively."
   ]
  },
  {
   "cell_type": "code",
   "execution_count": 24,
   "metadata": {},
   "outputs": [
    {
     "data": {
      "text/html": [
       "<div>\n",
       "<style scoped>\n",
       "    .dataframe tbody tr th:only-of-type {\n",
       "        vertical-align: middle;\n",
       "    }\n",
       "\n",
       "    .dataframe tbody tr th {\n",
       "        vertical-align: top;\n",
       "    }\n",
       "\n",
       "    .dataframe thead th {\n",
       "        text-align: right;\n",
       "    }\n",
       "</style>\n",
       "<table border=\"1\" class=\"dataframe\">\n",
       "  <thead>\n",
       "    <tr style=\"text-align: right;\">\n",
       "      <th></th>\n",
       "      <th>name</th>\n",
       "      <th>display_address</th>\n",
       "      <th>type</th>\n",
       "      <th>rating</th>\n",
       "      <th>review_count</th>\n",
       "      <th>price</th>\n",
       "      <th>latitude</th>\n",
       "      <th>longitude</th>\n",
       "      <th>bid</th>\n",
       "    </tr>\n",
       "  </thead>\n",
       "  <tbody>\n",
       "    <tr>\n",
       "      <th>4</th>\n",
       "      <td>San Tung</td>\n",
       "      <td>1031 Irving St, San Francisco, CA 94122</td>\n",
       "      <td>Chinese</td>\n",
       "      <td>4.58</td>\n",
       "      <td>7497</td>\n",
       "      <td>$$</td>\n",
       "      <td>37.763891</td>\n",
       "      <td>-122.468805</td>\n",
       "      <td>67330</td>\n",
       "    </tr>\n",
       "    <tr>\n",
       "      <th>122</th>\n",
       "      <td>Hai Ky Noodles</td>\n",
       "      <td>707 Ellis St, San Francisco, CA 94109</td>\n",
       "      <td>Chinese</td>\n",
       "      <td>4.62</td>\n",
       "      <td>1070</td>\n",
       "      <td>$$</td>\n",
       "      <td>37.784193</td>\n",
       "      <td>-122.417967</td>\n",
       "      <td>283</td>\n",
       "    </tr>\n",
       "    <tr>\n",
       "      <th>126</th>\n",
       "      <td>Dumpling Kitchen</td>\n",
       "      <td>1935 Taraval St, San Francisco, CA 94116</td>\n",
       "      <td>Chinese</td>\n",
       "      <td>4.00</td>\n",
       "      <td>1875</td>\n",
       "      <td>$$</td>\n",
       "      <td>-9999.000000</td>\n",
       "      <td>-9999.000000</td>\n",
       "      <td>76942</td>\n",
       "    </tr>\n",
       "    <tr>\n",
       "      <th>415</th>\n",
       "      <td>Enjoy Vegetarian Restaurant</td>\n",
       "      <td>754 Kirkham St, San Francisco, CA 94122</td>\n",
       "      <td>Chinese</td>\n",
       "      <td>3.48</td>\n",
       "      <td>569</td>\n",
       "      <td>$$</td>\n",
       "      <td>37.760198</td>\n",
       "      <td>-122.469081</td>\n",
       "      <td>17647</td>\n",
       "    </tr>\n",
       "    <tr>\n",
       "      <th>421</th>\n",
       "      <td>Mission Chinese Food</td>\n",
       "      <td>2234 Mission St, Lung Shan Restaurant, San Fra...</td>\n",
       "      <td>Chinese</td>\n",
       "      <td>3.66</td>\n",
       "      <td>2361</td>\n",
       "      <td>$$</td>\n",
       "      <td>-9999.000000</td>\n",
       "      <td>-9999.000000</td>\n",
       "      <td>78215</td>\n",
       "    </tr>\n",
       "    <tr>\n",
       "      <th>474</th>\n",
       "      <td>Yuanbao Jiaozi</td>\n",
       "      <td>2110 Irving St, San Francisco, CA 94122</td>\n",
       "      <td>Chinese</td>\n",
       "      <td>4.27</td>\n",
       "      <td>459</td>\n",
       "      <td>$$</td>\n",
       "      <td>-9999.000000</td>\n",
       "      <td>-9999.000000</td>\n",
       "      <td>94318</td>\n",
       "    </tr>\n",
       "    <tr>\n",
       "      <th>490</th>\n",
       "      <td>Kung Food</td>\n",
       "      <td>1615 McAllister St, San Francisco, CA 94115</td>\n",
       "      <td>Chinese</td>\n",
       "      <td>3.66</td>\n",
       "      <td>617</td>\n",
       "      <td>$$</td>\n",
       "      <td>-9999.000000</td>\n",
       "      <td>-9999.000000</td>\n",
       "      <td>82022</td>\n",
       "    </tr>\n",
       "    <tr>\n",
       "      <th>573</th>\n",
       "      <td>Mr Szechuan</td>\n",
       "      <td>890 Taraval St, San Francisco, CA 94116</td>\n",
       "      <td>Chinese</td>\n",
       "      <td>4.35</td>\n",
       "      <td>414</td>\n",
       "      <td>$$</td>\n",
       "      <td>-9999.000000</td>\n",
       "      <td>-9999.000000</td>\n",
       "      <td>86718</td>\n",
       "    </tr>\n",
       "    <tr>\n",
       "      <th>621</th>\n",
       "      <td>King of Noodles</td>\n",
       "      <td>1639 Irving St, San Francisco, CA 94122</td>\n",
       "      <td>Chinese</td>\n",
       "      <td>3.98</td>\n",
       "      <td>802</td>\n",
       "      <td>$$</td>\n",
       "      <td>-9999.000000</td>\n",
       "      <td>-9999.000000</td>\n",
       "      <td>85307</td>\n",
       "    </tr>\n",
       "  </tbody>\n",
       "</table>\n",
       "</div>"
      ],
      "text/plain": [
       "                            name  \\\n",
       "4                       San Tung   \n",
       "122               Hai Ky Noodles   \n",
       "126             Dumpling Kitchen   \n",
       "415  Enjoy Vegetarian Restaurant   \n",
       "421         Mission Chinese Food   \n",
       "474               Yuanbao Jiaozi   \n",
       "490                    Kung Food   \n",
       "573                  Mr Szechuan   \n",
       "621              King of Noodles   \n",
       "\n",
       "                                       display_address     type  rating  \\\n",
       "4              1031 Irving St, San Francisco, CA 94122  Chinese    4.58   \n",
       "122              707 Ellis St, San Francisco, CA 94109  Chinese    4.62   \n",
       "126           1935 Taraval St, San Francisco, CA 94116  Chinese    4.00   \n",
       "415            754 Kirkham St, San Francisco, CA 94122  Chinese    3.48   \n",
       "421  2234 Mission St, Lung Shan Restaurant, San Fra...  Chinese    3.66   \n",
       "474            2110 Irving St, San Francisco, CA 94122  Chinese    4.27   \n",
       "490        1615 McAllister St, San Francisco, CA 94115  Chinese    3.66   \n",
       "573            890 Taraval St, San Francisco, CA 94116  Chinese    4.35   \n",
       "621            1639 Irving St, San Francisco, CA 94122  Chinese    3.98   \n",
       "\n",
       "     review_count price     latitude    longitude    bid  \n",
       "4            7497    $$    37.763891  -122.468805  67330  \n",
       "122          1070    $$    37.784193  -122.417967    283  \n",
       "126          1875    $$ -9999.000000 -9999.000000  76942  \n",
       "415           569    $$    37.760198  -122.469081  17647  \n",
       "421          2361    $$ -9999.000000 -9999.000000  78215  \n",
       "474           459    $$ -9999.000000 -9999.000000  94318  \n",
       "490           617    $$ -9999.000000 -9999.000000  82022  \n",
       "573           414    $$ -9999.000000 -9999.000000  86718  \n",
       "621           802    $$ -9999.000000 -9999.000000  85307  "
      ]
     },
     "execution_count": 24,
     "metadata": {},
     "output_type": "execute_result"
    }
   ],
   "source": [
    "# run this cell and see what it does\n",
    "chinese_2 = bus[(bus['type'] == 'Chinese') & (bus['price'] == '$$')]\n",
    "chinese_2"
   ]
  },
  {
   "cell_type": "markdown",
   "metadata": {},
   "source": [
    "### Question 3b: \n",
    "\n",
    "Create a dataframe that contains all restaurants that have a less than 4.0 rating and more than 1,000 reviews. Then, using this subset, figure out how many restaurants are each of the four price categoreies ('$', '$$', '$$$', and '$$$$') and assign it as a Series to the variable `q3b`. \n",
    "\n",
    "Your answer should have the indices be the corresponding price categories, and the counts of each categories as the values for each index. \n"
   ]
  },
  {
   "cell_type": "code",
   "execution_count": 25,
   "metadata": {},
   "outputs": [],
   "source": [
    "## Your Code Here...\n",
    "\n",
    "q3b = ..."
   ]
  },
  {
   "cell_type": "code",
   "execution_count": 26,
   "metadata": {},
   "outputs": [],
   "source": [
    "check('q3b', q3b)"
   ]
  },
  {
   "cell_type": "markdown",
   "metadata": {},
   "source": [
    "### Question 3c:\n",
    "\n",
    "You might have noticed that some of the longitude and latitude data is -9999. This is typically a way to indicate that the data is missing when dealing with numerical data instead of just leaving the space blank. \n",
    "\n",
    "#### Part 1:"
   ]
  },
  {
   "cell_type": "markdown",
   "metadata": {},
   "source": [
    "Filter out the data that has missing coordinate data from `bus` and assign it to the dataframe `bus_coords`. "
   ]
  },
  {
   "cell_type": "code",
   "execution_count": 27,
   "metadata": {},
   "outputs": [
    {
     "data": {
      "text/plain": [
       "Ellipsis"
      ]
     },
     "execution_count": 27,
     "metadata": {},
     "output_type": "execute_result"
    }
   ],
   "source": [
    "## Your Code Here...\n",
    "\n",
    "bus_coords = ...\n",
    "bus_coords"
   ]
  },
  {
   "cell_type": "code",
   "execution_count": 28,
   "metadata": {},
   "outputs": [],
   "source": [
    "bus_coords = bus[(bus['latitude'] != -9999) & (bus['longitude'] != -9999)]"
   ]
  },
  {
   "cell_type": "code",
   "execution_count": 29,
   "metadata": {},
   "outputs": [],
   "source": [
    "check('q3c1', bus_coords)"
   ]
  },
  {
   "cell_type": "markdown",
   "metadata": {},
   "source": [
    "#### Part 2\n",
    "\n",
    "Next, we'll use a new package called Seaborn to plot the coordinates on a graph. The cool thing about Seaborn is that it allows for easy way to encode new information to aspects of the plot, like color! \n",
    "\n",
    "We've imported Seaborn for you, and made a basic plot of all the restaurants using the `scatterplot` function, and coded their `review_count` into the color of each point. Take a look at the [documentation](https://seaborn.pydata.org/generated/seaborn.scatterplot.html) and have some fun plotting data from the `bus_location` dataframe."
   ]
  },
  {
   "cell_type": "code",
   "execution_count": 30,
   "metadata": {},
   "outputs": [
    {
     "data": {
      "text/plain": [
       "<AxesSubplot:xlabel='latitude', ylabel='longitude'>"
      ]
     },
     "execution_count": 30,
     "metadata": {},
     "output_type": "execute_result"
    },
    {
     "data": {
      "image/png": "[encoded data removed]",
      "text/plain": [
       "<Figure size 432x288 with 1 Axes>"
      ]
     },
     "metadata": {
      "needs_background": "light"
     },
     "output_type": "display_data"
    }
   ],
   "source": [
    "# A little example\n",
    "import seaborn as sns\n",
    "\n",
    "sns.scatterplot(data = bus_coords, \n",
    "                x = 'latitude', \n",
    "                y = 'longitude', \n",
    "                hue = 'review_count')"
   ]
  },
  {
   "cell_type": "markdown",
   "metadata": {},
   "source": [
    "Some potential ideas:\n",
    "- Look at the distributions of some select cuisines, are they clustered around each other? (Probably subset the data before plotting)\n",
    "- Plot the locations of highly rated restaurants, and encode the size of each data point to the correspoding price rating \n",
    "- Encode the rating to the color of the data, and see if things are clustered together! \n",
    "\n",
    "\n",
    "Feel free to implement one of the ideas above, or try something new. \n",
    "\n",
    "Create your graph in the following code cell, and write down your findings as a comment in the same cell! "
   ]
  },
  {
   "cell_type": "code",
   "execution_count": 31,
   "metadata": {},
   "outputs": [],
   "source": [
    "## Your Code Here\n",
    "\n",
    "\n",
    "\n",
    "## Write down your discoveries as a comment! "
   ]
  },
  {
   "cell_type": "markdown",
   "metadata": {},
   "source": [
    "# **2. Health Inspection Data**\n",
    "\n",
    "In this next section, we're going to merge the health inspection data with our business data. We will be doing some more statistics in this part in addition to exploring the data. "
   ]
  },
  {
   "cell_type": "code",
   "execution_count": 32,
   "metadata": {},
   "outputs": [
    {
     "data": {
      "text/html": [
       "<div>\n",
       "<style scoped>\n",
       "    .dataframe tbody tr th:only-of-type {\n",
       "        vertical-align: middle;\n",
       "    }\n",
       "\n",
       "    .dataframe tbody tr th {\n",
       "        vertical-align: top;\n",
       "    }\n",
       "\n",
       "    .dataframe thead th {\n",
       "        text-align: right;\n",
       "    }\n",
       "</style>\n",
       "<table border=\"1\" class=\"dataframe\">\n",
       "  <thead>\n",
       "    <tr style=\"text-align: right;\">\n",
       "      <th></th>\n",
       "      <th>iid</th>\n",
       "      <th>date</th>\n",
       "      <th>score</th>\n",
       "      <th>type</th>\n",
       "      <th>bid</th>\n",
       "      <th>timestamp</th>\n",
       "      <th>year</th>\n",
       "    </tr>\n",
       "  </thead>\n",
       "  <tbody>\n",
       "    <tr>\n",
       "      <th>0</th>\n",
       "      <td>100504_20190411</td>\n",
       "      <td>04/11/2019 12:00:00 AM</td>\n",
       "      <td>88</td>\n",
       "      <td>Routine - Unscheduled</td>\n",
       "      <td>100504</td>\n",
       "      <td>2019-04-11</td>\n",
       "      <td>2019</td>\n",
       "    </tr>\n",
       "    <tr>\n",
       "      <th>1</th>\n",
       "      <td>100504_20190619</td>\n",
       "      <td>06/19/2019 12:00:00 AM</td>\n",
       "      <td>-1</td>\n",
       "      <td>New Ownership</td>\n",
       "      <td>100504</td>\n",
       "      <td>2019-06-19</td>\n",
       "      <td>2019</td>\n",
       "    </tr>\n",
       "    <tr>\n",
       "      <th>2</th>\n",
       "      <td>100504_20190927</td>\n",
       "      <td>09/27/2019 12:00:00 AM</td>\n",
       "      <td>-1</td>\n",
       "      <td>Reinspection/Followup</td>\n",
       "      <td>100504</td>\n",
       "      <td>2019-09-27</td>\n",
       "      <td>2019</td>\n",
       "    </tr>\n",
       "    <tr>\n",
       "      <th>3</th>\n",
       "      <td>100992_20190517</td>\n",
       "      <td>05/17/2019 12:00:00 AM</td>\n",
       "      <td>-1</td>\n",
       "      <td>Non-inspection site visit</td>\n",
       "      <td>100992</td>\n",
       "      <td>2019-05-17</td>\n",
       "      <td>2019</td>\n",
       "    </tr>\n",
       "    <tr>\n",
       "      <th>4</th>\n",
       "      <td>100992_20190621</td>\n",
       "      <td>06/21/2019 12:00:00 AM</td>\n",
       "      <td>-1</td>\n",
       "      <td>New Ownership</td>\n",
       "      <td>100992</td>\n",
       "      <td>2019-06-21</td>\n",
       "      <td>2019</td>\n",
       "    </tr>\n",
       "  </tbody>\n",
       "</table>\n",
       "</div>"
      ],
      "text/plain": [
       "               iid                    date  score                       type  \\\n",
       "0  100504_20190411  04/11/2019 12:00:00 AM     88      Routine - Unscheduled   \n",
       "1  100504_20190619  06/19/2019 12:00:00 AM     -1              New Ownership   \n",
       "2  100504_20190927  09/27/2019 12:00:00 AM     -1      Reinspection/Followup   \n",
       "3  100992_20190517  05/17/2019 12:00:00 AM     -1  Non-inspection site visit   \n",
       "4  100992_20190621  06/21/2019 12:00:00 AM     -1              New Ownership   \n",
       "\n",
       "      bid   timestamp  year  \n",
       "0  100504  2019-04-11  2019  \n",
       "1  100504  2019-06-19  2019  \n",
       "2  100504  2019-09-27  2019  \n",
       "3  100992  2019-05-17  2019  \n",
       "4  100992  2019-06-21  2019  "
      ]
     },
     "execution_count": 32,
     "metadata": {},
     "output_type": "execute_result"
    }
   ],
   "source": [
    "ins.head()"
   ]
  },
  {
   "cell_type": "markdown",
   "metadata": {},
   "source": [
    "Let's examine the inspection scores `ins['score']`"
   ]
  },
  {
   "cell_type": "code",
   "execution_count": 33,
   "metadata": {},
   "outputs": [
    {
     "data": {
      "text/plain": [
       "-1     1410\n",
       " 96     193\n",
       " 90     177\n",
       " 94     160\n",
       " 92     148\n",
       "Name: score, dtype: int64"
      ]
     },
     "execution_count": 33,
     "metadata": {},
     "output_type": "execute_result"
    }
   ],
   "source": [
    "ins['score'].value_counts().head()"
   ]
  },
  {
   "cell_type": "markdown",
   "metadata": {},
   "source": [
    "It looks like there are a lot of inspections with the `'score'` of `-1`. In fact, only health inspections of the 'Routine - Unscheduled' type are scored. \n",
    "\n",
    "In the following cell, we used the [`merge`](https://pandas.pydata.org/docs/reference/api/pandas.DataFrame.merge.html) function from pandas to join the inspection data with the business data. You don't know to know how it works, but if you're curious read more in the documentation. The merged datafram is called `ins_named`"
   ]
  },
  {
   "cell_type": "code",
   "execution_count": 10,
   "metadata": {},
   "outputs": [
    {
     "data": {
      "text/html": [
       "<div>\n",
       "<style scoped>\n",
       "    .dataframe tbody tr th:only-of-type {\n",
       "        vertical-align: middle;\n",
       "    }\n",
       "\n",
       "    .dataframe tbody tr th {\n",
       "        vertical-align: top;\n",
       "    }\n",
       "\n",
       "    .dataframe thead th {\n",
       "        text-align: right;\n",
       "    }\n",
       "</style>\n",
       "<table border=\"1\" class=\"dataframe\">\n",
       "  <thead>\n",
       "    <tr style=\"text-align: right;\">\n",
       "      <th></th>\n",
       "      <th>iid</th>\n",
       "      <th>date</th>\n",
       "      <th>score</th>\n",
       "      <th>type_x</th>\n",
       "      <th>bid</th>\n",
       "      <th>timestamp</th>\n",
       "      <th>year</th>\n",
       "      <th>name</th>\n",
       "      <th>display_address</th>\n",
       "      <th>type_y</th>\n",
       "      <th>rating</th>\n",
       "      <th>review_count</th>\n",
       "      <th>price</th>\n",
       "      <th>latitude</th>\n",
       "      <th>longitude</th>\n",
       "    </tr>\n",
       "  </thead>\n",
       "  <tbody>\n",
       "    <tr>\n",
       "      <th>0</th>\n",
       "      <td>100504_20190411</td>\n",
       "      <td>04/11/2019 12:00:00 AM</td>\n",
       "      <td>88</td>\n",
       "      <td>Routine - Unscheduled</td>\n",
       "      <td>100504</td>\n",
       "      <td>2019-04-11</td>\n",
       "      <td>2019</td>\n",
       "      <td>Holy Gelato!</td>\n",
       "      <td>1392 9th Ave, San Francisco, CA 94122</td>\n",
       "      <td>Gelato</td>\n",
       "      <td>4.65</td>\n",
       "      <td>1100</td>\n",
       "      <td>$$</td>\n",
       "      <td>-9999.0</td>\n",
       "      <td>-9999.0</td>\n",
       "    </tr>\n",
       "    <tr>\n",
       "      <th>1</th>\n",
       "      <td>100504_20190619</td>\n",
       "      <td>06/19/2019 12:00:00 AM</td>\n",
       "      <td>-1</td>\n",
       "      <td>New Ownership</td>\n",
       "      <td>100504</td>\n",
       "      <td>2019-06-19</td>\n",
       "      <td>2019</td>\n",
       "      <td>Holy Gelato!</td>\n",
       "      <td>1392 9th Ave, San Francisco, CA 94122</td>\n",
       "      <td>Gelato</td>\n",
       "      <td>4.65</td>\n",
       "      <td>1100</td>\n",
       "      <td>$$</td>\n",
       "      <td>-9999.0</td>\n",
       "      <td>-9999.0</td>\n",
       "    </tr>\n",
       "    <tr>\n",
       "      <th>2</th>\n",
       "      <td>100504_20190927</td>\n",
       "      <td>09/27/2019 12:00:00 AM</td>\n",
       "      <td>-1</td>\n",
       "      <td>Reinspection/Followup</td>\n",
       "      <td>100504</td>\n",
       "      <td>2019-09-27</td>\n",
       "      <td>2019</td>\n",
       "      <td>Holy Gelato!</td>\n",
       "      <td>1392 9th Ave, San Francisco, CA 94122</td>\n",
       "      <td>Gelato</td>\n",
       "      <td>4.65</td>\n",
       "      <td>1100</td>\n",
       "      <td>$$</td>\n",
       "      <td>-9999.0</td>\n",
       "      <td>-9999.0</td>\n",
       "    </tr>\n",
       "    <tr>\n",
       "      <th>3</th>\n",
       "      <td>100992_20190517</td>\n",
       "      <td>05/17/2019 12:00:00 AM</td>\n",
       "      <td>-1</td>\n",
       "      <td>Non-inspection site visit</td>\n",
       "      <td>100992</td>\n",
       "      <td>2019-05-17</td>\n",
       "      <td>2019</td>\n",
       "      <td>District Tea</td>\n",
       "      <td>2154 Mission St, San Francisco, CA 94110</td>\n",
       "      <td>Bubble Tea</td>\n",
       "      <td>4.62</td>\n",
       "      <td>324</td>\n",
       "      <td>$$</td>\n",
       "      <td>-9999.0</td>\n",
       "      <td>-9999.0</td>\n",
       "    </tr>\n",
       "    <tr>\n",
       "      <th>4</th>\n",
       "      <td>100992_20190621</td>\n",
       "      <td>06/21/2019 12:00:00 AM</td>\n",
       "      <td>-1</td>\n",
       "      <td>New Ownership</td>\n",
       "      <td>100992</td>\n",
       "      <td>2019-06-21</td>\n",
       "      <td>2019</td>\n",
       "      <td>District Tea</td>\n",
       "      <td>2154 Mission St, San Francisco, CA 94110</td>\n",
       "      <td>Bubble Tea</td>\n",
       "      <td>4.62</td>\n",
       "      <td>324</td>\n",
       "      <td>$$</td>\n",
       "      <td>-9999.0</td>\n",
       "      <td>-9999.0</td>\n",
       "    </tr>\n",
       "  </tbody>\n",
       "</table>\n",
       "</div>"
      ],
      "text/plain": [
       "               iid                    date  score                     type_x  \\\n",
       "0  100504_20190411  04/11/2019 12:00:00 AM     88      Routine - Unscheduled   \n",
       "1  100504_20190619  06/19/2019 12:00:00 AM     -1              New Ownership   \n",
       "2  100504_20190927  09/27/2019 12:00:00 AM     -1      Reinspection/Followup   \n",
       "3  100992_20190517  05/17/2019 12:00:00 AM     -1  Non-inspection site visit   \n",
       "4  100992_20190621  06/21/2019 12:00:00 AM     -1              New Ownership   \n",
       "\n",
       "      bid   timestamp  year          name  \\\n",
       "0  100504  2019-04-11  2019  Holy Gelato!   \n",
       "1  100504  2019-06-19  2019  Holy Gelato!   \n",
       "2  100504  2019-09-27  2019  Holy Gelato!   \n",
       "3  100992  2019-05-17  2019  District Tea   \n",
       "4  100992  2019-06-21  2019  District Tea   \n",
       "\n",
       "                            display_address      type_y  rating  review_count  \\\n",
       "0     1392 9th Ave, San Francisco, CA 94122      Gelato    4.65          1100   \n",
       "1     1392 9th Ave, San Francisco, CA 94122      Gelato    4.65          1100   \n",
       "2     1392 9th Ave, San Francisco, CA 94122      Gelato    4.65          1100   \n",
       "3  2154 Mission St, San Francisco, CA 94110  Bubble Tea    4.62           324   \n",
       "4  2154 Mission St, San Francisco, CA 94110  Bubble Tea    4.62           324   \n",
       "\n",
       "  price  latitude  longitude  \n",
       "0    $$   -9999.0    -9999.0  \n",
       "1    $$   -9999.0    -9999.0  \n",
       "2    $$   -9999.0    -9999.0  \n",
       "3    $$   -9999.0    -9999.0  \n",
       "4    $$   -9999.0    -9999.0  "
      ]
     },
     "execution_count": 10,
     "metadata": {},
     "output_type": "execute_result"
    }
   ],
   "source": [
    "ins_named = ins.merge(right = bus, how = 'inner', on = 'bid')\n",
    "ins_named.head()"
   ]
  },
  {
   "cell_type": "markdown",
   "metadata": {},
   "source": [
    "### Question 4a:\n",
    "Filter out the non-Routine Unscheduled inspections and assign it to the variable, `scores`."
   ]
  },
  {
   "cell_type": "code",
   "execution_count": 35,
   "metadata": {},
   "outputs": [
    {
     "data": {
      "text/plain": [
       "Ellipsis"
      ]
     },
     "execution_count": 35,
     "metadata": {},
     "output_type": "execute_result"
    }
   ],
   "source": [
    "## You code here...\n",
    "\n",
    "scores = ...\n",
    "scores\n",
    "\n"
   ]
  },
  {
   "cell_type": "code",
   "execution_count": 11,
   "metadata": {},
   "outputs": [],
   "source": [
    "# delete me\n",
    "scores = ins_named[ins_named['score'] >0]"
   ]
  },
  {
   "cell_type": "code",
   "execution_count": 12,
   "metadata": {},
   "outputs": [],
   "source": [
    "check('q4a', scores)"
   ]
  },
  {
   "cell_type": "markdown",
   "metadata": {},
   "source": [
    "### Question 4b: \n",
    "\n",
    "#### Part 1:\n",
    "Next, plot a bar chart of distribution of scores. There should be a bar for each of the discrete scores (a histogram would mask the details of the distribution)\n",
    "\n",
    "_Hint: You can use_ `series.value_counts()` _to get the heights, and then use_ `series.value_counts().index` _to get the index of the series for the categories in a bar chart_\n"
   ]
  },
  {
   "cell_type": "code",
   "execution_count": 37,
   "metadata": {},
   "outputs": [],
   "source": [
    "## Your Code Here...."
   ]
  },
  {
   "cell_type": "markdown",
   "metadata": {},
   "source": [
    "#### Part 2:\n",
    "\n",
    "Describe the qualities of the distribution of the inspection scores based on your histogram. Consider the skewness, the mean, the median, or any anomalous values. Are they any unusual features about this distribution? "
   ]
  },
  {
   "cell_type": "markdown",
   "metadata": {},
   "source": [
    "_Write your answer in this cell:_"
   ]
  },
  {
   "cell_type": "markdown",
   "metadata": {},
   "source": [
    "### Question 4c: \n",
    "\n",
    "Let's figure out which restaurant had the worst score in our sample of data. Use `ins_named` to find the lowest score.\n",
    "\n",
    "A method that might be useful is [`DataFrame.sort_values`](https://pandas.pydata.org/docs/reference/api/pandas.DataFrame.sort_values.html). \n",
    "\n",
    "Then assign the name of the worst restaurant to `worst_restaurant`"
   ]
  },
  {
   "cell_type": "code",
   "execution_count": 38,
   "metadata": {},
   "outputs": [
    {
     "data": {
      "text/plain": [
       "Ellipsis"
      ]
     },
     "execution_count": 38,
     "metadata": {},
     "output_type": "execute_result"
    }
   ],
   "source": [
    "## Your Code Here...\n",
    "\n",
    "worst_restaurant = ...\n",
    "worst_restaurant"
   ]
  },
  {
   "cell_type": "code",
   "execution_count": 39,
   "metadata": {},
   "outputs": [],
   "source": [
    "check('q4c', worst_restaurant)"
   ]
  },
  {
   "cell_type": "markdown",
   "metadata": {},
   "source": [
    "### Question 4d: \n",
    "\n",
    "Let's see which restaurant has had the most extreme improvement in its health inspection rating, aka scores. Let the \"swing\" of a restaurant be defined as the difference between its highest-ever and lowest-ever rating. **Only consider restaurants with at least 3 ratings, aka rated for at least 3 times (3 scores)!** \n",
    "\n",
    "*Note*: The \"swing\" is of a specific business. There might be some restaurants with multiple locations; each location has its own \"swing\"."
   ]
  },
  {
   "cell_type": "markdown",
   "metadata": {},
   "source": [
    "#### Part 1:\n",
    "\n",
    "First, assign the Series of unique restaurant `bid`'s with more than three health ratings to the variable `unique_bids`. "
   ]
  },
  {
   "cell_type": "code",
   "execution_count": 40,
   "metadata": {},
   "outputs": [
    {
     "data": {
      "text/plain": [
       "Ellipsis"
      ]
     },
     "execution_count": 40,
     "metadata": {},
     "output_type": "execute_result"
    }
   ],
   "source": [
    "## Your Code Here...\n",
    "unique_bids = ...\n",
    "unique_bids"
   ]
  },
  {
   "cell_type": "markdown",
   "metadata": {},
   "source": [
    "#### Part 2: \n",
    "\n",
    "Next, make a for loop that loops through all of the `unique_bids`. In each iteration of the loop, you should create a subset of `scores`, then calculate the swing for that bid and append it to the list `swings`, which we have created for you. \n",
    "\n",
    "After running your code, you should have an array of numbers that represents the swing of each `bid` in the order of `unique_bids`. \n",
    "\n",
    "_Hint: you can use_ `np.append(arr, x)` _to append a number_ `x` _to an array called_ `arr`. _Remember, this makes a copy of the array, so if you want to keep using the name with the updated value, you need to reassign it._\n"
   ]
  },
  {
   "cell_type": "code",
   "execution_count": 41,
   "metadata": {},
   "outputs": [],
   "source": [
    "swings = np.array([])\n",
    "\n",
    "## Your Code Here...\n",
    "\n"
   ]
  },
  {
   "cell_type": "code",
   "execution_count": 42,
   "metadata": {},
   "outputs": [],
   "source": [
    "check('q4d2', swings)"
   ]
  },
  {
   "cell_type": "markdown",
   "metadata": {},
   "source": [
    "In the following cell, we've made a new dataframe for you that combines `unique_bids` and `swings`, called `swings_df`."
   ]
  },
  {
   "cell_type": "code",
   "execution_count": 43,
   "metadata": {},
   "outputs": [
    {
     "data": {
      "text/html": [
       "<div>\n",
       "<style scoped>\n",
       "    .dataframe tbody tr th:only-of-type {\n",
       "        vertical-align: middle;\n",
       "    }\n",
       "\n",
       "    .dataframe tbody tr th {\n",
       "        vertical-align: top;\n",
       "    }\n",
       "\n",
       "    .dataframe thead th {\n",
       "        text-align: right;\n",
       "    }\n",
       "</style>\n",
       "<table border=\"1\" class=\"dataframe\">\n",
       "  <thead>\n",
       "    <tr style=\"text-align: right;\">\n",
       "      <th></th>\n",
       "      <th>bid</th>\n",
       "      <th>swing</th>\n",
       "    </tr>\n",
       "  </thead>\n",
       "  <tbody>\n",
       "  </tbody>\n",
       "</table>\n",
       "</div>"
      ],
      "text/plain": [
       "Empty DataFrame\n",
       "Columns: [bid, swing]\n",
       "Index: []"
      ]
     },
     "execution_count": 43,
     "metadata": {},
     "output_type": "execute_result"
    }
   ],
   "source": [
    "swings_df = pd.DataFrame({'bid':unique_bids, \"swing\":swings})\n",
    "swings_df"
   ]
  },
  {
   "cell_type": "markdown",
   "metadata": {},
   "source": [
    "#### Part 3:\n",
    "\n",
    "Find the name of the restaurant with the largest swing and assign it to `largest_swing`."
   ]
  },
  {
   "cell_type": "code",
   "execution_count": 45,
   "metadata": {},
   "outputs": [
    {
     "data": {
      "text/plain": [
       "Ellipsis"
      ]
     },
     "execution_count": 45,
     "metadata": {},
     "output_type": "execute_result"
    }
   ],
   "source": [
    "## Your Code Here...\n",
    "\n",
    "largest_swing = ...\n",
    "largest_swing"
   ]
  },
  {
   "cell_type": "code",
   "execution_count": 46,
   "metadata": {},
   "outputs": [],
   "source": [
    "check('q4d3', largest_swing)"
   ]
  },
  {
   "cell_type": "markdown",
   "metadata": {},
   "source": [
    "# **3. Connections Between the Data**\n",
    "\n",
    "In this section we will work on trying to find some connections in the information provided by Yelp using linear regression. "
   ]
  },
  {
   "cell_type": "markdown",
   "metadata": {},
   "source": [
    "Refer back to Lab 4 if you want a review of linear regression, but the basic intuition behind it is finding the best number to plug into _some_ equation that takes in data and outputs a prediction. \n",
    "\n",
    "We've looked at the most simple example of this, which is using a line to make a prediction with the equation $y = m * x + b$, where $y$ is our prediction and $x$ is the data that we plug into and use to predict, and $m$ and $b$ are parameters that we have to find. \n",
    "\n",
    "We've also went over using some more complex equations using quadratic and cubic variables, where our prediction equation might be $y = a*x + b * x^2 + c * x^3 + d$. In this case, $a, b, c,$ and $d$ are the parameters that we need to find the best version of \n",
    "\n",
    "As mentioned in Lecture 4, we find the best parameters by minimizing the mean-squared-error, or MSE. And we use Python to do this, since solving by hand (while doable), is time consuming and a waste of resources.\n",
    "\n"
   ]
  },
  {
   "cell_type": "markdown",
   "metadata": {},
   "source": [
    "## Part 1\n",
    "\n",
    "We'll be working with the Yelp average ratings (columns `rating`), as well as the number of review counts (column `review_count`). In addition, we'll also do some grouping by the price of each business.\n",
    "\n",
    "For ease of use, we'll assign the columns to the following variables for use throughout this section.\n",
    "\n",
    "Run this following cell to assign the variables. "
   ]
  },
  {
   "cell_type": "code",
   "execution_count": 13,
   "metadata": {},
   "outputs": [],
   "source": [
    "# Run this cell and use these variables from here-on after\n",
    "yelp_rating = scores['rating']\n",
    "review_count = scores['review_count']\n",
    "price = scores['price']"
   ]
  },
  {
   "cell_type": "markdown",
   "metadata": {},
   "source": [
    "### Question 5a:\n",
    "First, let's take a look at the `review_count` variable. Make a histogram to examine the distribution of review counts in the following cell. In your call to `plot_histogram`, try including the argument `bins = x` where `x` is the number of bins to see the distribution in more detail."
   ]
  },
  {
   "cell_type": "code",
   "execution_count": 34,
   "metadata": {},
   "outputs": [],
   "source": [
    "## Your Code Here ...\n"
   ]
  },
  {
   "cell_type": "code",
   "execution_count": 41,
   "metadata": {},
   "outputs": [
    {
     "data": {
      "text/plain": [
       "(<Figure size 576x360 with 1 Axes>, <AxesSubplot:>)"
      ]
     },
     "execution_count": 41,
     "metadata": {},
     "output_type": "execute_result"
    },
    {
     "data": {
      "image/png": "[encoded data removed]",
      "text/plain": [
       "<Figure size 576x360 with 1 Axes>"
      ]
     },
     "metadata": {
      "needs_background": "light"
     },
     "output_type": "display_data"
    }
   ],
   "source": [
    "plot_histogram(review_count, bins = 100)"
   ]
  },
  {
   "cell_type": "markdown",
   "metadata": {},
   "source": [
    "Looking at the distribution, you might notice see that it is _highly_ right skewed, (if not make sure you're plotting the right variable!)\n",
    "\n",
    "Having skewed data is problematic. Remember in Lecture 3, we mentioned how outliers will skew the mean of the distribution. A similar thing happens in linear regression, outliers will cause the predictions to be skewed as well. \n",
    "\n",
    "We will solve this by taking the natural log of the data."
   ]
  },
  {
   "cell_type": "markdown",
   "metadata": {},
   "source": [
    "### Question 5b:\n",
    "\n",
    "Use `np.log` and take the natural log of the `review_counts` data. Assigned this to the variable, `logged_review_counts`, and then plot a scatterplot of `logged_review_count` and `yelp_rating`. Put `logged_review_count` on the x-axis and `yelp_rating` on the y_axis. "
   ]
  },
  {
   "cell_type": "code",
   "execution_count": null,
   "metadata": {},
   "outputs": [],
   "source": [
    "## Your Code Here ...\n",
    "\n",
    "logged_review_counts = ...\n",
    "\n",
    "# plot scatterplot below"
   ]
  },
  {
   "cell_type": "code",
   "execution_count": 9,
   "metadata": {},
   "outputs": [
    {
     "data": {
      "text/plain": [
       "(<Figure size 576x360 with 1 Axes>, <AxesSubplot:>)"
      ]
     },
     "execution_count": 9,
     "metadata": {},
     "output_type": "execute_result"
    },
    {
     "data": {
      "image/png": "[encoded data removed]",
      "text/plain": [
       "<Figure size 576x360 with 1 Axes>"
      ]
     },
     "metadata": {
      "needs_background": "light"
     },
     "output_type": "display_data"
    }
   ],
   "source": [
    "plot_scatter(np.log(review_count), yelp_rating)"
   ]
  },
  {
   "cell_type": "markdown",
   "metadata": {},
   "source": [
    "### Question 5c:\n",
    "\n",
    "Now, let's use out knowledge of Python and run linear regression to try and fit a line to this data. \n",
    "\n",
    "As before, we will be fitting a line to the data with the equation $y = mx + b$. Remember that we are using `logged_review_counts` as the input to $x$ in the equatiion, hence the $x$ in this equation represents the natural log of review counts, and the $y$ in this equation represents the yelp rating. \n",
    "\n",
    "Write the function `mse_yelp` that calculates the mean squared error for any given slope and intercept. `mse_yelp` should take in two arguments, a slope and an intercept, and calculate the mean squared error from preedicting yelp review ratings from the number of reviews if we used those parameters to predict the values. \n",
    "\n",
    "_Hint: Look back to Lab 4 for the internals of this function._ "
   ]
  },
  {
   "cell_type": "code",
   "execution_count": 14,
   "metadata": {},
   "outputs": [],
   "source": [
    "def mse_yelp(slope, intercept):\n",
    "    \"\"\"Calculates the MSE from predicting yelp ratin from logged review counts\"\"\"\n",
    "\n",
    "    ## Your Code Here...\n",
    "\n",
    "    ...\n",
    "\n",
    "    mse = ...\n",
    "    return mse"
   ]
  },
  {
   "cell_type": "code",
   "execution_count": 15,
   "metadata": {},
   "outputs": [],
   "source": [
    "check('q5c', mse_yelp)"
   ]
  },
  {
   "cell_type": "markdown",
   "metadata": {},
   "source": [
    "### Question 5d:\n",
    "\n",
    "Now, use the `minimize` function to solve for the best slope and intercept. Assign these to `best_slope` and `best_intercept` accordinly."
   ]
  },
  {
   "cell_type": "code",
   "execution_count": null,
   "metadata": {},
   "outputs": [],
   "source": [
    "best_parameters = minimize(...)\n",
    "best_slope = ...\n",
    "best_intercept = ..."
   ]
  },
  {
   "cell_type": "code",
   "execution_count": 35,
   "metadata": {},
   "outputs": [
    {
     "name": "stdout",
     "output_type": "stream",
     "text": [
      "-0.3046767627028799 6.203485268680443\n"
     ]
    }
   ],
   "source": [
    "lreview_count = np.log(review_count)\n",
    "best_slope = np.corrcoef(yelp_rating, lreview_count)[1,0]*np.std(yelp_rating)/np.std(lreview_count)\n",
    "best_intercept = np.mean(yelp_rating) - slope*np.mean(lreview_count)\n",
    "print(slope, intercept)\n"
   ]
  },
  {
   "cell_type": "code",
   "execution_count": null,
   "metadata": {},
   "outputs": [],
   "source": [
    "check('q5d', [best_slope, best_intercept])"
   ]
  },
  {
   "cell_type": "markdown",
   "metadata": {},
   "source": [
    "Run the following cell to plot the best slope and intercept on the scatterplot, we've provided the code for you! "
   ]
  },
  {
   "cell_type": "code",
   "execution_count": null,
   "metadata": {},
   "outputs": [],
   "source": [
    "# just run this line \n",
    "plot_q5d(best_slope, best_intercept)"
   ]
  },
  {
   "cell_type": "markdown",
   "metadata": {},
   "source": [
    "### Question 5e (Optional): \n",
    "\n",
    "Now, we'll do the same process, but grouping the data using the pricing of the data. We'll write a big for loop for this, looping through the price data, which we've included in the variable `prices`. \n",
    "\n",
    "Python is a dynamic language. If you change the variable assigned to a name, functions that used that name before will update and use the latest version of whatever is assigned to the name. \n",
    "\n",
    "We will exploit this and quickly run four regressions without having to rewrite code over and over again. \n",
    "\n",
    "Fill in the following code (which we've indicated in the commented sections with \"`Your Code Here...`\". Please be careful not to delete any code that is written there before, and only edit the lines indicated.\n",
    "\n",
    "Complete the following steps:\n",
    "1) Inside of the for loop, assign `data` to be a subset of `scores` that only contains restaurants with the current price. Remember, in a for loop, you can access the current value in the list you are looping through by using the first argument in the for loop, in this case `price_level`.\n",
    "\n",
    "2) Fill in the blanks of the function `mse_yelp_subset`. Instead of using the data from scores to calculate the mse, we now only want to use a subset of data that includes the specific pricelevel, which we did in step 1. Notice how we are defining \n",
    "\n",
    "3) Find the best slope and intercept for the subset of data\n",
    "\n",
    "3) Access the best_slope and best_intercept and store them in the arrays, `best_slopes` and `best_intercepts`. \n",
    "\n",
    "You should end up with an array of 4 slopes and an array of 4 intercepts, each corresponding to the different price levels in `prices`.  "
   ]
  },
  {
   "cell_type": "code",
   "execution_count": null,
   "metadata": {},
   "outputs": [],
   "source": [
    "prices = [\"$\", \"$$\", \"$$$\", \"$$$$\"]\n",
    "\n",
    "best_slopes = np.array([])\n",
    "best_intercepts = np.array([])\n",
    "\n",
    "for price in prices:\n",
    "    data = ... # Your Code Here\n",
    "\n",
    "    def mse_yelp_subset(slope, intercept):\n",
    "\n",
    "        # your code here to calculate the MSE using your subset of data\n",
    "\n",
    "        mse = ...\n",
    "        return mse\n",
    "    \n",
    "    best_vals = ... # Your Code Here...\n",
    "\n",
    "    best_slopes = np.append(...) # Your Code Here ...\n",
    "    best_intercepts = np.append(...) # Your Code Here ...'\n",
    "\n",
    "    print(\"Best Slopes\", best_slopes)\n",
    "    print(\"Best Intercepts\", best_intercepts)"
   ]
  },
  {
   "cell_type": "code",
   "execution_count": 36,
   "metadata": {},
   "outputs": [
    {
     "name": "stdout",
     "output_type": "stream",
     "text": [
      "[0.03192698761359747, 0.0025301277782436554, 0.030475951607835033, -0.3046767627028799]\n",
      "[4.000809743775685, 4.0480400737859386, 3.7817535827874766, 6.203485268680443]\n"
     ]
    }
   ],
   "source": [
    "slopes = []\n",
    "intercepts = []\n",
    "for price in prices:\n",
    "    data = scores[scores['price'] == price]\n",
    "    rating = data['rating']\n",
    "    review_num = np.log(data['review_count'])\n",
    "    slope = np.corrcoef(rating, review_num)[1,0]*np.std(rating)/np.std(review_num)\n",
    "    intercept = np.mean(rating) - slope*np.mean(review_num)\n",
    "    slopes.append(slope)\n",
    "    intercepts.append(intercept)\n",
    "    # plot_scatter(review_num, rating)\n",
    "\n",
    "print(slopes)\n",
    "print(intercepts)\n",
    "\n",
    "best_slopes = slopes\n",
    "best_intercepts = intercepts"
   ]
  },
  {
   "cell_type": "code",
   "execution_count": 37,
   "metadata": {},
   "outputs": [],
   "source": [
    "check('q5e1', [best_slopes, best_intercepts])"
   ]
  },
  {
   "cell_type": "markdown",
   "metadata": {},
   "source": [
    "Compare the slopes of the lines of best fit within the subsets to that of regressing on the overall data. Do you notice anything interesting? \n",
    "\n",
    "This is sometimes called Simpson's Paradox, where when you look at subsets of a group, the correlation in the data flips. As you'll see from our results, when we regressed with the full dataset, there was a negative slope. Now, in three of the subgroups, there is a positive slope instead. "
   ]
  },
  {
   "cell_type": "markdown",
   "metadata": {},
   "source": [
    "# 4. Conclusion\n",
    "\n",
    "Great job on finishing the project! Please save and run the following cell `check_all()` for credit! "
   ]
  },
  {
   "cell_type": "code",
   "execution_count": null,
   "metadata": {},
   "outputs": [],
   "source": [
    "check_all()"
   ]
  }
 ],
 "metadata": {
  "kernelspec": {
   "display_name": "Python 3.8.8 ('base')",
   "language": "python",
   "name": "python3"
  },
  "language_info": {
   "codemirror_mode": {
    "name": "ipython",
    "version": 3
   },
   "file_extension": ".py",
   "mimetype": "text/x-python",
   "name": "python",
   "nbconvert_exporter": "python",
   "pygments_lexer": "ipython3",
   "version": "3.8.8"
  },
  "orig_nbformat": 4,
  "vscode": {
   "interpreter": {
    "hash": "2f39d6a9340f9094a15ae3206b3cb83be26c4819028e15d4b820076fd30a3721"
   }
  }
 },
 "nbformat": 4,
 "nbformat_minor": 2
}

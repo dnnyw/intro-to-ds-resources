{
 "cells": [
  {
   "cell_type": "markdown",
   "metadata": {},
   "source": [
    "# Final Project: Yelp and Food Safety\n",
    "#### Exploring the San Francisco Restaurant World\n",
    "\n",
    "In this project, we will investigate a subset of the restaurants on Yelp located in San Francisco, California. You will first explore some of the data about the restaurants themselves, calculating some summary statistics and trying to figure out some patterns in the data. Next we will merge that with a list of health inspection scores and violations that have been [made available by the San Francisco Department of Public Health](https://data.sfgov.org/Health-and-Social-Services/Restaurant-Scores-LIVES-Standard/pyih-qa8i). Lastly, we will run some linear regression analysis to see if there is any meaningful relationship between health inspection scores, and other aspects of each restaurant\n",
    "\n",
    "If you have any questions or get stuck or anything, feel free to come to office hours. \n",
    "\n",
    "**Helpful Resource:**\n",
    "\n",
    "* [Python Reference](https://docs.google.com/document/d/1zpTTl47NoGf2A3_oE1YusLyb-cF2sZMALdCMM5dpYIA/edit): Cheat sheet for Python and other functions used in this course\n",
    "\n",
    "\n",
    "To get started on the final project, run the following cell to download the necessary materials, and have fun! \n"
   ]
  },
  {
   "cell_type": "code",
   "execution_count": 1,
   "metadata": {},
   "outputs": [],
   "source": [
    "# importing some helful libraries\n",
    "import pandas as pd\n",
    "import numpy as np\n",
    "from functions import * \n",
    "\n",
    "# downloading necessary data \n",
    "\n",
    "# !wget \n"
   ]
  },
  {
   "cell_type": "markdown",
   "metadata": {},
   "source": [
    "## 1. San Franciso Restaurant Data\n",
    "\n",
    "In this final project you'll be learning a few more fancy ways to deal with _dataframes_, which we previously introduced in labs 3 and 4 for holding and managing data to be used in Python. The package that is most commonly used to handle data analysis and manipulation in Python is called _Pandas_. \n",
    "\n",
    "Before we get into anything else about Pandas, let's first go over the data we will be using\n",
    "\n",
    "- `businesses.csv` is a file that contains information for a little over 700 restaurants in San Francisco. Each restaurant has a unique business id, which we will make use of.  \n",
    "- `inspections.csv` is a file that contains a list of health inspections conducted by the San Francisco Department of Public Health\n",
    "\n",
    "Most of the columns in the Dataframes are rather self-explanatory. However, the `bid` column stands for the _*business ID*_"
   ]
  },
  {
   "cell_type": "code",
   "execution_count": null,
   "metadata": {},
   "outputs": [],
   "source": []
  },
  {
   "cell_type": "code",
   "execution_count": null,
   "metadata": {},
   "outputs": [],
   "source": []
  },
  {
   "cell_type": "code",
   "execution_count": null,
   "metadata": {},
   "outputs": [],
   "source": []
  }
 ],
 "metadata": {
  "kernelspec": {
   "display_name": "Python 3.8.8 ('base')",
   "language": "python",
   "name": "python3"
  },
  "language_info": {
   "codemirror_mode": {
    "name": "ipython",
    "version": 3
   },
   "file_extension": ".py",
   "mimetype": "text/x-python",
   "name": "python",
   "nbconvert_exporter": "python",
   "pygments_lexer": "ipython3",
   "version": "3.8.8"
  },
  "orig_nbformat": 4,
  "vscode": {
   "interpreter": {
    "hash": "2f39d6a9340f9094a15ae3206b3cb83be26c4819028e15d4b820076fd30a3721"
   }
  }
 },
 "nbformat": 4,
 "nbformat_minor": 2
}

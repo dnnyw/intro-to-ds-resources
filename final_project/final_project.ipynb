{
 "cells": [
  {
   "cell_type": "markdown",
   "metadata": {},
   "source": [
    "# Final Project: Yelp and Food Safety\n",
    "#### Exploring the San Francisco Restaurant World\n",
    "\n",
    "In this project, we will investigate a subset of the restaurants and related information from them adapted from Yelp data located in San Francisco, California. You will first explore some of the data about the restaurants themselves, calculating some summary statistics and trying to figure out some patterns in the data. Next we will merge that with a list of health inspection scores and violations that have been [made available by the San Francisco Department of Public Health](https://data.sfgov.org/Health-and-Social-Services/Restaurant-Scores-LIVES-Standard/pyih-qa8i). Lastly, we will run some linear regression analysis to see if there is any meaningful relationship between health inspection scores, and other aspects of each restaurant\n",
    "\n",
    "If you have any questions or get stuck or anything, feel free to come to office hours. \n",
    "\n",
    "**Helpful Resource:**\n",
    "\n",
    "* [Python Reference](https://docs.google.com/document/d/1zpTTl47NoGf2A3_oE1YusLyb-cF2sZMALdCMM5dpYIA/edit): Cheat sheet for Python and other functions used in this course\n",
    "\n",
    "\n",
    "To get started on the final project, first run the following cell to import some necessary packages, and have fun! \n"
   ]
  },
  {
   "cell_type": "code",
   "execution_count": 5,
   "metadata": {},
   "outputs": [],
   "source": [
    "# importing some helful libraries\n",
    "import pandas as pd\n",
    "import numpy as np\n",
    "from functions import * \n",
    "\n",
    "# downloading necessary data \n",
    "\n",
    "# !wget \n",
    "\n",
    "from project_helper import * \n",
    "def check(*args):\n",
    "    return None"
   ]
  },
  {
   "cell_type": "markdown",
   "metadata": {},
   "source": [
    "# **1. San Francisco Restaurant Data**\n",
    "\n",
    "In this section you'll be learning a few extra useful features of _dataframes_, which we previously used in lab 3 as a way to managing data for analysis. \n",
    "\n",
    "As you might have noticed, the package we are using is called _Pandas_, which is the most commonly used package to clean and analyze data. You will learn some of the most important features of manipulating data using Pandas, and get a feel for exploring data using Python. "
   ]
  },
  {
   "cell_type": "markdown",
   "metadata": {},
   "source": [
    "## Part One: Loading the Data\n",
    "\n",
    "As mentioned in lecture, we can use Pandas to read many differe types of data format and read it into a table. The most common are `.csv` files, which stand for comma-separated-values. \n",
    "\n",
    "Run the following cell to download two `.csv` files that contain the data you will be working with in this project."
   ]
  },
  {
   "cell_type": "code",
   "execution_count": 1,
   "metadata": {},
   "outputs": [],
   "source": [
    "# !wget ... \n"
   ]
  },
  {
   "cell_type": "markdown",
   "metadata": {},
   "source": [
    "As a side note, when you reopen this project in Google Colab, your code will remain, however it will delete any files you downloaded in the previous session. Just a friendly reminder to rerun that cell block to download the files each time you restart Google Colab.\n"
   ]
  },
  {
   "cell_type": "markdown",
   "metadata": {},
   "source": [
    "\n",
    "### Question 1:\n",
    "\n",
    "Now, load the files, named `businesses.csv` and `inspections.csv` into Pandas dataframes named `bus`, and `ins` respectively. \n",
    "\n",
    "Run the cell afterwards to check if you did this correctly."
   ]
  },
  {
   "cell_type": "code",
   "execution_count": null,
   "metadata": {},
   "outputs": [],
   "source": [
    "## Your Code Here...\n",
    "\n",
    "bus = ...\n",
    "ins = ..."
   ]
  },
  {
   "cell_type": "code",
   "execution_count": 6,
   "metadata": {},
   "outputs": [],
   "source": [
    "check('q1a', [bus, ins])"
   ]
  },
  {
   "cell_type": "code",
   "execution_count": 9,
   "metadata": {},
   "outputs": [],
   "source": [
    "# delete cell\n",
    "bus = pd.read_csv('data/businesses.csv')\n",
    "ins = pd.read_csv('data/inspections.csv')"
   ]
  },
  {
   "cell_type": "markdown",
   "metadata": {},
   "source": [
    "Now that you've read in the files, let's try some `pd.DataFrame` methods ([docs](https://pandas.pydata.org/pandas-docs/version/0.21/generated/pandas.DataFrame.html)).\n",
    "We can use the `DataFrame.head` method to show the top few lines of the `bus` and `ins` dataframes. To show multiple return outputs in one single cell, you can use `display()`.\n",
    "\n",
    "Run the following cell to display the both data frames. "
   ]
  },
  {
   "cell_type": "code",
   "execution_count": 10,
   "metadata": {},
   "outputs": [
    {
     "data": {
      "text/html": [
       "<div>\n",
       "<style scoped>\n",
       "    .dataframe tbody tr th:only-of-type {\n",
       "        vertical-align: middle;\n",
       "    }\n",
       "\n",
       "    .dataframe tbody tr th {\n",
       "        vertical-align: top;\n",
       "    }\n",
       "\n",
       "    .dataframe thead th {\n",
       "        text-align: right;\n",
       "    }\n",
       "</style>\n",
       "<table border=\"1\" class=\"dataframe\">\n",
       "  <thead>\n",
       "    <tr style=\"text-align: right;\">\n",
       "      <th></th>\n",
       "      <th>name</th>\n",
       "      <th>display_address</th>\n",
       "      <th>type</th>\n",
       "      <th>rating</th>\n",
       "      <th>review_count</th>\n",
       "      <th>price</th>\n",
       "      <th>latitude</th>\n",
       "      <th>longitude</th>\n",
       "      <th>bid</th>\n",
       "    </tr>\n",
       "  </thead>\n",
       "  <tbody>\n",
       "    <tr>\n",
       "      <th>0</th>\n",
       "      <td>House of Prime Rib</td>\n",
       "      <td>1906 Van Ness Ave, San Francisco, CA 94109</td>\n",
       "      <td>American (Traditional)</td>\n",
       "      <td>4.52</td>\n",
       "      <td>7912</td>\n",
       "      <td>$$$</td>\n",
       "      <td>37.793338</td>\n",
       "      <td>-122.422827</td>\n",
       "      <td>3350</td>\n",
       "    </tr>\n",
       "    <tr>\n",
       "      <th>1</th>\n",
       "      <td>Burma Superstar</td>\n",
       "      <td>309 Clement St, San Francisco, CA 94118</td>\n",
       "      <td>Burmese</td>\n",
       "      <td>4.69</td>\n",
       "      <td>7145</td>\n",
       "      <td>$$</td>\n",
       "      <td>37.783004</td>\n",
       "      <td>-122.462539</td>\n",
       "      <td>1977</td>\n",
       "    </tr>\n",
       "    <tr>\n",
       "      <th>2</th>\n",
       "      <td>B Patisserie</td>\n",
       "      <td>2821 California St, San Francisco, CA 94115</td>\n",
       "      <td>Bakeries</td>\n",
       "      <td>4.77</td>\n",
       "      <td>3006</td>\n",
       "      <td>$$</td>\n",
       "      <td>37.788014</td>\n",
       "      <td>-122.440756</td>\n",
       "      <td>71696</td>\n",
       "    </tr>\n",
       "    <tr>\n",
       "      <th>3</th>\n",
       "      <td>Kokkari Estiatorio</td>\n",
       "      <td>200 Jackson St, San Francisco, CA 94111</td>\n",
       "      <td>Greek</td>\n",
       "      <td>4.81</td>\n",
       "      <td>4843</td>\n",
       "      <td>$$$</td>\n",
       "      <td>37.796918</td>\n",
       "      <td>-122.399864</td>\n",
       "      <td>2858</td>\n",
       "    </tr>\n",
       "    <tr>\n",
       "      <th>4</th>\n",
       "      <td>San Tung</td>\n",
       "      <td>1031 Irving St, San Francisco, CA 94122</td>\n",
       "      <td>Chinese</td>\n",
       "      <td>4.58</td>\n",
       "      <td>7497</td>\n",
       "      <td>$$</td>\n",
       "      <td>37.763891</td>\n",
       "      <td>-122.468805</td>\n",
       "      <td>67330</td>\n",
       "    </tr>\n",
       "  </tbody>\n",
       "</table>\n",
       "</div>"
      ],
      "text/plain": [
       "                 name                              display_address  \\\n",
       "0  House of Prime Rib   1906 Van Ness Ave, San Francisco, CA 94109   \n",
       "1     Burma Superstar      309 Clement St, San Francisco, CA 94118   \n",
       "2        B Patisserie  2821 California St, San Francisco, CA 94115   \n",
       "3  Kokkari Estiatorio      200 Jackson St, San Francisco, CA 94111   \n",
       "4            San Tung      1031 Irving St, San Francisco, CA 94122   \n",
       "\n",
       "                     type  rating  review_count price   latitude   longitude  \\\n",
       "0  American (Traditional)    4.52          7912   $$$  37.793338 -122.422827   \n",
       "1                 Burmese    4.69          7145    $$  37.783004 -122.462539   \n",
       "2                Bakeries    4.77          3006    $$  37.788014 -122.440756   \n",
       "3                   Greek    4.81          4843   $$$  37.796918 -122.399864   \n",
       "4                 Chinese    4.58          7497    $$  37.763891 -122.468805   \n",
       "\n",
       "     bid  \n",
       "0   3350  \n",
       "1   1977  \n",
       "2  71696  \n",
       "3   2858  \n",
       "4  67330  "
      ]
     },
     "metadata": {},
     "output_type": "display_data"
    },
    {
     "data": {
      "text/html": [
       "<div>\n",
       "<style scoped>\n",
       "    .dataframe tbody tr th:only-of-type {\n",
       "        vertical-align: middle;\n",
       "    }\n",
       "\n",
       "    .dataframe tbody tr th {\n",
       "        vertical-align: top;\n",
       "    }\n",
       "\n",
       "    .dataframe thead th {\n",
       "        text-align: right;\n",
       "    }\n",
       "</style>\n",
       "<table border=\"1\" class=\"dataframe\">\n",
       "  <thead>\n",
       "    <tr style=\"text-align: right;\">\n",
       "      <th></th>\n",
       "      <th>iid</th>\n",
       "      <th>date</th>\n",
       "      <th>score</th>\n",
       "      <th>type</th>\n",
       "      <th>bid</th>\n",
       "      <th>timestamp</th>\n",
       "      <th>year</th>\n",
       "    </tr>\n",
       "  </thead>\n",
       "  <tbody>\n",
       "    <tr>\n",
       "      <th>0</th>\n",
       "      <td>100504_20190411</td>\n",
       "      <td>04/11/2019 12:00:00 AM</td>\n",
       "      <td>88</td>\n",
       "      <td>Routine - Unscheduled</td>\n",
       "      <td>100504</td>\n",
       "      <td>2019-04-11</td>\n",
       "      <td>2019</td>\n",
       "    </tr>\n",
       "    <tr>\n",
       "      <th>1</th>\n",
       "      <td>100504_20190619</td>\n",
       "      <td>06/19/2019 12:00:00 AM</td>\n",
       "      <td>-1</td>\n",
       "      <td>New Ownership</td>\n",
       "      <td>100504</td>\n",
       "      <td>2019-06-19</td>\n",
       "      <td>2019</td>\n",
       "    </tr>\n",
       "    <tr>\n",
       "      <th>2</th>\n",
       "      <td>100504_20190927</td>\n",
       "      <td>09/27/2019 12:00:00 AM</td>\n",
       "      <td>-1</td>\n",
       "      <td>Reinspection/Followup</td>\n",
       "      <td>100504</td>\n",
       "      <td>2019-09-27</td>\n",
       "      <td>2019</td>\n",
       "    </tr>\n",
       "    <tr>\n",
       "      <th>3</th>\n",
       "      <td>100992_20190517</td>\n",
       "      <td>05/17/2019 12:00:00 AM</td>\n",
       "      <td>-1</td>\n",
       "      <td>Non-inspection site visit</td>\n",
       "      <td>100992</td>\n",
       "      <td>2019-05-17</td>\n",
       "      <td>2019</td>\n",
       "    </tr>\n",
       "    <tr>\n",
       "      <th>4</th>\n",
       "      <td>100992_20190621</td>\n",
       "      <td>06/21/2019 12:00:00 AM</td>\n",
       "      <td>-1</td>\n",
       "      <td>New Ownership</td>\n",
       "      <td>100992</td>\n",
       "      <td>2019-06-21</td>\n",
       "      <td>2019</td>\n",
       "    </tr>\n",
       "  </tbody>\n",
       "</table>\n",
       "</div>"
      ],
      "text/plain": [
       "               iid                    date  score                       type  \\\n",
       "0  100504_20190411  04/11/2019 12:00:00 AM     88      Routine - Unscheduled   \n",
       "1  100504_20190619  06/19/2019 12:00:00 AM     -1              New Ownership   \n",
       "2  100504_20190927  09/27/2019 12:00:00 AM     -1      Reinspection/Followup   \n",
       "3  100992_20190517  05/17/2019 12:00:00 AM     -1  Non-inspection site visit   \n",
       "4  100992_20190621  06/21/2019 12:00:00 AM     -1              New Ownership   \n",
       "\n",
       "      bid   timestamp  year  \n",
       "0  100504  2019-04-11  2019  \n",
       "1  100504  2019-06-19  2019  \n",
       "2  100504  2019-09-27  2019  \n",
       "3  100992  2019-05-17  2019  \n",
       "4  100992  2019-06-21  2019  "
      ]
     },
     "metadata": {},
     "output_type": "display_data"
    }
   ],
   "source": [
    "display(bus.head(), ins.head())"
   ]
  },
  {
   "cell_type": "markdown",
   "metadata": {},
   "source": [
    "You can also use the `DataFrame.describe` method to learn about the numeric columns of each dataframe. It can be handy for computing summaries of various statistics of our dataframes. \n",
    "\n",
    "Try it out with our two dataframes."
   ]
  },
  {
   "cell_type": "code",
   "execution_count": 11,
   "metadata": {},
   "outputs": [],
   "source": [
    "# Try displaying the DataFrame.describe outputs for bus and ins\n",
    "\n",
    "## Your code here..."
   ]
  },
  {
   "cell_type": "code",
   "execution_count": 12,
   "metadata": {},
   "outputs": [
    {
     "data": {
      "text/html": [
       "<div>\n",
       "<style scoped>\n",
       "    .dataframe tbody tr th:only-of-type {\n",
       "        vertical-align: middle;\n",
       "    }\n",
       "\n",
       "    .dataframe tbody tr th {\n",
       "        vertical-align: top;\n",
       "    }\n",
       "\n",
       "    .dataframe thead th {\n",
       "        text-align: right;\n",
       "    }\n",
       "</style>\n",
       "<table border=\"1\" class=\"dataframe\">\n",
       "  <thead>\n",
       "    <tr style=\"text-align: right;\">\n",
       "      <th></th>\n",
       "      <th>rating</th>\n",
       "      <th>review_count</th>\n",
       "      <th>latitude</th>\n",
       "      <th>longitude</th>\n",
       "      <th>bid</th>\n",
       "    </tr>\n",
       "  </thead>\n",
       "  <tbody>\n",
       "    <tr>\n",
       "      <th>count</th>\n",
       "      <td>658.000000</td>\n",
       "      <td>658.000000</td>\n",
       "      <td>658.000000</td>\n",
       "      <td>658.000000</td>\n",
       "      <td>658.000000</td>\n",
       "    </tr>\n",
       "    <tr>\n",
       "      <th>mean</th>\n",
       "      <td>4.086611</td>\n",
       "      <td>1239.186930</td>\n",
       "      <td>-4645.035430</td>\n",
       "      <td>-4730.493422</td>\n",
       "      <td>55116.506079</td>\n",
       "    </tr>\n",
       "    <tr>\n",
       "      <th>std</th>\n",
       "      <td>0.408482</td>\n",
       "      <td>977.693558</td>\n",
       "      <td>5010.965175</td>\n",
       "      <td>4930.982011</td>\n",
       "      <td>34643.693046</td>\n",
       "    </tr>\n",
       "    <tr>\n",
       "      <th>min</th>\n",
       "      <td>2.880000</td>\n",
       "      <td>157.000000</td>\n",
       "      <td>-9999.000000</td>\n",
       "      <td>-9999.000000</td>\n",
       "      <td>31.000000</td>\n",
       "    </tr>\n",
       "    <tr>\n",
       "      <th>25%</th>\n",
       "      <td>3.790000</td>\n",
       "      <td>616.250000</td>\n",
       "      <td>-9999.000000</td>\n",
       "      <td>-9999.000000</td>\n",
       "      <td>15755.000000</td>\n",
       "    </tr>\n",
       "    <tr>\n",
       "      <th>50%</th>\n",
       "      <td>4.090000</td>\n",
       "      <td>966.000000</td>\n",
       "      <td>37.749223</td>\n",
       "      <td>-122.477503</td>\n",
       "      <td>68375.000000</td>\n",
       "    </tr>\n",
       "    <tr>\n",
       "      <th>75%</th>\n",
       "      <td>4.380000</td>\n",
       "      <td>1564.500000</td>\n",
       "      <td>37.782897</td>\n",
       "      <td>-122.420564</td>\n",
       "      <td>82940.500000</td>\n",
       "    </tr>\n",
       "    <tr>\n",
       "      <th>max</th>\n",
       "      <td>4.980000</td>\n",
       "      <td>7912.000000</td>\n",
       "      <td>37.807854</td>\n",
       "      <td>-122.388189</td>\n",
       "      <td>102398.000000</td>\n",
       "    </tr>\n",
       "  </tbody>\n",
       "</table>\n",
       "</div>"
      ],
      "text/plain": [
       "           rating  review_count     latitude    longitude            bid\n",
       "count  658.000000    658.000000   658.000000   658.000000     658.000000\n",
       "mean     4.086611   1239.186930 -4645.035430 -4730.493422   55116.506079\n",
       "std      0.408482    977.693558  5010.965175  4930.982011   34643.693046\n",
       "min      2.880000    157.000000 -9999.000000 -9999.000000      31.000000\n",
       "25%      3.790000    616.250000 -9999.000000 -9999.000000   15755.000000\n",
       "50%      4.090000    966.000000    37.749223  -122.477503   68375.000000\n",
       "75%      4.380000   1564.500000    37.782897  -122.420564   82940.500000\n",
       "max      4.980000   7912.000000    37.807854  -122.388189  102398.000000"
      ]
     },
     "metadata": {},
     "output_type": "display_data"
    },
    {
     "data": {
      "text/html": [
       "<div>\n",
       "<style scoped>\n",
       "    .dataframe tbody tr th:only-of-type {\n",
       "        vertical-align: middle;\n",
       "    }\n",
       "\n",
       "    .dataframe tbody tr th {\n",
       "        vertical-align: top;\n",
       "    }\n",
       "\n",
       "    .dataframe thead th {\n",
       "        text-align: right;\n",
       "    }\n",
       "</style>\n",
       "<table border=\"1\" class=\"dataframe\">\n",
       "  <thead>\n",
       "    <tr style=\"text-align: right;\">\n",
       "      <th></th>\n",
       "      <th>score</th>\n",
       "      <th>bid</th>\n",
       "      <th>year</th>\n",
       "    </tr>\n",
       "  </thead>\n",
       "  <tbody>\n",
       "    <tr>\n",
       "      <th>count</th>\n",
       "      <td>3056.000000</td>\n",
       "      <td>3056.000000</td>\n",
       "      <td>3056.000000</td>\n",
       "    </tr>\n",
       "    <tr>\n",
       "      <th>mean</th>\n",
       "      <td>47.749673</td>\n",
       "      <td>54402.915249</td>\n",
       "      <td>2017.900851</td>\n",
       "    </tr>\n",
       "    <tr>\n",
       "      <th>std</th>\n",
       "      <td>45.423231</td>\n",
       "      <td>34729.741573</td>\n",
       "      <td>0.922701</td>\n",
       "    </tr>\n",
       "    <tr>\n",
       "      <th>min</th>\n",
       "      <td>-1.000000</td>\n",
       "      <td>31.000000</td>\n",
       "      <td>2016.000000</td>\n",
       "    </tr>\n",
       "    <tr>\n",
       "      <th>25%</th>\n",
       "      <td>-1.000000</td>\n",
       "      <td>7786.000000</td>\n",
       "      <td>2017.000000</td>\n",
       "    </tr>\n",
       "    <tr>\n",
       "      <th>50%</th>\n",
       "      <td>78.000000</td>\n",
       "      <td>68394.000000</td>\n",
       "      <td>2018.000000</td>\n",
       "    </tr>\n",
       "    <tr>\n",
       "      <th>75%</th>\n",
       "      <td>90.000000</td>\n",
       "      <td>82909.000000</td>\n",
       "      <td>2019.000000</td>\n",
       "    </tr>\n",
       "    <tr>\n",
       "      <th>max</th>\n",
       "      <td>100.000000</td>\n",
       "      <td>102398.000000</td>\n",
       "      <td>2019.000000</td>\n",
       "    </tr>\n",
       "  </tbody>\n",
       "</table>\n",
       "</div>"
      ],
      "text/plain": [
       "             score            bid         year\n",
       "count  3056.000000    3056.000000  3056.000000\n",
       "mean     47.749673   54402.915249  2017.900851\n",
       "std      45.423231   34729.741573     0.922701\n",
       "min      -1.000000      31.000000  2016.000000\n",
       "25%      -1.000000    7786.000000  2017.000000\n",
       "50%      78.000000   68394.000000  2018.000000\n",
       "75%      90.000000   82909.000000  2019.000000\n",
       "max     100.000000  102398.000000  2019.000000"
      ]
     },
     "metadata": {},
     "output_type": "display_data"
    }
   ],
   "source": [
    "# delete this cell \n",
    "display(bus.describe(), ins.describe())"
   ]
  },
  {
   "cell_type": "markdown",
   "metadata": {},
   "source": [
    "From its name alone, we expect the `bus.csv` file to contain information about the restaurants. Let's do some Exploratory Data Analysis (EDA), and see if we can get a better understanding of the data. \n",
    "\n"
   ]
  },
  {
   "cell_type": "markdown",
   "metadata": {},
   "source": [
    "## Part 2: Exploring the Data"
   ]
  },
  {
   "cell_type": "markdown",
   "metadata": {},
   "source": [
    "In lab 3, we refered to the data in a column as an array. Another term that it can be called is a `Series`, which is just a fancier version of an array. \n",
    "\n",
    "The nice thing about Series' is that they have lots of [built in functions within them](https://pandas.pydata.org/docs/reference/api/pandas.Series.html) that are called methods. \n",
    "\n",
    "\n",
    "- The [`Series.unique`](https://pandas.pydata.org/docs/reference/api/pandas.Series.unique.html) method returns an array of all the unique entries inside of a Series. \n",
    "\n",
    "- The [`Series.value_counts`](https://pandas.pydata.org/docs/reference/api/pandas.Series.value_counts.html) method returns a new series that lists the number of occurencies of each unique element in a Series. \n",
    "\n",
    "Read the documentation is you want a deeper look at these functions, you can also look at some examples of how they are used. "
   ]
  },
  {
   "cell_type": "markdown",
   "metadata": {},
   "source": [
    "### Question 2a:\n",
    "\n",
    "Notice that there are two different identifiers for businesses in our dataset, `bid` which is an identification number, as well as `name`. \n",
    "\n",
    "For both of these variables, figure out the number of unique entires, and assign them to `n_bus`, and `n_bid`."
   ]
  },
  {
   "cell_type": "code",
   "execution_count": 19,
   "metadata": {},
   "outputs": [
    {
     "name": "stdout",
     "output_type": "stream",
     "text": [
      " Number of Unique Businesses:  Ellipsis \n",
      " Number of Unique Business ID:  Ellipsis\n"
     ]
    }
   ],
   "source": [
    "## Your Code Here...\n",
    "n_bus = ...\n",
    "n_bid = ...\n",
    "\n",
    "print(' Number of Unique Businesses: ', n_bus, \"\\n Number of Unique Business ID: \", n_bid)"
   ]
  },
  {
   "cell_type": "code",
   "execution_count": 20,
   "metadata": {},
   "outputs": [
    {
     "name": "stdout",
     "output_type": "stream",
     "text": [
      " Number of Unique Businesses:  607 \n",
      " Number of Unique Business ID:  658\n"
     ]
    }
   ],
   "source": [
    "#delete\n",
    "n_bid = len(bus['bid'].unique())\n",
    "n_bus = len(bus['name'].unique())\n",
    "\n",
    "print(' Number of Unique Businesses: ', n_bus, \"\\n Number of Unique Business ID: \", n_bid)"
   ]
  },
  {
   "cell_type": "code",
   "execution_count": null,
   "metadata": {},
   "outputs": [],
   "source": [
    "check('q2a', n_bus)"
   ]
  },
  {
   "cell_type": "markdown",
   "metadata": {},
   "source": [
    "Interesting. There are more unique `bid`'s than there are `name`'s. As you might have guessed, this is because there might be more than one location of a restaurant, yet both the `bid` and `name` can be used to identify restaurants. Since `bid` also distinguishes between the locations of a restaurant, we say `bid` is more _granular_ in data."
   ]
  },
  {
   "cell_type": "markdown",
   "metadata": {},
   "source": [
    "### Question 2b:\n",
    "\n",
    "Find the name of the restaurant with the most number of occurences in our dataset, and assign it's name as a string to `most_locations`. "
   ]
  },
  {
   "cell_type": "code",
   "execution_count": 24,
   "metadata": {},
   "outputs": [
    {
     "data": {
      "text/plain": [
       "One Market Restaurant          9\n",
       "Cake Coquette                  5\n",
       "Philz Coffee                   5\n",
       "Tonga Room & Hurricane Club    4\n",
       "Bake Cheese Tart               4\n",
       "                              ..\n",
       "Yummy Yummy                    1\n",
       "Purple Kow                     1\n",
       "Waraku                         1\n",
       "15 Romolo                      1\n",
       "Amber India                    1\n",
       "Name: name, Length: 607, dtype: int64"
      ]
     },
     "execution_count": 24,
     "metadata": {},
     "output_type": "execute_result"
    }
   ],
   "source": [
    "#delete me\n",
    "bus['name'].value_counts() "
   ]
  },
  {
   "cell_type": "code",
   "execution_count": null,
   "metadata": {},
   "outputs": [],
   "source": [
    "## Your Answer Here...\n",
    "most_locations = ..."
   ]
  },
  {
   "cell_type": "code",
   "execution_count": null,
   "metadata": {},
   "outputs": [],
   "source": [
    "check('q2b', most_locations)"
   ]
  },
  {
   "cell_type": "markdown",
   "metadata": {},
   "source": [
    "### Question 2c:\n",
    "\n",
    "The cool thing about Series is that when you apply comparison operators to them, it does it for each entry in the Series. Figure out how many restaurants chains have more than one location, and assign that to `num_mult_locations`. \n",
    "\n",
    "_Hint: Remember that True and 1 and the same. First try getting a series of booleans and then use that to find the number of locations._"
   ]
  },
  {
   "cell_type": "code",
   "execution_count": 25,
   "metadata": {},
   "outputs": [],
   "source": [
    "## Your Code Here... \n",
    "num_mult_locations = ..."
   ]
  },
  {
   "cell_type": "code",
   "execution_count": null,
   "metadata": {},
   "outputs": [],
   "source": [
    "check('q2c', num_mult_locations)"
   ]
  },
  {
   "cell_type": "markdown",
   "metadata": {},
   "source": [
    "You can also use other comparisons to return a series of booleans, refer to Lecture 2 for a list of comparison operators. This is very useful for filtering data from dataframes, which we shall do in the next problem."
   ]
  },
  {
   "cell_type": "markdown",
   "metadata": {},
   "source": [
    "### Part 3: Exploring the Data (cont.)\n",
    "\n",
    "So far, you've had a chance to select and analyze data from a single column of a dataframe. This is useful when we want to analyze information accross the observations we have (for example, accross all restaurants in our dataset). Often times we also want only consider a certain subset of our observations (for example only selecting the Italian restaurants). \n",
    "\n",
    "There are [many ways to select subsets of data](https://pandas.pydata.org/docs/user_guide/indexing.html), but we will focus on boolean-indexing. \n"
   ]
  },
  {
   "cell_type": "code",
   "execution_count": 30,
   "metadata": {},
   "outputs": [
    {
     "data": {
      "text/html": [
       "<div>\n",
       "<style scoped>\n",
       "    .dataframe tbody tr th:only-of-type {\n",
       "        vertical-align: middle;\n",
       "    }\n",
       "\n",
       "    .dataframe tbody tr th {\n",
       "        vertical-align: top;\n",
       "    }\n",
       "\n",
       "    .dataframe thead th {\n",
       "        text-align: right;\n",
       "    }\n",
       "</style>\n",
       "<table border=\"1\" class=\"dataframe\">\n",
       "  <thead>\n",
       "    <tr style=\"text-align: right;\">\n",
       "      <th></th>\n",
       "      <th>name</th>\n",
       "      <th>display_address</th>\n",
       "      <th>type</th>\n",
       "      <th>rating</th>\n",
       "      <th>review_count</th>\n",
       "      <th>price</th>\n",
       "      <th>latitude</th>\n",
       "      <th>longitude</th>\n",
       "      <th>bid</th>\n",
       "    </tr>\n",
       "  </thead>\n",
       "  <tbody>\n",
       "    <tr>\n",
       "      <th>0</th>\n",
       "      <td>House of Prime Rib</td>\n",
       "      <td>1906 Van Ness Ave, San Francisco, CA 94109</td>\n",
       "      <td>American (Traditional)</td>\n",
       "      <td>4.52</td>\n",
       "      <td>7912</td>\n",
       "      <td>$$$</td>\n",
       "      <td>37.793338</td>\n",
       "      <td>-122.422827</td>\n",
       "      <td>3350</td>\n",
       "    </tr>\n",
       "    <tr>\n",
       "      <th>1</th>\n",
       "      <td>Burma Superstar</td>\n",
       "      <td>309 Clement St, San Francisco, CA 94118</td>\n",
       "      <td>Burmese</td>\n",
       "      <td>4.69</td>\n",
       "      <td>7145</td>\n",
       "      <td>$$</td>\n",
       "      <td>37.783004</td>\n",
       "      <td>-122.462539</td>\n",
       "      <td>1977</td>\n",
       "    </tr>\n",
       "    <tr>\n",
       "      <th>2</th>\n",
       "      <td>B Patisserie</td>\n",
       "      <td>2821 California St, San Francisco, CA 94115</td>\n",
       "      <td>Bakeries</td>\n",
       "      <td>4.77</td>\n",
       "      <td>3006</td>\n",
       "      <td>$$</td>\n",
       "      <td>37.788014</td>\n",
       "      <td>-122.440756</td>\n",
       "      <td>71696</td>\n",
       "    </tr>\n",
       "    <tr>\n",
       "      <th>3</th>\n",
       "      <td>Kokkari Estiatorio</td>\n",
       "      <td>200 Jackson St, San Francisco, CA 94111</td>\n",
       "      <td>Greek</td>\n",
       "      <td>4.81</td>\n",
       "      <td>4843</td>\n",
       "      <td>$$$</td>\n",
       "      <td>37.796918</td>\n",
       "      <td>-122.399864</td>\n",
       "      <td>2858</td>\n",
       "    </tr>\n",
       "    <tr>\n",
       "      <th>4</th>\n",
       "      <td>San Tung</td>\n",
       "      <td>1031 Irving St, San Francisco, CA 94122</td>\n",
       "      <td>Chinese</td>\n",
       "      <td>4.58</td>\n",
       "      <td>7497</td>\n",
       "      <td>$$</td>\n",
       "      <td>37.763891</td>\n",
       "      <td>-122.468805</td>\n",
       "      <td>67330</td>\n",
       "    </tr>\n",
       "  </tbody>\n",
       "</table>\n",
       "</div>"
      ],
      "text/plain": [
       "                 name                              display_address  \\\n",
       "0  House of Prime Rib   1906 Van Ness Ave, San Francisco, CA 94109   \n",
       "1     Burma Superstar      309 Clement St, San Francisco, CA 94118   \n",
       "2        B Patisserie  2821 California St, San Francisco, CA 94115   \n",
       "3  Kokkari Estiatorio      200 Jackson St, San Francisco, CA 94111   \n",
       "4            San Tung      1031 Irving St, San Francisco, CA 94122   \n",
       "\n",
       "                     type  rating  review_count price   latitude   longitude  \\\n",
       "0  American (Traditional)    4.52          7912   $$$  37.793338 -122.422827   \n",
       "1                 Burmese    4.69          7145    $$  37.783004 -122.462539   \n",
       "2                Bakeries    4.77          3006    $$  37.788014 -122.440756   \n",
       "3                   Greek    4.81          4843   $$$  37.796918 -122.399864   \n",
       "4                 Chinese    4.58          7497    $$  37.763891 -122.468805   \n",
       "\n",
       "     bid  \n",
       "0   3350  \n",
       "1   1977  \n",
       "2  71696  \n",
       "3   2858  \n",
       "4  67330  "
      ]
     },
     "execution_count": 30,
     "metadata": {},
     "output_type": "execute_result"
    }
   ],
   "source": [
    "bus.head()"
   ]
  },
  {
   "cell_type": "markdown",
   "metadata": {},
   "source": [
    "It is easier to show than to explain. Let's say I really liked _Burma Superstar_ and want all other restaurants with `type == 'Burmese'`. \n",
    "\n",
    "First, I can extract the `type` Series similarly to how we have done in Lab 3."
   ]
  },
  {
   "cell_type": "code",
   "execution_count": 32,
   "metadata": {},
   "outputs": [
    {
     "data": {
      "text/plain": [
       "0      American (Traditional)\n",
       "1                     Burmese\n",
       "2                    Bakeries\n",
       "3                       Greek\n",
       "4                     Chinese\n",
       "                ...          \n",
       "653              Coffee & Tea\n",
       "654                      Poke\n",
       "655                      Bars\n",
       "656                      Thai\n",
       "657        Breakfast & Brunch\n",
       "Name: type, Length: 658, dtype: object"
      ]
     },
     "execution_count": 32,
     "metadata": {},
     "output_type": "execute_result"
    }
   ],
   "source": [
    "# Just run this cell\n",
    "types = bus['type']\n",
    "types\n"
   ]
  },
  {
   "cell_type": "markdown",
   "metadata": {},
   "source": [
    "You'll notice that on the left of the Series output, there are numbers that each correspond to a specific level of price. This is called the index, and it corresponds to the index (also on the left) in the `bus` dataframe. \n",
    "\n",
    "Next, like in part 2c, I can use a comparison operator to find all indices that are equal to `'Burmese'`"
   ]
  },
  {
   "cell_type": "code",
   "execution_count": 33,
   "metadata": {},
   "outputs": [
    {
     "data": {
      "text/plain": [
       "0      False\n",
       "1       True\n",
       "2      False\n",
       "3      False\n",
       "4      False\n",
       "       ...  \n",
       "653    False\n",
       "654    False\n",
       "655    False\n",
       "656    False\n",
       "657    False\n",
       "Name: type, Length: 658, dtype: bool"
      ]
     },
     "execution_count": 33,
     "metadata": {},
     "output_type": "execute_result"
    }
   ],
   "source": [
    "burmese = types == 'Burmese'\n",
    "burmese"
   ]
  },
  {
   "cell_type": "markdown",
   "metadata": {},
   "source": [
    "_Burma Superstar_, in index position 1 returns true, as expected. We can now use this Series to index into the `bus` dataframe. Whichever indices were `True` in the \"indexer\" will be kept, and all falses will be dropped. This will not change the original `bus` dataframe, so we have to reassign it to a new variable if we want to keep using it. \n"
   ]
  },
  {
   "cell_type": "code",
   "execution_count": 34,
   "metadata": {},
   "outputs": [
    {
     "data": {
      "text/html": [
       "<div>\n",
       "<style scoped>\n",
       "    .dataframe tbody tr th:only-of-type {\n",
       "        vertical-align: middle;\n",
       "    }\n",
       "\n",
       "    .dataframe tbody tr th {\n",
       "        vertical-align: top;\n",
       "    }\n",
       "\n",
       "    .dataframe thead th {\n",
       "        text-align: right;\n",
       "    }\n",
       "</style>\n",
       "<table border=\"1\" class=\"dataframe\">\n",
       "  <thead>\n",
       "    <tr style=\"text-align: right;\">\n",
       "      <th></th>\n",
       "      <th>name</th>\n",
       "      <th>display_address</th>\n",
       "      <th>type</th>\n",
       "      <th>rating</th>\n",
       "      <th>review_count</th>\n",
       "      <th>price</th>\n",
       "      <th>latitude</th>\n",
       "      <th>longitude</th>\n",
       "      <th>bid</th>\n",
       "    </tr>\n",
       "  </thead>\n",
       "  <tbody>\n",
       "    <tr>\n",
       "      <th>1</th>\n",
       "      <td>Burma Superstar</td>\n",
       "      <td>309 Clement St, San Francisco, CA 94118</td>\n",
       "      <td>Burmese</td>\n",
       "      <td>4.69</td>\n",
       "      <td>7145</td>\n",
       "      <td>$$</td>\n",
       "      <td>37.783004</td>\n",
       "      <td>-122.462539</td>\n",
       "      <td>1977</td>\n",
       "    </tr>\n",
       "    <tr>\n",
       "      <th>90</th>\n",
       "      <td>B Star</td>\n",
       "      <td>127 Clement St, San Francisco, CA 94118</td>\n",
       "      <td>Burmese</td>\n",
       "      <td>3.92</td>\n",
       "      <td>1995</td>\n",
       "      <td>$$</td>\n",
       "      <td>37.783093</td>\n",
       "      <td>-122.460649</td>\n",
       "      <td>33911</td>\n",
       "    </tr>\n",
       "    <tr>\n",
       "      <th>179</th>\n",
       "      <td>Burma Love</td>\n",
       "      <td>211 Valencia St, San Francisco, CA 94103</td>\n",
       "      <td>Burmese</td>\n",
       "      <td>4.17</td>\n",
       "      <td>1452</td>\n",
       "      <td>$$</td>\n",
       "      <td>-9999.000000</td>\n",
       "      <td>-9999.000000</td>\n",
       "      <td>83643</td>\n",
       "    </tr>\n",
       "    <tr>\n",
       "      <th>198</th>\n",
       "      <td>Yamo</td>\n",
       "      <td>3406 18th St, San Francisco, CA 94110</td>\n",
       "      <td>Burmese</td>\n",
       "      <td>4.04</td>\n",
       "      <td>2027</td>\n",
       "      <td>$</td>\n",
       "      <td>37.761882</td>\n",
       "      <td>-122.419599</td>\n",
       "      <td>1231</td>\n",
       "    </tr>\n",
       "  </tbody>\n",
       "</table>\n",
       "</div>"
      ],
      "text/plain": [
       "                name                           display_address     type  \\\n",
       "1    Burma Superstar   309 Clement St, San Francisco, CA 94118  Burmese   \n",
       "90            B Star   127 Clement St, San Francisco, CA 94118  Burmese   \n",
       "179       Burma Love  211 Valencia St, San Francisco, CA 94103  Burmese   \n",
       "198             Yamo     3406 18th St, San Francisco, CA 94110  Burmese   \n",
       "\n",
       "     rating  review_count price     latitude    longitude    bid  \n",
       "1      4.69          7145    $$    37.783004  -122.462539   1977  \n",
       "90     3.92          1995    $$    37.783093  -122.460649  33911  \n",
       "179    4.17          1452    $$ -9999.000000 -9999.000000  83643  \n",
       "198    4.04          2027     $    37.761882  -122.419599   1231  "
      ]
     },
     "execution_count": 34,
     "metadata": {},
     "output_type": "execute_result"
    }
   ],
   "source": [
    "burmese_restaurants = bus[burmese]\n",
    "burmese_restaurants"
   ]
  },
  {
   "cell_type": "markdown",
   "metadata": {},
   "source": [
    "We walked through it step by step, but this can be done in one line as follows:\n"
   ]
  },
  {
   "cell_type": "code",
   "execution_count": 36,
   "metadata": {},
   "outputs": [
    {
     "data": {
      "text/html": [
       "<div>\n",
       "<style scoped>\n",
       "    .dataframe tbody tr th:only-of-type {\n",
       "        vertical-align: middle;\n",
       "    }\n",
       "\n",
       "    .dataframe tbody tr th {\n",
       "        vertical-align: top;\n",
       "    }\n",
       "\n",
       "    .dataframe thead th {\n",
       "        text-align: right;\n",
       "    }\n",
       "</style>\n",
       "<table border=\"1\" class=\"dataframe\">\n",
       "  <thead>\n",
       "    <tr style=\"text-align: right;\">\n",
       "      <th></th>\n",
       "      <th>name</th>\n",
       "      <th>display_address</th>\n",
       "      <th>type</th>\n",
       "      <th>rating</th>\n",
       "      <th>review_count</th>\n",
       "      <th>price</th>\n",
       "      <th>latitude</th>\n",
       "      <th>longitude</th>\n",
       "      <th>bid</th>\n",
       "    </tr>\n",
       "  </thead>\n",
       "  <tbody>\n",
       "    <tr>\n",
       "      <th>1</th>\n",
       "      <td>Burma Superstar</td>\n",
       "      <td>309 Clement St, San Francisco, CA 94118</td>\n",
       "      <td>Burmese</td>\n",
       "      <td>4.69</td>\n",
       "      <td>7145</td>\n",
       "      <td>$$</td>\n",
       "      <td>37.783004</td>\n",
       "      <td>-122.462539</td>\n",
       "      <td>1977</td>\n",
       "    </tr>\n",
       "    <tr>\n",
       "      <th>90</th>\n",
       "      <td>B Star</td>\n",
       "      <td>127 Clement St, San Francisco, CA 94118</td>\n",
       "      <td>Burmese</td>\n",
       "      <td>3.92</td>\n",
       "      <td>1995</td>\n",
       "      <td>$$</td>\n",
       "      <td>37.783093</td>\n",
       "      <td>-122.460649</td>\n",
       "      <td>33911</td>\n",
       "    </tr>\n",
       "    <tr>\n",
       "      <th>179</th>\n",
       "      <td>Burma Love</td>\n",
       "      <td>211 Valencia St, San Francisco, CA 94103</td>\n",
       "      <td>Burmese</td>\n",
       "      <td>4.17</td>\n",
       "      <td>1452</td>\n",
       "      <td>$$</td>\n",
       "      <td>-9999.000000</td>\n",
       "      <td>-9999.000000</td>\n",
       "      <td>83643</td>\n",
       "    </tr>\n",
       "    <tr>\n",
       "      <th>198</th>\n",
       "      <td>Yamo</td>\n",
       "      <td>3406 18th St, San Francisco, CA 94110</td>\n",
       "      <td>Burmese</td>\n",
       "      <td>4.04</td>\n",
       "      <td>2027</td>\n",
       "      <td>$</td>\n",
       "      <td>37.761882</td>\n",
       "      <td>-122.419599</td>\n",
       "      <td>1231</td>\n",
       "    </tr>\n",
       "  </tbody>\n",
       "</table>\n",
       "</div>"
      ],
      "text/plain": [
       "                name                           display_address     type  \\\n",
       "1    Burma Superstar   309 Clement St, San Francisco, CA 94118  Burmese   \n",
       "90            B Star   127 Clement St, San Francisco, CA 94118  Burmese   \n",
       "179       Burma Love  211 Valencia St, San Francisco, CA 94103  Burmese   \n",
       "198             Yamo     3406 18th St, San Francisco, CA 94110  Burmese   \n",
       "\n",
       "     rating  review_count price     latitude    longitude    bid  \n",
       "1      4.69          7145    $$    37.783004  -122.462539   1977  \n",
       "90     3.92          1995    $$    37.783093  -122.460649  33911  \n",
       "179    4.17          1452    $$ -9999.000000 -9999.000000  83643  \n",
       "198    4.04          2027     $    37.761882  -122.419599   1231  "
      ]
     },
     "execution_count": 36,
     "metadata": {},
     "output_type": "execute_result"
    }
   ],
   "source": [
    "burmese_restaurants = bus[bus['type'] == 'Burmese']\n",
    "burmese_restaurants"
   ]
  },
  {
   "cell_type": "markdown",
   "metadata": {},
   "source": [
    "### Question 3a:\n",
    "\n",
    "Create a new dataframe that only contains rows about the restaurant you found in part 2b (the string you assigned to `most_locations`) and assign it to `most_locations_df`. \n",
    "\n",
    "_Hint: There should be "
   ]
  },
  {
   "cell_type": "code",
   "execution_count": 38,
   "metadata": {},
   "outputs": [],
   "source": [
    "## Your Code Here...\n",
    "most_locations_df = ..."
   ]
  },
  {
   "cell_type": "code",
   "execution_count": 39,
   "metadata": {},
   "outputs": [],
   "source": [
    "check('q3a', most_locations_df)"
   ]
  },
  {
   "cell_type": "code",
   "execution_count": null,
   "metadata": {},
   "outputs": [],
   "source": []
  }
 ],
 "metadata": {
  "kernelspec": {
   "display_name": "Python 3.8.8 ('base')",
   "language": "python",
   "name": "python3"
  },
  "language_info": {
   "codemirror_mode": {
    "name": "ipython",
    "version": 3
   },
   "file_extension": ".py",
   "mimetype": "text/x-python",
   "name": "python",
   "nbconvert_exporter": "python",
   "pygments_lexer": "ipython3",
   "version": "3.8.8"
  },
  "orig_nbformat": 4,
  "vscode": {
   "interpreter": {
    "hash": "2f39d6a9340f9094a15ae3206b3cb83be26c4819028e15d4b820076fd30a3721"
   }
  }
 },
 "nbformat": 4,
 "nbformat_minor": 2
}

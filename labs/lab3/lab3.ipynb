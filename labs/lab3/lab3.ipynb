{
 "cells": [
  {
   "cell_type": "code",
   "execution_count": null,
   "metadata": {},
   "outputs": [],
   "source": [
    "# load some useful packages\n",
    "import pandas as pd\n",
    "import numpy as np\n",
    "from IPython import display\n",
    "\n",
    "# loads the raw_compensation data\n",
    "!wget https://raw.githubusercontent.com/dnnyw/intro-to-ds-resources/main/labs/lab3/raw_compensation.csv\n",
    "\n",
    "# download some helper functions in order to assist with plotting\n",
    "!wget https://raw.githubusercontent.com/dnnyw/intro-to-ds-resources/main/functions.py\n",
    "from functions import *\n",
    "\n",
    "# download additional assets for this lab\n",
    "!wget https://raw.githubusercontent.com/dnnyw/intro-to-ds-resources/main/labs/lab3/lab3.py\n",
    "from lab3 import *"
   ]
  },
  {
   "cell_type": "markdown",
   "metadata": {
    "id": "YTiyykL5IkxT"
   },
   "source": [
    "# **Lab 3: Introductory Statistics, Functions, Visualizations, Standard Units**\n",
    "\n",
    "In this week's lab you'll get a little bit more practice with python. You will apply the concepts you have learned in lecture to real world data, and learn how to use Python like a calculator to make calculation a whole lot faster. In addition, you will also learn how to code some basic functions, and apply those to data. \n",
    "\n",
    "If you have any questions or get stuck or anything, feel free to come to office hours. After completing the question, run the cell below to grade the question. The autograder will return True if your answer is correct and False otherwise."
   ]
  },
  {
   "cell_type": "markdown",
   "metadata": {},
   "source": [
    "**Today's lab**\n",
    "\n",
    "1. Calculate some statistics on real-world data\n",
    "2. Learn how to write some Python functions   \n",
    "3. Plot some data and do some analysis\n",
    "4. Work with standard units to quantify outliers"
   ]
  },
  {
   "cell_type": "markdown",
   "metadata": {},
   "source": [
    "# 1. Introductory Statistics on CEO Incomes"
   ]
  },
  {
   "cell_type": "markdown",
   "metadata": {},
   "source": [
    "In this question, you will get some practice with calculating mean, median, and standard deviation. We will be looking at the 2015 compensation of CEOs at the 100 largest companies in California. The data was compiled from a  [Los Angeles Times analysis](http://spreadsheets.latimes.com/california-ceo-compensation/), and ultimately came from [filings](https://www.sec.gov/answers/proxyhtf.htm) mandated by the SEC from all publicly-traded companies. Two companies have two CEOs, so there are 102 CEOs in the dataset.\n",
    "\n",
    "Run the following code block in order to load the data and read it into the variable `raw_compensation`. \n",
    "\n",
    "_Note: Units of pay are in **millions of dollars**._"
   ]
  },
  {
   "cell_type": "code",
   "execution_count": null,
   "metadata": {},
   "outputs": [],
   "source": [
    "raw_compensation = pd.read_csv('raw_compensation.csv', index_col = 0) \n",
    "raw_compensation"
   ]
  },
  {
   "cell_type": "markdown",
   "metadata": {},
   "source": [
    "The `raw_compensation` is a `dataframe` object, which is basically just a suped up spreadsheet in Python. You can access the data in a specific column of the `dataframe` by using brackets with the variable. It is easier to show than explain. For example, if I wanted to obtain the array of values in the **Other Pay** column and assign it to a new variable, `ceo_other_pay`, I would do the following: \n"
   ]
  },
  {
   "cell_type": "code",
   "execution_count": null,
   "metadata": {},
   "outputs": [],
   "source": [
    "ceo_other_pay = raw_compensation['Other Pay']\n",
    "ceo_other_pay"
   ]
  },
  {
   "cell_type": "markdown",
   "metadata": {},
   "source": [
    "As you can see, `ceo_other_pay` is now assigned to an array of values that corresponds to the column from `raw_compensation`.\n",
    "Remember, the name of the column is a string, so we must put it in quotes, otherwise Python will think we are putting a variable within the brackets."
   ]
  },
  {
   "cell_type": "markdown",
   "metadata": {},
   "source": [
    "## Question 1.a\n",
    "Assign the variable `total_pay` to be the data in the \"Total Pay\" column. You should see Python output the data in that column once you run the cell."
   ]
  },
  {
   "cell_type": "code",
   "execution_count": null,
   "metadata": {},
   "outputs": [],
   "source": [
    "# Your Code Here ...\n",
    "total_pay = ... \n",
    "total_pay"
   ]
  },
  {
   "cell_type": "markdown",
   "metadata": {},
   "source": [
    "Calculate the average \"Total Pay\" and assign it to `mean_total_pay`. \n",
    "\n",
    "_Hint: Use built in Python functions such as_ `len` _and_ `sum`"
   ]
  },
  {
   "cell_type": "code",
   "execution_count": null,
   "metadata": {},
   "outputs": [],
   "source": [
    "## Your Code Here ...\n",
    "mean_total_pay = ...\n",
    "mean_total_pay"
   ]
  },
  {
   "cell_type": "code",
   "execution_count": null,
   "metadata": {},
   "outputs": [],
   "source": [
    "check('q1a', mean_total_pay)"
   ]
  },
  {
   "cell_type": "markdown",
   "metadata": {},
   "source": [
    "## Question 1.b\n",
    "\n",
    "Now that we've found the mean, let's work our way to calculating the standard deviation of the \"Total Pay\" column. Remember, Standard Deviation is calculated as: \n",
    "\n",
    "$$\\text{(5) Root (4) Mean (3) Squared (2) Deviation from the (1) Average}$$\n",
    "\n",
    "We've already calculated the average, now calculate each entry's deviation from the average, and assign it to `deviations_total_pay`. "
   ]
  },
  {
   "cell_type": "code",
   "execution_count": null,
   "metadata": {},
   "outputs": [],
   "source": [
    "## Your Code Here ...\n",
    "deviations_total_pay = ...\n",
    "deviations_total_pay "
   ]
  },
  {
   "cell_type": "code",
   "execution_count": null,
   "metadata": {},
   "outputs": [],
   "source": [
    "check('q1b', deviations_total_pay)"
   ]
  },
  {
   "cell_type": "markdown",
   "metadata": {},
   "source": [
    "## Question 1.c\n",
    "\n",
    "Next, we're going to square all of the deviations. Assign the result to `sqdev_total_pay`."
   ]
  },
  {
   "cell_type": "code",
   "execution_count": null,
   "metadata": {},
   "outputs": [],
   "source": [
    "## Your Code Here ...\n",
    "sqdev_total_pay = ...\n",
    "sqdev_total_pay"
   ]
  },
  {
   "cell_type": "code",
   "execution_count": null,
   "metadata": {},
   "outputs": [],
   "source": [
    "check('q1c', sqdev_total_pay)"
   ]
  },
  {
   "cell_type": "markdown",
   "metadata": {},
   "source": [
    "## Question 1.d\n",
    "\n",
    "Last but not least, finish computing the standard deviation of the \"Total Pay\" column, and assign the result to `std_total_pay`."
   ]
  },
  {
   "cell_type": "code",
   "execution_count": null,
   "metadata": {},
   "outputs": [],
   "source": [
    "## Your Code Here ...\n",
    "...\n",
    "std_total_pay = ...\n",
    "std_total_pay"
   ]
  },
  {
   "cell_type": "code",
   "execution_count": null,
   "metadata": {},
   "outputs": [],
   "source": [
    "check('q1d', std_total_pay)"
   ]
  },
  {
   "cell_type": "markdown",
   "metadata": {},
   "source": [
    "You might be wondering, \"This is so repetitive, do I have to do this process everytime I want to compute a standard deviation?\". The answer of course, is **No!**. \n",
    "\n",
    "Python can be used like a calculator, but it is so much more as you can write code to do all of this for you in just one step! In the next part you're going to learn a little about how we can write functions, and then you're going to write a function to compute the mean and a function to compute the standard deviation! "
   ]
  },
  {
   "cell_type": "markdown",
   "metadata": {},
   "source": [
    "# 2. Functions\n",
    "\n",
    "Before we write functions to compute the mean, let's just work on making a function that converts a proportion to a percentage by multiplying it by 100. For example, the value of `to_percentage(.5)` should be the number 50, as in 50 percent. "
   ]
  },
  {
   "cell_type": "markdown",
   "metadata": {},
   "source": [
    "A function has a few parts: \n",
    "\n",
    "#### a) **_`def`_**\n",
    "\n",
    "It always starts with `def` (short for **def**ine):\n",
    "\n",
    "    def\n",
    "\n",
    "\n",
    "##### b) _**Name**_\n",
    "Next comes the name of the function.  Like other names we've defined, it can't start with a number or contain spaces. Let's call our function `to_percentage`:\n",
    "    \n",
    "    def to_percentage\n",
    "\n",
    "##### c) _**Signature**_\n",
    "Next comes something called the *signature* of the function.  This tells Python how many arguments your function should have, and what names you'll use to refer to those arguments in the function's code.  A function can have any number of arguments (including 0!). \n",
    "\n",
    "`to_percentage` should take one argument, and we'll call that argument `proportion` since it should be a proportion.\n",
    "\n",
    "    def to_percentage(proportion)\n",
    "    \n",
    "If we want our function to take more than one argument, we add a comma between each argument name.\n",
    "\n",
    "We put a colon after the signature to tell Python it's over. If you're getting a syntax error after defining a function, check to make sure you remembered the colon!\n",
    "\n",
    "    def to_percentage(proportion):\n",
    "\n",
    "##### d) _**Documentation**_\n",
    "Functions can do complicated things, so you should write an explanation of what your function does.  For small functions, this is less important, but it's a good habit to learn from the start.  Conventionally, Python functions are documented by writing an **indented** triple-quoted string:\n",
    "\n",
    "    def to_percentage(proportion):\n",
    "        \"\"\"Converts a proportion to a percentage.\"\"\"\n",
    "\n",
    "  \n",
    "##### e) _**Body**_\n",
    "Now we start writing code that runs when the function is called.  This is called the *body* of the function and every line **must be indented with a tab**.  Any lines that are *not* indented and left-aligned with the def statement is considered outside the function. \n",
    "\n",
    "Some notes about the body of the function:\n",
    "- We can write any code that we would write anywhere else.  \n",
    "- We use the arguments defined in the function signature. We can do this because we assume that when we call the function, values are already assigned to those arguments.\n",
    "- We generally avoid referencing variables defined *outside* the function.\n",
    "\n",
    "\n",
    "Now, let's give a name to the number we multiply a proportion by to get a percentage:\n",
    "\n",
    "    def to_percentage(proportion):\n",
    "        \"\"\"Converts a proportion to a percentage.\"\"\"\n",
    "        factor = 100\n",
    "\n",
    "##### f) _**`return`**_\n",
    "The special instruction `return` is part of the function's body and tells Python to make the value of the function call equal to whatever comes right after `return`.  We want the value of `to_percentage(.5)` to be the proportion .5 times the factor 100, so we write:\n",
    "\n",
    "    def to_percentage(proportion):\n",
    "        \"\"\"Converts a proportion to a percentage.\"\"\"\n",
    "        factor = 100\n",
    "        return proportion * factor\n",
    "        \n",
    "`return` only makes sense in the context of a function, and **can never be used outside of a function**. `return` is always the last line of the function because Python stops executing the body of a function once it hits a `return` statement.\n",
    "\n",
    "*Note:*  `return` inside a function tells Python what value the function evaluates to. However, there are other functions, like `print`, that have no `return` value. For example, `print` simply prints a certain value out to the console. \n",
    "\n",
    "`return` and `print` are **very** different. "
   ]
  },
  {
   "cell_type": "markdown",
   "metadata": {},
   "source": [
    "## Question 2.a \n",
    "\n",
    "Define `to_percentage` in the cell below.  Call your function to convert the proportion .2 to a percentage.  Name that percentage `twenty_percent`."
   ]
  },
  {
   "cell_type": "code",
   "execution_count": null,
   "metadata": {},
   "outputs": [],
   "source": [
    "# Your Code Here...\n",
    "\n",
    "def ...\n",
    "\n",
    "twenty_percent = ...\n",
    "twenty_percent\n"
   ]
  },
  {
   "cell_type": "code",
   "execution_count": null,
   "metadata": {},
   "outputs": [],
   "source": [
    "check('q2a', twenty_percent)"
   ]
  },
  {
   "cell_type": "markdown",
   "metadata": {},
   "source": [
    "## Question 2.b\n",
    "\n",
    "You can use also use named values as arguments to your function. Use `to_percentage` again to convert the proportion named `a_proportion` (defined below) to a percentage called `a_percentage`.\n",
    "\n",
    "*Note:* You don't need to define `to_percentage` again!  Like other named values, functions stick around after you define them."
   ]
  },
  {
   "cell_type": "code",
   "execution_count": null,
   "metadata": {},
   "outputs": [],
   "source": [
    "a_proportion = 2**(.5) / 2\n",
    "a_percentage = ... ## Your Code Here ...\n",
    "a_percentage"
   ]
  },
  {
   "cell_type": "code",
   "execution_count": null,
   "metadata": {},
   "outputs": [],
   "source": [
    "check('q2b', a_percentage)"
   ]
  },
  {
   "cell_type": "markdown",
   "metadata": {},
   "source": [
    "Here's something important about functions: the names assigned *within* a function body are only accessible within the function body. Once the function has returned, those names are gone.  So even though you defined `factor = 100` inside  the body of the `to_percentage` function up above and then called `to_percentage`, you cannot refer to `factor` anywhere except inside the body of `to_percentage`:"
   ]
  },
  {
   "cell_type": "code",
   "execution_count": null,
   "metadata": {},
   "outputs": [],
   "source": [
    "# You should see an error when you run this.  (If you don't, you might\n",
    "# have defined factor somewhere above.)\n",
    "factor\n"
   ]
  },
  {
   "cell_type": "markdown",
   "metadata": {},
   "source": [
    "Functions don't only have to work with numbers! You can do practically anything with them, as long as you know what functions to use and how to code it! \n",
    "\n",
    "## Question 2.c\n",
    "\n",
    "Define a function called `disemvowel`.  It should take a single string as its argument.  (You can call that argument whatever you want.)  It should return a copy of that string, but with all the characters that are vowels removed.  (In English, the vowels are the characters \"a\", \"e\", \"i\", \"o\", and \"u\".)\n",
    "\n",
    "*Hint:* To remove all the \"a\"s from a string, you can use `<that_string>.replace(\"a\", \"\")`.  The `.replace` method for strings returns a new string, so you can call `replace` multiple times, one after the other. "
   ]
  },
  {
   "cell_type": "code",
   "execution_count": null,
   "metadata": {},
   "outputs": [],
   "source": [
    "def disemvowel(a_string):\n",
    "    \"\"\"Takes a string and removes all the vowels in the string\"\"\"\n",
    "    ## Your Code Here ...\n",
    "    return ...\n",
    "\n",
    "# An example call to your function.  (It's often helpful to run\n",
    "# an example call from time to time while you're writing a function,\n",
    "# to see how it currently works.)\n",
    "disemvowel(\"Can you read this without vowels?\")"
   ]
  },
  {
   "cell_type": "code",
   "execution_count": null,
   "metadata": {},
   "outputs": [],
   "source": [
    "check('q2c', disemvowel)"
   ]
  },
  {
   "cell_type": "markdown",
   "metadata": {},
   "source": [
    "##### Calls on calls on calls\n",
    "Just as you write a series of lines to build up a complex computation, it's useful to define a series of small functions that build on each other.  Since you can write any code inside a function's body, you can call other functions you've written.\n",
    "\n",
    "If a function is a like a recipe, defining a function in terms of other functions is like having a recipe for cake telling you to follow another recipe to make the frosting, and another to make the jam filling.  This makes the cake recipe shorter and clearer, and it avoids having a bunch of duplicated frosting recipes.  It's a foundation of productive programming.\n",
    "\n",
    "For example, if I wanted to count the number of characters *that aren't vowels* in a piece of text, one way to do that is this to remove all the vowels and count the size of the remaining string. The code would be as follows:\n"
   ]
  },
  {
   "cell_type": "code",
   "execution_count": null,
   "metadata": {},
   "outputs": [],
   "source": [
    "def num_non_vowels(a_string):\n",
    "    \"\"\"The number of characters in a string, minus the vowels.\"\"\"\n",
    "    without_vowels = disemvowel(a_string)\n",
    "    return len(without_vowels)\n",
    "\n"
   ]
  },
  {
   "cell_type": "markdown",
   "metadata": {},
   "source": [
    "Notice in the above function, I used _two_ other functions inside of the function, one inside of the body, and one inside of the return."
   ]
  },
  {
   "cell_type": "markdown",
   "metadata": {},
   "source": [
    "With this knowledge, let's go back to our main task: speeding up calculating the mean and the standard deviation. \n",
    "\n",
    "## Question 2.d\n",
    "\n",
    "Implement the `average` function which takes in an array/list of numbers and returns the average of the values in that list.\n",
    "\n",
    "_Hint: You've already written some of the code above! It's just a matter of generalizing it to any input and putting it into a function!_"
   ]
  },
  {
   "cell_type": "code",
   "execution_count": null,
   "metadata": {},
   "outputs": [],
   "source": [
    "def average(some_numbers):\n",
    "    \"\"\"Returns the average of a set of numbers\"\"\"\n",
    "    ## Your Code Here ...\n",
    "    ...\n",
    "    return ...\n",
    "\n"
   ]
  },
  {
   "cell_type": "code",
   "execution_count": null,
   "metadata": {},
   "outputs": [],
   "source": [
    "check('q2d', average)"
   ]
  },
  {
   "cell_type": "markdown",
   "metadata": {},
   "source": [
    "## Question 2.e\n",
    "\n",
    "Remember how we mentioned that you can call functions inside of other functions? Now try to define a function that will handle calculating the standard deviation of a list of numbers, while also using your average function from above! \n",
    "\n",
    "_Hint: You've already written some of the code above! It's just a matter of generalizing it to any input and putting it into a function!_"
   ]
  },
  {
   "cell_type": "code",
   "execution_count": null,
   "metadata": {},
   "outputs": [],
   "source": [
    "def standard_deviation(some_numbers):\n",
    "    \"\"\"Returns the standard deviation of a set of numbers\"\"\"\n",
    "    ## Your Code Here ...\n",
    "    ...\n",
    "    return ...\n",
    "\n",
    "# Now call your function on `total_pay` and see if you get the same answer as when you went through all the steps! \n",
    "standard_deviation(total_pay)\n"
   ]
  },
  {
   "cell_type": "code",
   "execution_count": null,
   "metadata": {},
   "outputs": [],
   "source": [
    "check('q2e', standard_deviation)"
   ]
  },
  {
   "cell_type": "markdown",
   "metadata": {},
   "source": [
    "Congratulations on writing some of your first Python functions! "
   ]
  },
  {
   "cell_type": "markdown",
   "metadata": {},
   "source": [
    "# 3. Visualizations\n",
    "\n",
    "Now we're gonna make some visualizations and conduct some statistical analysis on the CEO salary data. Refer back to your Python cheatsheet for the documentation on some of these functions. We will be using `plot_histogram` and `plot_scatter`."
   ]
  },
  {
   "cell_type": "markdown",
   "metadata": {},
   "source": [
    "## Question 3.a\n",
    "\n",
    "Outside of \"Total Pay\", we also have the breakdown of each CEO's pay into \"Cash Pay\", \"Equity Pay\", and \"Other Pay\". Access the \"Equity Pay\" data from the `raw_compensation` data and make a histogram plot of the CEOs' \"Equity Pay\". \n",
    "\n",
    "Remember, a good visualization will always have labelled axis as well as a title explaining what the visualization is showing. For a histogram, typically your y-axis will be labelled \"counts\". We've plotted a histogram for \"Total Pay\" for you below. "
   ]
  },
  {
   "cell_type": "code",
   "execution_count": null,
   "metadata": {},
   "outputs": [],
   "source": [
    "display.Image(\"https://raw.githubusercontent.com/dnnyw/intro-to-ds-resources/main/labs/lab3/TotalPayHistogram.jpg\")"
   ]
  },
  {
   "cell_type": "markdown",
   "metadata": {},
   "source": [
    "### Question 3.a.1 \n",
    "\n",
    "Plot a labelled histogram for the \"Equity Pay\" variable"
   ]
  },
  {
   "cell_type": "code",
   "execution_count": null,
   "metadata": {},
   "outputs": [],
   "source": [
    "# Your Code Here\n",
    "equity_pay = raw_compensation['Equity Pay']\n",
    "..."
   ]
  },
  {
   "cell_type": "markdown",
   "metadata": {},
   "source": [
    "### Question 3.a.2\n",
    "\n",
    "Looking at the histogram you created, what proportion of CEOs made more than $25 million of their compensation in Equity? Assign your answer to the `equity_pay_ceo` variable\n"
   ]
  },
  {
   "cell_type": "code",
   "execution_count": null,
   "metadata": {},
   "outputs": [],
   "source": [
    "## Your Answer Here ...\n",
    "\n",
    "equity_pay_ceo = ...\n",
    "equity_pay_ceo"
   ]
  },
  {
   "cell_type": "code",
   "execution_count": null,
   "metadata": {},
   "outputs": [],
   "source": [
    "check(\"q3a2\", equity_pay_ceo)"
   ]
  },
  {
   "cell_type": "markdown",
   "metadata": {},
   "source": [
    "Histograms are really good at visualizing the distribution of one variable. You get a good idea of what the range of the variable is, where a majority of the data lies, and can observe outliers quite well too. Now, let's move to scatter plots, where we are much better equipped at seeing how two variables are related. \n",
    "\n",
    "\n",
    "## Question 3.b\n",
    "\n",
    "Use the `plot_scatter` function to make a labelled scatter plot comparing CEOs' equity pay to their cash pay. Plot \"Cash Pay\" on the x-axis and \"Equity Pay\" on the y-axis."
   ]
  },
  {
   "cell_type": "code",
   "execution_count": null,
   "metadata": {},
   "outputs": [],
   "source": [
    "## Your Code Here...\n",
    "cash_pay = ...\n",
    "\n",
    "...\n",
    "plot_scatter(...)"
   ]
  },
  {
   "cell_type": "markdown",
   "metadata": {},
   "source": [
    "It's important to notice the relative scales of the x and y axes. There are clearly some outliers in the data - certain CEOs have much larger forms of compensations compared to the rest of their cohort. \n",
    "\n",
    "However, working with equity compensation and cash compensation and making comparisons between the two is difficult since we might not be familiar with CEO compensation. Maybe it's always the case that equity is much larger than cash or vice versa. Let's make use to standard units to try and understand just how far out are these outlier CEOs that have crazy high levels of compensation."
   ]
  },
  {
   "cell_type": "markdown",
   "metadata": {},
   "source": [
    "# 4. Working in Standard Units\n",
    "\n",
    "Recall that converting data to Standard Units or _z_ can be calculated with the following formula:\n",
    "\n",
    "$$ z = \\frac{\\text{Value} - \\text{Average}}{\\text{Standard Deviation}}$$\n"
   ]
  },
  {
   "cell_type": "markdown",
   "metadata": {},
   "source": [
    "## Question 4.a \n",
    "\n",
    "Write a function called `convert_to_SU` which should take a list of numbers and convert them their values in Standard Units. \n",
    "\n",
    "_Hint: Remember to use functions that you defined previously!_"
   ]
  },
  {
   "cell_type": "code",
   "execution_count": null,
   "metadata": {},
   "outputs": [],
   "source": [
    "def convert_to_SU(list_of_numbers):\n",
    "    \"\"\"Returns the inputted list of numbers but standardized to be in Standard Units\"\"\"\n",
    "    ... # Your Code Here ...\n",
    "    standardized_list = ... # Your Code Here ...\n",
    "    return standardized_list\n"
   ]
  },
  {
   "cell_type": "code",
   "execution_count": null,
   "metadata": {},
   "outputs": [],
   "source": [
    "check(\"q4a\", convert_to_SU)"
   ]
  },
  {
   "cell_type": "markdown",
   "metadata": {},
   "source": [
    "## Question 4.b\n",
    "\n",
    "Use your `convert_to_SU` function to convert \"Equity Pay\" and \"Cash Pay\" into standard units, and plot them on a labelled scatter plot with \"Cash Pay\" on the x-axis and \"Equity Pay\" on the y-axis"
   ]
  },
  {
   "cell_type": "code",
   "execution_count": null,
   "metadata": {},
   "outputs": [],
   "source": [
    "# Your Code Here ...\n",
    "converted_equity = ...\n",
    "converted_cash = ...\n",
    "\n",
    "plot_scatter(...)"
   ]
  },
  {
   "cell_type": "markdown",
   "metadata": {},
   "source": [
    "Whereas before, we could see the outliers in our scatter plot, we didn't know _how much_ of an outlier they were compared to the rest of the data. \n",
    "\n",
    "\n",
    "As you can see, a majority of the data lies below 2 standard deviations. However, we see that the outlier with lots of cash compensation over 6 standard deviations away from the mean cash compensation, where as the outlier with lots of equity is just over 5 standard deviations. Since we have \"normalized\" cash and equity compensation, we can tell that the CEO who makes a lot of cash is much more of an outlier than the CEO with equity. \n",
    "\n",
    "Also note that besides the scale on the _x_ and _y_ axis, the shape and location of the data hasn't changed at all. That's because all we are doing is shifting the units on the axis to better understand the data."
   ]
  },
  {
   "cell_type": "markdown",
   "metadata": {},
   "source": [
    "# 5. Summary \n",
    "\n",
    "\n",
    "Yay! You're done with lab 3.  Hope this lab was helpful for some extra practice. If you have any questions or want to go further in depth on the material, please attend office hours which is held after lectures until 8PM. \n",
    "\n",
    "If you are submitting this lab for the Certificate of Completion, save this file which can be found under `File`.  Then run the cell below ONLY when you completed every question. Everything should return `True` which would indiciate everything is correct.\n"
   ]
  },
  {
   "cell_type": "code",
   "execution_count": null,
   "metadata": {},
   "outputs": [],
   "source": [
    "checkall()"
   ]
  }
 ],
 "metadata": {
  "kernelspec": {
   "display_name": "Python 3.8.8 ('base')",
   "language": "python",
   "name": "python3"
  },
  "language_info": {
   "codemirror_mode": {
    "name": "ipython",
    "version": 3
   },
   "file_extension": ".py",
   "mimetype": "text/x-python",
   "name": "python",
   "nbconvert_exporter": "python",
   "pygments_lexer": "ipython3",
   "version": "3.8.8"
  },
  "orig_nbformat": 4,
  "vscode": {
   "interpreter": {
    "hash": "2f39d6a9340f9094a15ae3206b3cb83be26c4819028e15d4b820076fd30a3721"
   }
  }
 },
 "nbformat": 4,
 "nbformat_minor": 2
}

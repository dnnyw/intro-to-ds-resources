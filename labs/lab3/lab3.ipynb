{
 "cells": [
  {
   "cell_type": "code",
   "execution_count": 40,
   "metadata": {},
   "outputs": [],
   "source": [
    "# !wget INSERT LAB 4 SOLUTIONS LINK HERE\n",
    "import pandas as pd\n",
    "import numpy as np\n",
    "from IPython import display\n",
    "from functions import *\n"
   ]
  },
  {
   "cell_type": "markdown",
   "metadata": {
    "id": "YTiyykL5IkxT"
   },
   "source": [
    "# **Lab 3: Functions, Histograms, Introductory Statistics**\n",
    "\n",
    "In this week's lab you'll get a little bit more practice with python. You will apply the concepts you have learned in lecture to real world data, and learn how to use Python like a calculator to make calculation a whole lot faster. In addition, you will also learn how to code some basic functions, and apply those to data. \n",
    "\n",
    "If you have any questions or get stuck or anything, feel free to come to office hours. After completing the question, run the cell below to grade the question. The autograder will return True if your answer is correct and False otherwise."
   ]
  },
  {
   "cell_type": "markdown",
   "metadata": {},
   "source": [
    "**Today's lab**\n",
    "\n",
    "1. Calculate some statistics on real-world data\n",
    "2. Learn how to write some Python functions   \n",
    "3. Plot some data and do some analysis"
   ]
  },
  {
   "cell_type": "markdown",
   "metadata": {},
   "source": [
    "# 1. Introductory Statistics on CEO Incomes"
   ]
  },
  {
   "cell_type": "markdown",
   "metadata": {},
   "source": [
    "In this question, you will get some practice with calculating mean, median, and standard deviation. We will be looking at the 2015 compensation of CEOs at the 100 largest companies in California. The data was compiled from a  [Los Angeles Times analysis](http://spreadsheets.latimes.com/california-ceo-compensation/), and ultimately came from [filings](https://www.sec.gov/answers/proxyhtf.htm) mandated by the SEC from all publicly-traded companies. Two companies have two CEOs, so there are 102 CEOs in the dataset.\n",
    "\n",
    "Run the following code block in order to download the data and read it into the variable `raw_compensation`. \n",
    "\n",
    "_Note: Units of pay are in **millions of dollars**._"
   ]
  },
  {
   "cell_type": "code",
   "execution_count": 15,
   "metadata": {},
   "outputs": [
    {
     "data": {
      "text/html": [
       "<div>\n",
       "<style scoped>\n",
       "    .dataframe tbody tr th:only-of-type {\n",
       "        vertical-align: middle;\n",
       "    }\n",
       "\n",
       "    .dataframe tbody tr th {\n",
       "        vertical-align: top;\n",
       "    }\n",
       "\n",
       "    .dataframe thead th {\n",
       "        text-align: right;\n",
       "    }\n",
       "</style>\n",
       "<table border=\"1\" class=\"dataframe\">\n",
       "  <thead>\n",
       "    <tr style=\"text-align: right;\">\n",
       "      <th></th>\n",
       "      <th>Name</th>\n",
       "      <th>Company (Headquarters)</th>\n",
       "      <th>Total Pay</th>\n",
       "      <th>% Change</th>\n",
       "      <th>Cash Pay</th>\n",
       "      <th>Equity Pay</th>\n",
       "      <th>Other Pay</th>\n",
       "      <th>Ratio of CEO pay to average industry worker pay</th>\n",
       "    </tr>\n",
       "    <tr>\n",
       "      <th>Rank</th>\n",
       "      <th></th>\n",
       "      <th></th>\n",
       "      <th></th>\n",
       "      <th></th>\n",
       "      <th></th>\n",
       "      <th></th>\n",
       "      <th></th>\n",
       "      <th></th>\n",
       "    </tr>\n",
       "  </thead>\n",
       "  <tbody>\n",
       "    <tr>\n",
       "      <th>1</th>\n",
       "      <td>Mark V. Hurd*</td>\n",
       "      <td>Oracle (Redwood City)</td>\n",
       "      <td>53.25</td>\n",
       "      <td>(No previous year)</td>\n",
       "      <td>0.95</td>\n",
       "      <td>52.27</td>\n",
       "      <td>0.02</td>\n",
       "      <td>362.00000</td>\n",
       "    </tr>\n",
       "    <tr>\n",
       "      <th>2</th>\n",
       "      <td>Safra A. Catz*</td>\n",
       "      <td>Oracle (Redwood City)</td>\n",
       "      <td>53.24</td>\n",
       "      <td>(No previous year)</td>\n",
       "      <td>0.95</td>\n",
       "      <td>52.27</td>\n",
       "      <td>0.02</td>\n",
       "      <td>362.00000</td>\n",
       "    </tr>\n",
       "    <tr>\n",
       "      <th>3</th>\n",
       "      <td>Robert A. Iger</td>\n",
       "      <td>Walt Disney (Burbank)</td>\n",
       "      <td>44.91</td>\n",
       "      <td>-3%</td>\n",
       "      <td>24.89</td>\n",
       "      <td>17.28</td>\n",
       "      <td>2.74</td>\n",
       "      <td>477.00000</td>\n",
       "    </tr>\n",
       "    <tr>\n",
       "      <th>4</th>\n",
       "      <td>Marissa A. Mayer</td>\n",
       "      <td>Yahoo! (Sunnyvale)</td>\n",
       "      <td>35.98</td>\n",
       "      <td>-15%</td>\n",
       "      <td>1.00</td>\n",
       "      <td>34.43</td>\n",
       "      <td>0.55</td>\n",
       "      <td>342.00000</td>\n",
       "    </tr>\n",
       "    <tr>\n",
       "      <th>5</th>\n",
       "      <td>Marc Benioff</td>\n",
       "      <td>salesforce.com (San Francisco)</td>\n",
       "      <td>33.36</td>\n",
       "      <td>-16%</td>\n",
       "      <td>4.65</td>\n",
       "      <td>27.26</td>\n",
       "      <td>1.45</td>\n",
       "      <td>338.00000</td>\n",
       "    </tr>\n",
       "    <tr>\n",
       "      <th>...</th>\n",
       "      <td>...</td>\n",
       "      <td>...</td>\n",
       "      <td>...</td>\n",
       "      <td>...</td>\n",
       "      <td>...</td>\n",
       "      <td>...</td>\n",
       "      <td>...</td>\n",
       "      <td>...</td>\n",
       "    </tr>\n",
       "    <tr>\n",
       "      <th>98</th>\n",
       "      <td>Gregory N. Roberts</td>\n",
       "      <td>A-Mark Precious Metals (Santa Monica)</td>\n",
       "      <td>0.94</td>\n",
       "      <td>-11%</td>\n",
       "      <td>0.93</td>\n",
       "      <td>0.00</td>\n",
       "      <td>0.02</td>\n",
       "      <td>17.00000</td>\n",
       "    </tr>\n",
       "    <tr>\n",
       "      <th>99</th>\n",
       "      <td>Jose L. Laparte</td>\n",
       "      <td>PriceSmart (San Diego)</td>\n",
       "      <td>0.81</td>\n",
       "      <td>-7%</td>\n",
       "      <td>0.71</td>\n",
       "      <td>0.00</td>\n",
       "      <td>0.10</td>\n",
       "      <td>32.00000</td>\n",
       "    </tr>\n",
       "    <tr>\n",
       "      <th>100</th>\n",
       "      <td>Jack Dorsey</td>\n",
       "      <td>Twitter (San Francisco)</td>\n",
       "      <td>0.07</td>\n",
       "      <td>(No previous year)</td>\n",
       "      <td>0.00</td>\n",
       "      <td>0.00</td>\n",
       "      <td>0.07</td>\n",
       "      <td>0.63000</td>\n",
       "    </tr>\n",
       "    <tr>\n",
       "      <th>101</th>\n",
       "      <td>Elon R. Musk</td>\n",
       "      <td>Tesla Motors (Palo Alto)</td>\n",
       "      <td>0.04</td>\n",
       "      <td>6%</td>\n",
       "      <td>0.04</td>\n",
       "      <td>0.00</td>\n",
       "      <td>0.00</td>\n",
       "      <td>0.46000</td>\n",
       "    </tr>\n",
       "    <tr>\n",
       "      <th>102</th>\n",
       "      <td>Lawrence Page***</td>\n",
       "      <td>Alphabet (Mountain View)</td>\n",
       "      <td>0.00</td>\n",
       "      <td>0%</td>\n",
       "      <td>0.00</td>\n",
       "      <td>0.00</td>\n",
       "      <td>0.00</td>\n",
       "      <td>0.00001</td>\n",
       "    </tr>\n",
       "  </tbody>\n",
       "</table>\n",
       "<p>102 rows × 8 columns</p>\n",
       "</div>"
      ],
      "text/plain": [
       "                    Name                 Company (Headquarters)  Total Pay  \\\n",
       "Rank                                                                         \n",
       "1          Mark V. Hurd*                  Oracle (Redwood City)      53.25   \n",
       "2         Safra A. Catz*                  Oracle (Redwood City)      53.24   \n",
       "3         Robert A. Iger                  Walt Disney (Burbank)      44.91   \n",
       "4       Marissa A. Mayer                     Yahoo! (Sunnyvale)      35.98   \n",
       "5           Marc Benioff         salesforce.com (San Francisco)      33.36   \n",
       "...                  ...                                    ...        ...   \n",
       "98    Gregory N. Roberts  A-Mark Precious Metals (Santa Monica)       0.94   \n",
       "99       Jose L. Laparte                 PriceSmart (San Diego)       0.81   \n",
       "100          Jack Dorsey                Twitter (San Francisco)       0.07   \n",
       "101         Elon R. Musk               Tesla Motors (Palo Alto)       0.04   \n",
       "102     Lawrence Page***               Alphabet (Mountain View)       0.00   \n",
       "\n",
       "                % Change  Cash Pay  Equity Pay  Other Pay  \\\n",
       "Rank                                                        \n",
       "1     (No previous year)      0.95       52.27       0.02   \n",
       "2     (No previous year)      0.95       52.27       0.02   \n",
       "3                    -3%     24.89       17.28       2.74   \n",
       "4                   -15%      1.00       34.43       0.55   \n",
       "5                   -16%      4.65       27.26       1.45   \n",
       "...                  ...       ...         ...        ...   \n",
       "98                  -11%      0.93        0.00       0.02   \n",
       "99                   -7%      0.71        0.00       0.10   \n",
       "100   (No previous year)      0.00        0.00       0.07   \n",
       "101                   6%      0.04        0.00       0.00   \n",
       "102                   0%      0.00        0.00       0.00   \n",
       "\n",
       "      Ratio of CEO pay to average industry worker pay  \n",
       "Rank                                                   \n",
       "1                                           362.00000  \n",
       "2                                           362.00000  \n",
       "3                                           477.00000  \n",
       "4                                           342.00000  \n",
       "5                                           338.00000  \n",
       "...                                               ...  \n",
       "98                                           17.00000  \n",
       "99                                           32.00000  \n",
       "100                                           0.63000  \n",
       "101                                           0.46000  \n",
       "102                                           0.00001  \n",
       "\n",
       "[102 rows x 8 columns]"
      ]
     },
     "execution_count": 15,
     "metadata": {},
     "output_type": "execute_result"
    }
   ],
   "source": [
    "# !wget LINK TO DATA\n",
    "raw_compensation = pd.read_csv('raw_compensation.csv', index_col = 0) \n",
    "raw_compensation"
   ]
  },
  {
   "cell_type": "markdown",
   "metadata": {},
   "source": [
    "The `raw_compensation` is a `dataframe` object, which is basically just a suped up spreadsheet in Python. You can access the data in a specific column of the `dataframe` by using brackets with the variable. It is easier to show than explain. For example, if I wanted to obtain the array of values in the **Other Pay** column and assign it to a new variable, `ceo_other_pay`, I would do the following: \n"
   ]
  },
  {
   "cell_type": "code",
   "execution_count": 16,
   "metadata": {},
   "outputs": [],
   "source": [
    "ceo_other_pay = raw_compensation['Other Pay']"
   ]
  },
  {
   "cell_type": "markdown",
   "metadata": {},
   "source": [
    "Remember, the name of the column is a string, so we must put it in quotes, otherwise Python will think we are putting a variable within the brackets."
   ]
  },
  {
   "cell_type": "markdown",
   "metadata": {},
   "source": [
    "## Question 1.a\n",
    "Assign the variable `total_pay` to be the data in the \"Total Pay\" column. You should see Python output the data in that column once you run the cell."
   ]
  },
  {
   "cell_type": "code",
   "execution_count": 21,
   "metadata": {},
   "outputs": [
    {
     "data": {
      "text/plain": [
       "Rank\n",
       "1      53.25\n",
       "2      53.24\n",
       "3      44.91\n",
       "4      35.98\n",
       "5      33.36\n",
       "       ...  \n",
       "98      0.94\n",
       "99      0.81\n",
       "100     0.07\n",
       "101     0.04\n",
       "102     0.00\n",
       "Name: Total Pay, Length: 102, dtype: float64"
      ]
     },
     "execution_count": 21,
     "metadata": {},
     "output_type": "execute_result"
    }
   ],
   "source": [
    "total_pay = raw_compensation['Total Pay']\n",
    "total_pay"
   ]
  },
  {
   "cell_type": "markdown",
   "metadata": {},
   "source": [
    "Without using any Python packages, calculate the average \"Total Pay\" and assign it to `mean_total_pay`. \n",
    "\n",
    "_Hint: Use built in Python functions such as_ `len` _and_ `sum`"
   ]
  },
  {
   "cell_type": "code",
   "execution_count": null,
   "metadata": {},
   "outputs": [],
   "source": [
    "## Your Code Here ...\n",
    "mean_total_pay = ...\n",
    "mean_total_pay"
   ]
  },
  {
   "cell_type": "code",
   "execution_count": null,
   "metadata": {},
   "outputs": [],
   "source": [
    "check('q1a', mean_total_pay)"
   ]
  },
  {
   "cell_type": "markdown",
   "metadata": {},
   "source": [
    "## Question 1.b\n",
    "\n",
    "Now that we've found the mean, let's work our way to calculating the standard deviation of the \"Total Pay\" column. Remember, Standard Deviation is calculated as: \n",
    "\n",
    "$$\\text{(5) Root (4) Mean (3) Squared (2) Deviation from the (1) Average}$$\n",
    "\n",
    "We've already calculated the average, now calculate each entry's deviation from the average, and assign it to `deviations_total_pay`. "
   ]
  },
  {
   "cell_type": "code",
   "execution_count": null,
   "metadata": {},
   "outputs": [],
   "source": [
    "## Your Code Here ...\n",
    "deviations_total_pay = ...\n",
    "deviations_total_pay "
   ]
  },
  {
   "cell_type": "code",
   "execution_count": null,
   "metadata": {},
   "outputs": [],
   "source": [
    "check('q1b', mean_total_pay)"
   ]
  },
  {
   "cell_type": "markdown",
   "metadata": {},
   "source": [
    "## Question 1.c\n",
    "\n",
    "Next, we're going to square all of the deviations. Assign the result to `sqdev_total_pay`."
   ]
  },
  {
   "cell_type": "code",
   "execution_count": null,
   "metadata": {},
   "outputs": [],
   "source": [
    "## Your Code Here ...\n",
    "sqdev_total_pay = ...\n",
    "sqdev_total_pay"
   ]
  },
  {
   "cell_type": "code",
   "execution_count": null,
   "metadata": {},
   "outputs": [],
   "source": [
    "check('q1c', sqdev_total_pay)"
   ]
  },
  {
   "cell_type": "markdown",
   "metadata": {},
   "source": [
    "## Question 1.d\n",
    "\n",
    "Last but not least, finish computing the standard deviation of the \"Total Pay\" column, and assign the result to `std_total_pay`."
   ]
  },
  {
   "cell_type": "code",
   "execution_count": null,
   "metadata": {},
   "outputs": [],
   "source": [
    "## Your Code Here ...\n",
    "...\n",
    "std_total_pay = ...\n",
    "std_total_pay"
   ]
  },
  {
   "cell_type": "code",
   "execution_count": null,
   "metadata": {},
   "outputs": [],
   "source": [
    "check('q1d', std_total_pay)"
   ]
  },
  {
   "cell_type": "markdown",
   "metadata": {},
   "source": [
    "You might be wondering, \"This is so repetitive, do I have to do this process everytime I want to compute a standard deviation?\". The answer of course, is **No!**. \n",
    "\n",
    "Python can be used like a calculator, but it is so much more as you can write code to do all of this for you in just one step! In the next part you're going to learn a little about how we can write functions, and then you're going to write a function to compute the mean and a function to compute the standard deviation! "
   ]
  },
  {
   "cell_type": "markdown",
   "metadata": {},
   "source": [
    "# 2. Functions\n",
    "\n",
    "Before we write functions to compute the mean, let's just work on making a function that converts a proportion to a percentage by multiplying it by 100. For example, the value of `to_percentage(.5)` should be the number 50, as in 50 percent. "
   ]
  },
  {
   "cell_type": "markdown",
   "metadata": {},
   "source": [
    "A function has a few parts: \n",
    "\n",
    "#### a) **_`def`_**\n",
    "\n",
    "It always starts with `def` (short for **def**ine):\n",
    "\n",
    "    def\n",
    "\n",
    "\n",
    "##### b) _**Name**_\n",
    "Next comes the name of the function.  Like other names we've defined, it can't start with a number or contain spaces. Let's call our function `to_percentage`:\n",
    "    \n",
    "    def to_percentage\n",
    "\n",
    "##### c) _**Signature**_\n",
    "Next comes something called the *signature* of the function.  This tells Python how many arguments your function should have, and what names you'll use to refer to those arguments in the function's code.  A function can have any number of arguments (including 0!). \n",
    "\n",
    "`to_percentage` should take one argument, and we'll call that argument `proportion` since it should be a proportion.\n",
    "\n",
    "    def to_percentage(proportion)\n",
    "    \n",
    "If we want our function to take more than one argument, we add a comma between each argument name.\n",
    "\n",
    "We put a colon after the signature to tell Python it's over. If you're getting a syntax error after defining a function, check to make sure you remembered the colon!\n",
    "\n",
    "    def to_percentage(proportion):\n",
    "\n",
    "##### d) _**Documentation**_\n",
    "Functions can do complicated things, so you should write an explanation of what your function does.  For small functions, this is less important, but it's a good habit to learn from the start.  Conventionally, Python functions are documented by writing an **indented** triple-quoted string:\n",
    "\n",
    "    def to_percentage(proportion):\n",
    "        \"\"\"Converts a proportion to a percentage.\"\"\"\n",
    "\n",
    "  \n",
    "##### e) _**Body**_\n",
    "Now we start writing code that runs when the function is called.  This is called the *body* of the function and every line **must be indented with a tab**.  Any lines that are *not* indented and left-aligned with the def statement is considered outside the function. \n",
    "\n",
    "Some notes about the body of the function:\n",
    "- We can write any code that we would write anywhere else.  \n",
    "- We use the arguments defined in the function signature. We can do this because we assume that when we call the function, values are already assigned to those arguments.\n",
    "- We generally avoid referencing variables defined *outside* the function.\n",
    "\n",
    "\n",
    "Now, let's give a name to the number we multiply a proportion by to get a percentage:\n",
    "\n",
    "    def to_percentage(proportion):\n",
    "        \"\"\"Converts a proportion to a percentage.\"\"\"\n",
    "        factor = 100\n",
    "\n",
    "##### f) _**`return`**_\n",
    "The special instruction `return` is part of the function's body and tells Python to make the value of the function call equal to whatever comes right after `return`.  We want the value of `to_percentage(.5)` to be the proportion .5 times the factor 100, so we write:\n",
    "\n",
    "    def to_percentage(proportion):\n",
    "        \"\"\"Converts a proportion to a percentage.\"\"\"\n",
    "        factor = 100\n",
    "        return proportion * factor\n",
    "        \n",
    "`return` only makes sense in the context of a function, and **can never be used outside of a function**. `return` is always the last line of the function because Python stops executing the body of a function once it hits a `return` statement.\n",
    "\n",
    "*Note:*  `return` inside a function tells Python what value the function evaluates to. However, there are other functions, like `print`, that have no `return` value. For example, `print` simply prints a certain value out to the console. \n",
    "\n",
    "`return` and `print` are **very** different. "
   ]
  },
  {
   "cell_type": "markdown",
   "metadata": {},
   "source": [
    "## Question 2.a \n",
    "\n",
    "Define `to_percentage` in the cell below.  Call your function to convert the proportion .2 to a percentage.  Name that percentage `twenty_percent`."
   ]
  },
  {
   "cell_type": "code",
   "execution_count": null,
   "metadata": {},
   "outputs": [],
   "source": [
    "# Your Code Here...\n",
    "\n",
    "twenty_percent = ...\n",
    "twenty_percent\n"
   ]
  },
  {
   "cell_type": "code",
   "execution_count": null,
   "metadata": {},
   "outputs": [],
   "source": [
    "check('q2a', twenty_percent)"
   ]
  },
  {
   "cell_type": "markdown",
   "metadata": {},
   "source": [
    "## Question 2.b\n",
    "\n",
    "You can use also use named values as arguments to your function. Use `to_percentage` again to convert the proportion named `a_proportion` (defined below) to a percentage called `a_percentage`.\n",
    "\n",
    "*Note:* You don't need to define `to_percentage` again!  Like other named values, functions stick around after you define them."
   ]
  },
  {
   "cell_type": "code",
   "execution_count": 31,
   "metadata": {},
   "outputs": [
    {
     "data": {
      "text/plain": [
       "Ellipsis"
      ]
     },
     "execution_count": 31,
     "metadata": {},
     "output_type": "execute_result"
    }
   ],
   "source": [
    "a_proportion = 2**(.5) / 2\n",
    "a_percentage = ... ## Your Code Here ...\n",
    "a_percentage"
   ]
  },
  {
   "cell_type": "code",
   "execution_count": null,
   "metadata": {},
   "outputs": [],
   "source": [
    "check('q2b', a_percentage)"
   ]
  },
  {
   "cell_type": "markdown",
   "metadata": {},
   "source": [
    "Here's something important about functions: the names assigned *within* a function body are only accessible within the function body. Once the function has returned, those names are gone.  So even though you defined `factor = 100` inside  the body of the `to_percentage` function up above and then called `to_percentage`, you cannot refer to `factor` anywhere except inside the body of `to_percentage`:"
   ]
  },
  {
   "cell_type": "code",
   "execution_count": null,
   "metadata": {},
   "outputs": [],
   "source": [
    "# You should see an error when you run this.  (If you don't, you might\n",
    "# have defined factor somewhere above.)\n",
    "factor\n"
   ]
  },
  {
   "cell_type": "markdown",
   "metadata": {},
   "source": [
    "Functions don't only have to work with numbers! You can do practically anything with them, as long as you know what functions to use and how to code it! \n",
    "\n",
    "## Question 2.c\n",
    "\n",
    "Define a function called `disemvowel`.  It should take a single string as its argument.  (You can call that argument whatever you want.)  It should return a copy of that string, but with all the characters that are vowels removed.  (In English, the vowels are the characters \"a\", \"e\", \"i\", \"o\", and \"u\".)\n",
    "\n",
    "*Hint:* To remove all the \"a\"s from a string, you can use `<that_string>.replace(\"a\", \"\")`.  The `.replace` method for strings returns a new string, so you can call `replace` multiple times, one after the other. "
   ]
  },
  {
   "cell_type": "code",
   "execution_count": null,
   "metadata": {},
   "outputs": [],
   "source": [
    "def disemvowel(a_string):\n",
    "    \"\"\"Takes a string and removes all the vowels in the string\"\"\"\n",
    "    ## Your Code Here ...\n",
    "    return ...\n",
    "\n",
    "# An example call to your function.  (It's often helpful to run\n",
    "# an example call from time to time while you're writing a function,\n",
    "# to see how it currently works.)\n",
    "disemvowel(\"Can you read this without vowels?\")"
   ]
  },
  {
   "cell_type": "code",
   "execution_count": null,
   "metadata": {},
   "outputs": [],
   "source": [
    "check('q2c', disemvowel)"
   ]
  },
  {
   "cell_type": "markdown",
   "metadata": {},
   "source": [
    "##### Calls on calls on calls\n",
    "Just as you write a series of lines to build up a complex computation, it's useful to define a series of small functions that build on each other.  Since you can write any code inside a function's body, you can call other functions you've written.\n",
    "\n",
    "If a function is a like a recipe, defining a function in terms of other functions is like having a recipe for cake telling you to follow another recipe to make the frosting, and another to make the jam filling.  This makes the cake recipe shorter and clearer, and it avoids having a bunch of duplicated frosting recipes.  It's a foundation of productive programming.\n",
    "\n",
    "For example, if I wanted to count the number of characters *that aren't vowels* in a piece of text, one way to do that is this to remove all the vowels and count the size of the remaining string. The code would be as follows:\n"
   ]
  },
  {
   "cell_type": "code",
   "execution_count": 35,
   "metadata": {},
   "outputs": [],
   "source": [
    "def num_non_vowels(a_string):\n",
    "    \"\"\"The number of characters in a string, minus the vowels.\"\"\"\n",
    "    without_vowels = disemvowel(a_string)\n",
    "    return len(without_vowels)\n",
    "\n"
   ]
  },
  {
   "cell_type": "markdown",
   "metadata": {},
   "source": [
    "Notice in the above function, I used _two_ other functions inside of the function, one inside of the body, and one inside of the return."
   ]
  },
  {
   "cell_type": "markdown",
   "metadata": {},
   "source": [
    "With this knowledge, let's go back to our main task: speeding up calculating the mean and the standard deviation. \n",
    "\n",
    "## Question 2.d\n",
    "\n",
    "Implement the `average` function which takes in an array/list of numbers and returns the average of the values in that list.\n",
    "\n",
    "_Hint: You've already written some of the code above! It's just a matter of generalizing it to any input and putting it into a function!_"
   ]
  },
  {
   "cell_type": "code",
   "execution_count": 37,
   "metadata": {},
   "outputs": [],
   "source": [
    "def average(some_numbers):\n",
    "    \"\"\"Returns the average of a set of numbers\"\"\"\n",
    "    ## Your Code Here ...\n",
    "    ...\n",
    "    return ...\n",
    "\n"
   ]
  },
  {
   "cell_type": "code",
   "execution_count": null,
   "metadata": {},
   "outputs": [],
   "source": [
    "check('q2d', average)"
   ]
  },
  {
   "cell_type": "markdown",
   "metadata": {},
   "source": [
    "## Question 2.e\n",
    "\n",
    "Remember how we mentioned that you can call functions inside of other functions? Now try to define a function that will handle calculating the standard deviation of a list of numbers, while also using your average function from above! \n",
    "\n",
    "_Hint: You've already written some of the code above! It's just a matter of generalizing it to any input and putting it into a function!_"
   ]
  },
  {
   "cell_type": "code",
   "execution_count": null,
   "metadata": {},
   "outputs": [],
   "source": [
    "def standard_deviation(some_numbers):\n",
    "    \"\"\"Returns the standard deviation of a set of numbers\"\"\"\n",
    "    ## Your Code Here ...\n",
    "    ...\n",
    "    return ...\n",
    "\n",
    "# Now call your function on `total_pay` and see if you get the same answer as when you went through all the steps! \n",
    "standard_deviation(total_pay)\n"
   ]
  },
  {
   "cell_type": "code",
   "execution_count": null,
   "metadata": {},
   "outputs": [],
   "source": [
    "check('q2e', standard_deviation)"
   ]
  },
  {
   "cell_type": "markdown",
   "metadata": {},
   "source": [
    "Congratulations on writing some of your first Python functions! "
   ]
  },
  {
   "cell_type": "markdown",
   "metadata": {},
   "source": [
    "# 3. Visualizations\n",
    "\n",
    "Now we're gonna make some visualizations and conduct some statistical analysis on the CEO salary data. Refer back to your Python cheatsheet for the documentation on some of these functions. We will be using `plot_histogram` and `plot_scatter`."
   ]
  },
  {
   "cell_type": "markdown",
   "metadata": {},
   "source": [
    "## Question 3.a\n",
    "\n",
    "Outside of \"Total Pay\", we also the breakdown of each CEO's pay into \"Cash Pay\", \"Equity Pay\", and \"Other Pay\". Assign these arrays of data to their respective variables, then create histogram plots for each one of them. \n",
    "\n",
    "Remember, a good visualization will always have labelled axis as well as a title explaining what the visualization is showing. For a histogram, typically your y-axis will be labelled \"counts\". We've plotted a histogram for \"Total Pay\" for you below. "
   ]
  },
  {
   "cell_type": "code",
   "execution_count": null,
   "metadata": {},
   "outputs": [],
   "source": [
    "display.Image(\"LINK TO TOTAL PAY\")"
   ]
  },
  {
   "cell_type": "code",
   "execution_count": 50,
   "metadata": {},
   "outputs": [],
   "source": [
    "# Your Code Here\n",
    "cash_pay = ...\n",
    "equity_pay = ...\n",
    "other_pay = ..."
   ]
  },
  {
   "cell_type": "markdown",
   "metadata": {},
   "source": [
    "### Question 3.a.1 \n",
    "\n",
    "Plot a labelled histogram for the \"Cash Pay\" variable"
   ]
  },
  {
   "cell_type": "code",
   "execution_count": null,
   "metadata": {},
   "outputs": [],
   "source": [
    "# Your Code Here\n",
    "..."
   ]
  },
  {
   "cell_type": "markdown",
   "metadata": {},
   "source": [
    "### Question 3.a.2\n",
    "\n",
    "Plot a labelled histogram for the \"Equity Pay\" variable"
   ]
  },
  {
   "cell_type": "code",
   "execution_count": null,
   "metadata": {},
   "outputs": [],
   "source": [
    "# Your Code Here\n",
    "..."
   ]
  },
  {
   "cell_type": "markdown",
   "metadata": {},
   "source": [
    "### Question 3.a.3 \n",
    "\n",
    "Plot a labelled histogram for the \"Other Pay\" variable"
   ]
  },
  {
   "cell_type": "code",
   "execution_count": 54,
   "metadata": {},
   "outputs": [],
   "source": [
    "# Your Code Here\n",
    "..."
   ]
  },
  {
   "cell_type": "markdown",
   "metadata": {},
   "source": [
    "## Question 3.b\n",
    "\n",
    "Do you notice anything interesting about the different histograms? Jot down some thoughts here on the similarities and difference on the distribution of the different forms of compensation. "
   ]
  },
  {
   "cell_type": "markdown",
   "metadata": {},
   "source": [
    "_Your Response Here:_"
   ]
  },
  {
   "cell_type": "markdown",
   "metadata": {},
   "source": [
    "## Question 3.c\n",
    "\n",
    "Let's move away from histograms and now focus on scatter plots. Use the `plot_scatter` function to make a labelled scatter plot comparing CEO equity pay to their cash pay."
   ]
  },
  {
   "cell_type": "markdown",
   "metadata": {},
   "source": []
  }
 ],
 "metadata": {
  "kernelspec": {
   "display_name": "Python 3.8.8 ('base')",
   "language": "python",
   "name": "python3"
  },
  "language_info": {
   "codemirror_mode": {
    "name": "ipython",
    "version": 3
   },
   "file_extension": ".py",
   "mimetype": "text/x-python",
   "name": "python",
   "nbconvert_exporter": "python",
   "pygments_lexer": "ipython3",
   "version": "3.8.8"
  },
  "orig_nbformat": 4,
  "vscode": {
   "interpreter": {
    "hash": "2f39d6a9340f9094a15ae3206b3cb83be26c4819028e15d4b820076fd30a3721"
   }
  }
 },
 "nbformat": 4,
 "nbformat_minor": 2
}

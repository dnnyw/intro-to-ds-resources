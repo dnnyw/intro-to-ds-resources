{
  "nbformat": 4,
  "nbformat_minor": 0,
  "metadata": {
    "colab": {
      "name": "lab2.ipynb",
      "provenance": []
    },
    "kernelspec": {
      "name": "python3",
      "display_name": "Python 3"
    },
    "language_info": {
      "name": "python"
    }
  },
  "cells": [
    {
      "cell_type": "code",
      "execution_count": 1,
      "metadata": {
        "id": "gjeZ2BqA5bW_",
        "colab": {
          "base_uri": "https://localhost:8080/",
          "height": 444
        },
        "outputId": "a0afc719-d99e-47e3-dad7-e733858ae26c"
      },
      "outputs": [
        {
          "output_type": "stream",
          "name": "stdout",
          "text": [
            "--2022-07-07 06:34:16--  https://raw.githubusercontent.com/dnnyw/intro-to-ds-resources/main/labs/lab2/lab2.py\n",
            "Resolving raw.githubusercontent.com (raw.githubusercontent.com)... 185.199.108.133, 185.199.111.133, 185.199.110.133, ...\n",
            "Connecting to raw.githubusercontent.com (raw.githubusercontent.com)|185.199.108.133|:443... connected.\n",
            "HTTP request sent, awaiting response... 404 Not Found\n",
            "2022-07-07 06:34:17 ERROR 404: Not Found.\n",
            "\n"
          ]
        },
        {
          "output_type": "error",
          "ename": "ModuleNotFoundError",
          "evalue": "ignored",
          "traceback": [
            "\u001b[0;31m---------------------------------------------------------------------------\u001b[0m",
            "\u001b[0;31mModuleNotFoundError\u001b[0m                       Traceback (most recent call last)",
            "\u001b[0;32m<ipython-input-1-070c801528de>\u001b[0m in \u001b[0;36m<module>\u001b[0;34m()\u001b[0m\n\u001b[1;32m      1\u001b[0m \u001b[0;31m#autograder for the lab\u001b[0m\u001b[0;34m\u001b[0m\u001b[0;34m\u001b[0m\u001b[0;34m\u001b[0m\u001b[0m\n\u001b[1;32m      2\u001b[0m \u001b[0mget_ipython\u001b[0m\u001b[0;34m(\u001b[0m\u001b[0;34m)\u001b[0m\u001b[0;34m.\u001b[0m\u001b[0msystem\u001b[0m\u001b[0;34m(\u001b[0m\u001b[0;34m'wget https://raw.githubusercontent.com/dnnyw/intro-to-ds-resources/main/labs/lab2/lab2.py'\u001b[0m\u001b[0;34m)\u001b[0m\u001b[0;34m\u001b[0m\u001b[0;34m\u001b[0m\u001b[0m\n\u001b[0;32m----> 3\u001b[0;31m \u001b[0;32mfrom\u001b[0m \u001b[0mlab02\u001b[0m \u001b[0;32mimport\u001b[0m \u001b[0;34m*\u001b[0m\u001b[0;34m\u001b[0m\u001b[0;34m\u001b[0m\u001b[0m\n\u001b[0m",
            "\u001b[0;31mModuleNotFoundError\u001b[0m: No module named 'lab02'",
            "",
            "\u001b[0;31m---------------------------------------------------------------------------\u001b[0;32m\nNOTE: If your import is failing due to a missing package, you can\nmanually install dependencies using either !pip or !apt.\n\nTo view examples of installing some common dependencies, click the\n\"Open Examples\" button below.\n\u001b[0;31m---------------------------------------------------------------------------\u001b[0m\n"
          ],
          "errorDetails": {
            "actions": [
              {
                "action": "open_url",
                "actionText": "Open Examples",
                "url": "/notebooks/snippets/importing_libraries.ipynb"
              }
            ]
          }
        }
      ],
      "source": [
        "#autograder for the lab\n",
        "!wget https://raw.githubusercontent.com/dnnyw/intro-to-ds-resources/main/labs/lab2/lab2.py\n",
        "from lab02 import *"
      ]
    },
    {
      "cell_type": "markdown",
      "source": [
        "#**Lab 2: Control & NumPy**\n",
        "\n",
        "Welcome to Lab 2! In this lab you will be doing more Python basics and will be using arrays with the Python library, NumPy!\n",
        "\n",
        "If you have any questions or get stuck or anything, feel free to come to office hours. After completing the question, run the cell below to grade the question. The autograder will return True if your answer is correct and False otherwise."
      ],
      "metadata": {
        "id": "8xK_chsO5zTf"
      }
    },
    {
      "cell_type": "markdown",
      "source": [
        "**Helpful Resource:**\n",
        "\n",
        "* [Python Reference](https://): Cheat sheet for Python and other functions used in this course\n"
      ],
      "metadata": {
        "id": "vaoNsGcG6aWQ"
      }
    },
    {
      "cell_type": "markdown",
      "source": [
        "**Today's lab**\n",
        "\n",
        "1. Use *booleans*\n",
        "2. Write and include *conditional statements* in functions\n",
        "3. Create and manipulate arrays using *NumPy*\n",
        "4. Write and include *iterations* in functions"
      ],
      "metadata": {
        "id": "Gms3iwut7WeI"
      }
    },
    {
      "cell_type": "markdown",
      "source": [
        "##**1. Booleans**\n",
        "\n",
        "A **boolean** value is either `True` or `False`. Boolean expressions are used in comparision operators or logicial operators. \n"
      ],
      "metadata": {
        "id": "YF0t4FwT8mSO"
      }
    },
    {
      "cell_type": "markdown",
      "source": [
        "### **1.a. Comparison Operator**\n",
        "\n",
        "For the following questions, answer whether the boolean would return `True` or `False`.\n",
        "\n",
        "|Operator|Meaning\n",
        "|-|-\n",
        "|`==`| Equality\n",
        "|`!=`| Inequality\n",
        "|`>`| Greater than\n",
        "|`>=`| Greater than or equal\n",
        "|`<`| Less than \n",
        "|`<=`| Less than or equal"
      ],
      "metadata": {
        "id": "XwLuQeDy938Q"
      }
    },
    {
      "cell_type": "markdown",
      "source": [
        "**Question 1.a.1**\n",
        "\n",
        "```\n",
        "412 == 232\n",
        "```\n",
        "\n"
      ],
      "metadata": {
        "id": "HWIWHyzW-WRl"
      }
    },
    {
      "cell_type": "code",
      "source": [
        "a_1 = ..."
      ],
      "metadata": {
        "id": "NOHO7vE--ZuR"
      },
      "execution_count": null,
      "outputs": []
    },
    {
      "cell_type": "code",
      "source": [
        "check(\"q1a1\", a_1)"
      ],
      "metadata": {
        "id": "s-Z74Pv--qHI"
      },
      "execution_count": null,
      "outputs": []
    },
    {
      "cell_type": "markdown",
      "source": [
        "**Question 1.a.2**\n",
        "\n",
        "```\n",
        "213 > 21\n",
        "```\n",
        "\n"
      ],
      "metadata": {
        "id": "cxL9o8SM-4Ms"
      }
    },
    {
      "cell_type": "code",
      "source": [
        "a_2 = ..."
      ],
      "metadata": {
        "id": "4uLubMZi-4Mt"
      },
      "execution_count": null,
      "outputs": []
    },
    {
      "cell_type": "code",
      "source": [
        "check(\"q1a2\", a_2)"
      ],
      "metadata": {
        "id": "b_pbWBAI-4Mt"
      },
      "execution_count": null,
      "outputs": []
    },
    {
      "cell_type": "markdown",
      "source": [
        "**Question 1.a.3**\n",
        "\n",
        "```\n",
        "(9 * 8) != 72\n",
        "```\n",
        "\n"
      ],
      "metadata": {
        "id": "SrlUsqRc_Fk5"
      }
    },
    {
      "cell_type": "code",
      "source": [
        "a_3 = ..."
      ],
      "metadata": {
        "id": "6mZyz7lj_Fk6"
      },
      "execution_count": null,
      "outputs": []
    },
    {
      "cell_type": "code",
      "source": [
        "check(\"q1a3\", a_3)"
      ],
      "metadata": {
        "id": "txIYyt7m_Fk6"
      },
      "execution_count": null,
      "outputs": []
    },
    {
      "cell_type": "markdown",
      "source": [
        "### **1.b. Logicial Operator**\n",
        "\n",
        "\n",
        "\n",
        "\n",
        "For the following questions, answer whether the boolean would return `True` or `False`.\n",
        "\n"
      ],
      "metadata": {
        "id": "iSKsjgm2_hlD"
      }
    },
    {
      "cell_type": "markdown",
      "source": [
        "**Question 1.b.1**\n",
        "\n",
        "```\n",
        "412 == 232 or 12 < 0 \n",
        "```\n",
        "\n"
      ],
      "metadata": {
        "id": "wkjFX2cX_qJ_"
      }
    },
    {
      "cell_type": "code",
      "source": [
        "b_1 = ..."
      ],
      "metadata": {
        "id": "cA-6xxjw_qJ_"
      },
      "execution_count": null,
      "outputs": []
    },
    {
      "cell_type": "code",
      "source": [
        "check(\"q1b1\", b_1)"
      ],
      "metadata": {
        "id": "wpXy_pwF_qKA"
      },
      "execution_count": null,
      "outputs": []
    },
    {
      "cell_type": "markdown",
      "source": [
        "**Question 1.b.2**\n",
        "```\n",
        "not(21 != 20 and 320 <= 320)\n",
        "```\n",
        "\n"
      ],
      "metadata": {
        "id": "PNUXTlJx_qKA"
      }
    },
    {
      "cell_type": "code",
      "source": [
        "b_2 = ..."
      ],
      "metadata": {
        "id": "X3GiZcSs_qKA"
      },
      "execution_count": null,
      "outputs": []
    },
    {
      "cell_type": "code",
      "source": [
        "check(\"q1b2\", b_2)"
      ],
      "metadata": {
        "id": "fUfNwclw_qKA"
      },
      "execution_count": null,
      "outputs": []
    },
    {
      "cell_type": "markdown",
      "source": [
        "**Question 1.b.3**\n",
        "\n",
        "```\n",
        "not((123 != 210 or 4 >= -3) and -21 <= -22)\n",
        "```\n",
        "\n"
      ],
      "metadata": {
        "id": "KLJ5z1hu_qKA"
      }
    },
    {
      "cell_type": "code",
      "source": [
        "b_3 = ..."
      ],
      "metadata": {
        "id": "GHqD6--v_qKA"
      },
      "execution_count": null,
      "outputs": []
    },
    {
      "cell_type": "code",
      "source": [
        "check(\"q1b3\", b_3)"
      ],
      "metadata": {
        "id": "AxN7jq7i_qKA"
      },
      "execution_count": null,
      "outputs": []
    },
    {
      "cell_type": "markdown",
      "source": [
        "##**2. Conditionals**\n",
        "\n",
        "*   `if` Always start with if\n",
        "*   `elif` Goes after if. Can have zero or more elif clauses. \n",
        "*   `else` At the very end. Only occurs if all the previous statements are false. Can have zero or one else clause. \n",
        "\n",
        "All conditionals are booleans. This is how you would format a conditional:\n",
        "\n",
        "\n",
        "```\n",
        "if <condition>:\n",
        "  <statement>\n",
        "  ...\n",
        "elif <condition>: \n",
        "  <statment> \n",
        "  ...\n",
        "else:\n",
        "  <statement>\n",
        "  ...\n",
        "```\n",
        "\n",
        "The statements underneath the conditionals will only be executed if conditional is `True`. The order goes from top to bottom, once a conditional is `True`, then the rest of the conditionals are skipped. For example if the if statement is `True`, the computer will disregard the elif and else statements. \n",
        "\n",
        "**REMINDERS**:\n",
        "\n",
        "*   `else` does not need a condition because else only occurs if everything ELSE is false\n",
        "*   you **must** start with `if`\n",
        "*   `else` and `elif` are not necessary\n",
        "*  you may think of `elif` as ELSE IF \n",
        "\n",
        "\n",
        "\n",
        "\n"
      ],
      "metadata": {
        "id": "VpPwjG6gKrRN"
      }
    },
    {
      "cell_type": "markdown",
      "source": [
        "**Question 2.1** Complete the following conditional statement, so that the string `It's so fluffy!` is assigned to the variable `agnes_gru` if `unicorn` is greater or equal to `1`. Use the if statement to do this (do not directly reassign the variable `agnes_gru`)."
      ],
      "metadata": {
        "id": "uMNwCTWjQwBk"
      }
    },
    {
      "cell_type": "code",
      "source": [
        "unicorn = 1\n",
        "agnes_gru = '?'\n",
        "\n",
        "if ...:\n",
        "  agnes_gru = ...\n",
        "\n",
        "agnes_gru"
      ],
      "metadata": {
        "id": "CaPy-DKVR1-_"
      },
      "execution_count": null,
      "outputs": []
    },
    {
      "cell_type": "code",
      "source": [
        "check(\"q21\", agnes_gru)"
      ],
      "metadata": {
        "id": "LxE_xa0_SVd4"
      },
      "execution_count": null,
      "outputs": []
    },
    {
      "cell_type": "markdown",
      "source": [
        "**Question 2.2** Write a function called `banana_song` that returns a reaction (as a string) based on which minion is passed in as an argument. Use the table below to match the nacho type to the appropriate reaction. \n",
        "\n",
        "|Minion|Reaction\n",
        "|-|-\n",
        "|Dave|Ba-ba-ba-ba-ba-nana!\n",
        "|Kevin|Potato-na-ah-ah!\n",
        "|Stuart|POH-TAA-TOH-OH-OH!\n",
        "|None| Ka-ba-ba!\n",
        "\n",
        "\n",
        "\n",
        "*Hint 1:* If you're failing the test, double check the spelling of your reactions. \n",
        "\n",
        "*Hint 2:* `else` means none of the previous statements are true \n"
      ],
      "metadata": {
        "id": "OTXPNy_kTBJa"
      }
    },
    {
      "cell_type": "code",
      "source": [
        "def banana_song(minion):\n",
        "  if minion == \"Dave\":\n",
        "    return ...\n",
        "  ... :\n",
        "    ...\n",
        "  ... :\n",
        "    ...\n",
        "  ... :\n",
        "    ...\n",
        "\n",
        "dave = banana_song(\"Dave\")\n",
        "dave"
      ],
      "metadata": {
        "id": "hrcHQCYgUKjn"
      },
      "execution_count": null,
      "outputs": []
    },
    {
      "cell_type": "code",
      "source": [
        "# DO NOT CHANGE THIS CELL\n",
        "# run it after filling out banana_song for the autograder \n",
        "\n",
        "song_dict = {\"Dave\": False, \"Kevin\": False, \"Stuart\": False, \"Gru\": False}\n",
        "\n",
        "for name in song_dict.keys():\n",
        "  ans = banana_song(name)\n",
        "  song_dict[name] = ans"
      ],
      "metadata": {
        "id": "6sArSKGSVDKy"
      },
      "execution_count": null,
      "outputs": []
    },
    {
      "cell_type": "code",
      "source": [
        "check(\"q22\", song_dict)"
      ],
      "metadata": {
        "id": "zvi-PfX4UwXz"
      },
      "execution_count": null,
      "outputs": []
    },
    {
      "cell_type": "markdown",
      "source": [
        "##**3. NumPy**\n",
        "\n",
        "NumPy is a Python package for computing arrays"
      ],
      "metadata": {
        "id": "51Ve7LHdZNt0"
      }
    },
    {
      "cell_type": "code",
      "source": [
        "#DO NOT CHANGE THIS CELL\n",
        "#run this cell\n",
        "\n",
        "# This line import the NumPy package so it can be used \n",
        "import numpy as np\n",
        "from math import *"
      ],
      "metadata": {
        "id": "iJJIcKNmZffI"
      },
      "execution_count": null,
      "outputs": []
    },
    {
      "cell_type": "markdown",
      "source": [
        "###**3.a. Arrays**\n",
        "An array contain a sequence of values with the same type. A range is an array with consecutive numbers.\n",
        "\n",
        "|Function|Creates|Example|Returns\n",
        "|-|-|-|-\n",
        "|`np.arange(end)`| array with increasing ints from 0 to end | `np.arange(2)` | [0, 1]\n",
        "|`np.arange(start, end)`| array with increasing ints from start to end | `np.arange(1, 3)` | [1, 2]\n",
        "|`np.arange(start, end, step`| array with steps between the consecutive values | `np.arange(-1, 4, 2)` | [-1, 1, 3]\n",
        "|`np.array([])`| array given in argument | `np.array([2, 1, 0, 4])` | [2, 1, 0 ,4]"
      ],
      "metadata": {
        "id": "H2oTaKnBaN_D"
      }
    },
    {
      "cell_type": "markdown",
      "source": [
        "**Question 3.a.1** Make an array called `some_numbers` containing the fllower numbers (in the given order): \n",
        "\n",
        "\n",
        "1. -1\n",
        "2. squareroot of 13\n",
        "3. floor of 31.2 \n",
        "4. 8 to the power of 3 which is mulitiplied by 27.2 \n",
        "\n",
        "*Hint:* `sqrt`, `pow`, and `floor` are imported from the math module"
      ],
      "metadata": {
        "id": "EnD2njDIcj4L"
      }
    },
    {
      "cell_type": "code",
      "source": [
        "# Can use additional lines if needed \n",
        "...\n",
        "some_numbers = ...\n",
        "some_numbers"
      ],
      "metadata": {
        "id": "v3rylfSIdGCM"
      },
      "execution_count": null,
      "outputs": []
    },
    {
      "cell_type": "code",
      "source": [
        "check(\"q3a1\", some_numbers)"
      ],
      "metadata": {
        "id": "IbSNedj9d2zI"
      },
      "execution_count": null,
      "outputs": []
    },
    {
      "cell_type": "markdown",
      "source": [
        "**Question 3.a.2** Make an array called `guardians ` containing the following strings: \"Star-Lord\", \"Gamora\", \"Drax the Destroyer\", \"Groot\", \"Rocket\", \"Mantis\"\n",
        "\n",
        "\n",
        "\n"
      ],
      "metadata": {
        "id": "wGpSj8s0d9fo"
      }
    },
    {
      "cell_type": "code",
      "source": [
        "guardians = ...\n",
        "guardians"
      ],
      "metadata": {
        "id": "FYZSXlQ_e-v5"
      },
      "execution_count": null,
      "outputs": []
    },
    {
      "cell_type": "code",
      "source": [
        "check(\"q3a2\", guardians)"
      ],
      "metadata": {
        "id": "khtGf4zwfLWL"
      },
      "execution_count": null,
      "outputs": []
    },
    {
      "cell_type": "markdown",
      "source": [
        "###**3.b. Array Manipulation** \n",
        "\n",
        "|Function|What it does |Example|Returns\n",
        "|-|-|-|-\n",
        "|`np.append(arr, value)`|adds value to end | `np.append([2, 1], 2` | [2, 1, 2]\n",
        "|`np.insert(arr, index, value)`| inserts values to the index | `np.insert([2, 1], 2, 1)` | [2, 2]\n",
        "|`np.delete(arr, index)`| deletes the element at the index | `np.delete([-1, 2, 3], 1)` | [-1, 3]\n",
        "\n",
        "**REMINDER** These functions creates a new array (make sure to reassign if you want it to equal the same variable name."
      ],
      "metadata": {
        "id": "XI0pj92pfOGE"
      }
    },
    {
      "cell_type": "markdown",
      "source": [
        "**Question 3.b.1** Update `guardians` so it contains:\n",
        "\n",
        "\n",
        "*  Gamora, Yondu, Nebula (in this order at the end of the array)\n",
        "*  Replace Grott with Grott II \n",
        "\n",
        "*Hint:* `insert` can be used to replace one value with another value \n",
        "\n"
      ],
      "metadata": {
        "id": "zINZQY6Dg_8Z"
      }
    },
    {
      "cell_type": "code",
      "source": [
        "# Use as many lines as you need \n",
        "guardians = ...\n",
        "...\n",
        "\n",
        "guardians "
      ],
      "metadata": {
        "id": "b_m-L3JVgjVe"
      },
      "execution_count": null,
      "outputs": []
    },
    {
      "cell_type": "code",
      "source": [
        "check(\"q3b1\", guardians)"
      ],
      "metadata": {
        "id": "ZGYDVuLIinZ8"
      },
      "execution_count": null,
      "outputs": []
    },
    {
      "cell_type": "markdown",
      "source": [
        "**Question 3.b.2** Update `guardians` so it contains: \n",
        "\n",
        "\n",
        "*   delete Yondu\n",
        "*   add Thor to the end of the array\n",
        "\n"
      ],
      "metadata": {
        "id": "QQcvD9HVirtb"
      }
    },
    {
      "cell_type": "code",
      "source": [
        "# Use as many lines as you need \n",
        "guardians = ...\n",
        "...\n",
        "\n",
        "guardians "
      ],
      "metadata": {
        "id": "sjjXTz1fi_Jb"
      },
      "execution_count": null,
      "outputs": []
    },
    {
      "cell_type": "code",
      "source": [
        "check(\"q3b2\", guardians)"
      ],
      "metadata": {
        "id": "NIi7mPdvjAos"
      },
      "execution_count": null,
      "outputs": []
    },
    {
      "cell_type": "markdown",
      "source": [
        "##**3.c Indexing Arrays**\n",
        "\n",
        "These exercises give you practice accessing individual elements of arrays.  In Python (and in many programming languages), elements are accessed by its *index*; for example, the first element is the element at index 0. Indices must be **integers**."
      ],
      "metadata": {
        "id": "hZZ9G98LjfA4"
      }
    },
    {
      "cell_type": "markdown",
      "source": [
        "**Question 3.c.1** The cell below creates an array of numbers. Set `second_element` to the second element of `numbers`"
      ],
      "metadata": {
        "id": "FLc-JVyxj9s4"
      }
    },
    {
      "cell_type": "code",
      "source": [
        "numbers = np.array([2, 12, -2, -4])\n",
        "\n",
        "second_element = ...\n",
        "second_element"
      ],
      "metadata": {
        "id": "4btc1JJ7kLTy"
      },
      "execution_count": null,
      "outputs": []
    },
    {
      "cell_type": "code",
      "source": [
        "check(\"q3c1\", second_element)"
      ],
      "metadata": {
        "id": "P62YdQ5-kgt6"
      },
      "execution_count": null,
      "outputs": []
    },
    {
      "cell_type": "markdown",
      "source": [
        "#**4. Iteration**\n",
        "\n",
        "Using a `for` statement, we can perform a task multiple times. This is known as iteration. The general structure of a for loop is:\n",
        "\n",
        "`for <placeholder> in <array>:` followed by indented lines of code that are repeated for each element of the `array` being iterated over. \n",
        "\n",
        "**NOTE:** We often use `i` as the `placeholder` in our class examples, but you could name it anything! Some examples can be found below.\n",
        "\n",
        "One use of iteration is to loop through a set of values. For instance, we can print out all of the guardians in `guardians`."
      ],
      "metadata": {
        "id": "conj1qGplOxq"
      }
    },
    {
      "cell_type": "code",
      "source": [
        "for guardian in guardians: \n",
        "  print(guardian)"
      ],
      "metadata": {
        "id": "LoU0LgqwltgG"
      },
      "execution_count": null,
      "outputs": []
    },
    {
      "cell_type": "markdown",
      "source": [
        "We can see that the indented part of the `for` loop, known as the body, is executed once for each item in `guardians`. The name `guardian` is assigned to the next value in `guardians` at the start of each iteration. Note that the name `guardian` is arbitrary; we could easily have named it something else. The important thing is we stay consistent throughout the `for` loop. "
      ],
      "metadata": {
        "id": "ANc8LfTLl1Qd"
      }
    },
    {
      "cell_type": "code",
      "source": [
        "for another_name in guardians: \n",
        "  print(another_name)"
      ],
      "metadata": {
        "id": "vbglazs7l7o8"
      },
      "execution_count": null,
      "outputs": []
    },
    {
      "cell_type": "markdown",
      "source": [
        "In general, however, we would like the variable name to be somewhat informative. "
      ],
      "metadata": {
        "id": "TJJIoRxVmGA8"
      }
    },
    {
      "cell_type": "markdown",
      "source": [
        "**Question 4.1** Using a `for` loop, assign `long_names` to the number of names that are more than 7 letters long. \n",
        "\n",
        "*Hint 1:* You can find the number of letters in a word with the `len` function.\n",
        "\n",
        "*Hint 2:* How can you use l`onger_than_seven` to keep track of the numbers of words that are more than seven letters long? "
      ],
      "metadata": {
        "id": "icJ1mzeJmUVS"
      }
    },
    {
      "cell_type": "code",
      "source": [
        "longer_than_seven \n",
        "\n",
        "for ... in guardians: \n",
        "  if ...:\n",
        "    longer_than_seven = ...\n",
        "\n",
        "longer_than_seven "
      ],
      "metadata": {
        "id": "CQAD6ZuOmwIW"
      },
      "execution_count": null,
      "outputs": []
    },
    {
      "cell_type": "code",
      "source": [
        "check(\"q41\", longer_than_seven)"
      ],
      "metadata": {
        "id": "UsIfcrI-nBHa"
      },
      "execution_count": null,
      "outputs": []
    },
    {
      "cell_type": "markdown",
      "source": [
        "#*5. Summary*\n",
        "\n",
        "Yay! You're done with lab 02.  Hope this lab was helpful for some extra practice. If you have any questions or want to go further in depth on the material, please attend office hours which is held after lectures until 8PM. \n",
        "\n",
        "If you are submitting this lab for the Certificate of Completion, save this file which can be found under `File`.  Then run the cell below ONLY when you completed every question. Everything should return `True` which would indiciate everything is correct."
      ],
      "metadata": {
        "id": "JqiYtuaWnT88"
      }
    },
    {
      "cell_type": "code",
      "source": [
        "checkall()"
      ],
      "metadata": {
        "id": "L8b30X_jnZuz"
      },
      "execution_count": null,
      "outputs": []
    }
  ]
}
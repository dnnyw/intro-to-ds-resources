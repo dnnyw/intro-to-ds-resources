{
 "cells": [
  {
   "cell_type": "code",
   "execution_count": 1,
   "metadata": {},
   "outputs": [],
   "source": [
    "# importing some packages to help with certain functions\n",
    "import pandas as pd\n",
    "from numpy import mean\n",
    "from numpy import std\n",
    "\n",
    "\n",
    "# download the dataset \n",
    "!wget https://raw.githubusercontent.com/dnnyw/intro-to-ds-resources/main/labs/lab4/housing_subset.csv\n",
    "\n",
    "# download some helper functions in order to assist with plotting\n",
    "!wget https://raw.githubusercontent.com/dnnyw/intro-to-ds-resources/main/functions.py\n",
    "\n",
    "# download additional assets for this lab\n",
    "!wget https://raw.githubusercontent.com/dnnyw/intro-to-ds-resources/main/labs/lab4/lab4.py\n",
    "\n",
    "from functions import *\n",
    "from lab4 import *"
   ]
  },
  {
   "cell_type": "markdown",
   "metadata": {},
   "source": [
    "# **Lab 4: Correlation and Linear Regression (SOLVED)**\n",
    "\n",
    "In this week's lab you'll work more with Python, using it to write some functions to calculate the correlation between two variables.\n",
    "\n",
    "In addition, you'll get a chance to implement the analytical method of simple linear regression and also use some Python packages to implement the numerical method. There is also an additional section which introduces multiple linear regression, where you can use two or more variables to make predictions on an outcome. \n",
    "\n",
    "In this lab we will work with Housing Data drawn from a subset of the Boston Standard Metropolitan Statistical Area (SMSA) in 1970. In the following cell we read the data into the housing variable."
   ]
  },
  {
   "cell_type": "code",
   "execution_count": 2,
   "metadata": {},
   "outputs": [
    {
     "data": {
      "text/html": [
       "<div>\n",
       "<style scoped>\n",
       "    .dataframe tbody tr th:only-of-type {\n",
       "        vertical-align: middle;\n",
       "    }\n",
       "\n",
       "    .dataframe tbody tr th {\n",
       "        vertical-align: top;\n",
       "    }\n",
       "\n",
       "    .dataframe thead th {\n",
       "        text-align: right;\n",
       "    }\n",
       "</style>\n",
       "<table border=\"1\" class=\"dataframe\">\n",
       "  <thead>\n",
       "    <tr style=\"text-align: right;\">\n",
       "      <th></th>\n",
       "      <th>crim</th>\n",
       "      <th>zn</th>\n",
       "      <th>indus</th>\n",
       "      <th>nox</th>\n",
       "      <th>rm</th>\n",
       "      <th>age</th>\n",
       "      <th>dis</th>\n",
       "      <th>tax</th>\n",
       "      <th>ptratio</th>\n",
       "      <th>medv</th>\n",
       "    </tr>\n",
       "  </thead>\n",
       "  <tbody>\n",
       "    <tr>\n",
       "      <th>0</th>\n",
       "      <td>0.00632</td>\n",
       "      <td>18.0</td>\n",
       "      <td>2.31</td>\n",
       "      <td>0.538</td>\n",
       "      <td>6.575</td>\n",
       "      <td>65.2</td>\n",
       "      <td>4.0900</td>\n",
       "      <td>296</td>\n",
       "      <td>15.3</td>\n",
       "      <td>24.0</td>\n",
       "    </tr>\n",
       "    <tr>\n",
       "      <th>1</th>\n",
       "      <td>0.02731</td>\n",
       "      <td>0.0</td>\n",
       "      <td>7.07</td>\n",
       "      <td>0.469</td>\n",
       "      <td>6.421</td>\n",
       "      <td>78.9</td>\n",
       "      <td>4.9671</td>\n",
       "      <td>242</td>\n",
       "      <td>17.8</td>\n",
       "      <td>21.6</td>\n",
       "    </tr>\n",
       "    <tr>\n",
       "      <th>2</th>\n",
       "      <td>0.02729</td>\n",
       "      <td>0.0</td>\n",
       "      <td>7.07</td>\n",
       "      <td>0.469</td>\n",
       "      <td>7.185</td>\n",
       "      <td>61.1</td>\n",
       "      <td>4.9671</td>\n",
       "      <td>242</td>\n",
       "      <td>17.8</td>\n",
       "      <td>34.7</td>\n",
       "    </tr>\n",
       "    <tr>\n",
       "      <th>3</th>\n",
       "      <td>0.03237</td>\n",
       "      <td>0.0</td>\n",
       "      <td>2.18</td>\n",
       "      <td>0.458</td>\n",
       "      <td>6.998</td>\n",
       "      <td>45.8</td>\n",
       "      <td>6.0622</td>\n",
       "      <td>222</td>\n",
       "      <td>18.7</td>\n",
       "      <td>33.4</td>\n",
       "    </tr>\n",
       "    <tr>\n",
       "      <th>4</th>\n",
       "      <td>0.06905</td>\n",
       "      <td>0.0</td>\n",
       "      <td>2.18</td>\n",
       "      <td>0.458</td>\n",
       "      <td>7.147</td>\n",
       "      <td>54.2</td>\n",
       "      <td>6.0622</td>\n",
       "      <td>222</td>\n",
       "      <td>18.7</td>\n",
       "      <td>36.2</td>\n",
       "    </tr>\n",
       "    <tr>\n",
       "      <th>...</th>\n",
       "      <td>...</td>\n",
       "      <td>...</td>\n",
       "      <td>...</td>\n",
       "      <td>...</td>\n",
       "      <td>...</td>\n",
       "      <td>...</td>\n",
       "      <td>...</td>\n",
       "      <td>...</td>\n",
       "      <td>...</td>\n",
       "      <td>...</td>\n",
       "    </tr>\n",
       "    <tr>\n",
       "      <th>485</th>\n",
       "      <td>0.06263</td>\n",
       "      <td>0.0</td>\n",
       "      <td>11.93</td>\n",
       "      <td>0.573</td>\n",
       "      <td>6.593</td>\n",
       "      <td>69.1</td>\n",
       "      <td>2.4786</td>\n",
       "      <td>273</td>\n",
       "      <td>21.0</td>\n",
       "      <td>22.4</td>\n",
       "    </tr>\n",
       "    <tr>\n",
       "      <th>486</th>\n",
       "      <td>0.04527</td>\n",
       "      <td>0.0</td>\n",
       "      <td>11.93</td>\n",
       "      <td>0.573</td>\n",
       "      <td>6.120</td>\n",
       "      <td>76.7</td>\n",
       "      <td>2.2875</td>\n",
       "      <td>273</td>\n",
       "      <td>21.0</td>\n",
       "      <td>20.6</td>\n",
       "    </tr>\n",
       "    <tr>\n",
       "      <th>487</th>\n",
       "      <td>0.06076</td>\n",
       "      <td>0.0</td>\n",
       "      <td>11.93</td>\n",
       "      <td>0.573</td>\n",
       "      <td>6.976</td>\n",
       "      <td>91.0</td>\n",
       "      <td>2.1675</td>\n",
       "      <td>273</td>\n",
       "      <td>21.0</td>\n",
       "      <td>23.9</td>\n",
       "    </tr>\n",
       "    <tr>\n",
       "      <th>488</th>\n",
       "      <td>0.10959</td>\n",
       "      <td>0.0</td>\n",
       "      <td>11.93</td>\n",
       "      <td>0.573</td>\n",
       "      <td>6.794</td>\n",
       "      <td>89.3</td>\n",
       "      <td>2.3889</td>\n",
       "      <td>273</td>\n",
       "      <td>21.0</td>\n",
       "      <td>22.0</td>\n",
       "    </tr>\n",
       "    <tr>\n",
       "      <th>489</th>\n",
       "      <td>0.04741</td>\n",
       "      <td>0.0</td>\n",
       "      <td>11.93</td>\n",
       "      <td>0.573</td>\n",
       "      <td>6.030</td>\n",
       "      <td>80.8</td>\n",
       "      <td>2.5050</td>\n",
       "      <td>273</td>\n",
       "      <td>21.0</td>\n",
       "      <td>11.9</td>\n",
       "    </tr>\n",
       "  </tbody>\n",
       "</table>\n",
       "<p>490 rows × 10 columns</p>\n",
       "</div>"
      ],
      "text/plain": [
       "        crim    zn  indus    nox     rm   age     dis  tax  ptratio  medv\n",
       "0    0.00632  18.0   2.31  0.538  6.575  65.2  4.0900  296     15.3  24.0\n",
       "1    0.02731   0.0   7.07  0.469  6.421  78.9  4.9671  242     17.8  21.6\n",
       "2    0.02729   0.0   7.07  0.469  7.185  61.1  4.9671  242     17.8  34.7\n",
       "3    0.03237   0.0   2.18  0.458  6.998  45.8  6.0622  222     18.7  33.4\n",
       "4    0.06905   0.0   2.18  0.458  7.147  54.2  6.0622  222     18.7  36.2\n",
       "..       ...   ...    ...    ...    ...   ...     ...  ...      ...   ...\n",
       "485  0.06263   0.0  11.93  0.573  6.593  69.1  2.4786  273     21.0  22.4\n",
       "486  0.04527   0.0  11.93  0.573  6.120  76.7  2.2875  273     21.0  20.6\n",
       "487  0.06076   0.0  11.93  0.573  6.976  91.0  2.1675  273     21.0  23.9\n",
       "488  0.10959   0.0  11.93  0.573  6.794  89.3  2.3889  273     21.0  22.0\n",
       "489  0.04741   0.0  11.93  0.573  6.030  80.8  2.5050  273     21.0  11.9\n",
       "\n",
       "[490 rows x 10 columns]"
      ]
     },
     "execution_count": 2,
     "metadata": {},
     "output_type": "execute_result"
    }
   ],
   "source": [
    "housing = pd.read_csv('housing_subset.csv')\n",
    "housing"
   ]
  },
  {
   "cell_type": "markdown",
   "metadata": {},
   "source": [
    "Here is a description of the columns: \n",
    "* **CRIM** - per capita crime rate by town\n",
    "* **ZN** - proportion of residential land zoned for lots over 25,000 sq.ft.\n",
    "* **INDUS** - proportion of non-retail business acres per town.\n",
    "* **NOX** - nitric oxides concentration (parts per 10 million)\n",
    "* **RM** - average number of rooms per dwelling\n",
    "* **AGE** - proportion of owner-occupied units built prior to 1940\n",
    "* **DIS** - weighted distances to five Boston employment centres\n",
    "* **TAX** - full-value property-tax rate per \\$10,000\n",
    "* **PTRATIO** - pupil-teacher ratio by town\n",
    "* **MEDV** - Median value of owner-occupied homes in \\$1000's\n"
   ]
  },
  {
   "cell_type": "markdown",
   "metadata": {},
   "source": [
    "The goal of this dataset is to be able to predict the \"MEDV\" variable. For example, if we were given a town with a certain set of characteristics, we want to know what might be the median value of the homes in that town. "
   ]
  },
  {
   "cell_type": "markdown",
   "metadata": {},
   "source": [
    "# 1. Correlation\n",
    "\n",
    "For now, let's just focus on two of the columns, the average number of rooms per dwelling, and our outcome variable, the median house value. Intuitively, it makes sense that more houses means more money, you can imagine that a town of mansions would have a pretty high median house value. \n",
    "\n",
    "Run the following cell to look at the scatterplot of the two variables we have created for you. In this section, you will write code to calculate the correlation coefficient, _r_ of any pair of data. "
   ]
  },
  {
   "cell_type": "code",
   "execution_count": 3,
   "metadata": {},
   "outputs": [
    {
     "data": {
      "image/png": "[encoded data removed]",
      "text/plain": [
       "<Figure size 576x360 with 1 Axes>"
      ]
     },
     "metadata": {
      "needs_background": "light"
     },
     "output_type": "display_data"
    }
   ],
   "source": [
    "# code for plotting scatter plot\n",
    "rooms = housing['rm']\n",
    "median_value = housing['medv']\n",
    "\n",
    "\n",
    "fig1, ax1 = plot_scatter(rooms, \n",
    "    median_value, \n",
    "    x_label = \"Average Number of Rooms\",\n",
    "    y_label = 'Median Housing Value ($1000s)',\n",
    "    title = 'Scatterplot of Number of Rooms and Median Value');"
   ]
  },
  {
   "cell_type": "markdown",
   "metadata": {},
   "source": [
    "In the last lab, you wrote code to calculate mean and standard deviation of an array of data, as well as code to convert an array into standard units. We've imported some functions for you to use this time so that you won't have to go through the hassle of defining the functions all over again. Please use the following functions for your convenience (you don't have to though!):\n",
    "\n",
    "`mean(an_array): returns the mean of an array` \n",
    "\n",
    "\n",
    "`std(an_array): returns the standard deviation of an array`\n",
    "\n",
    "`standardize(an_array): returns the array with its elements converted to standard units`\n"
   ]
  },
  {
   "cell_type": "markdown",
   "metadata": {},
   "source": [
    "## Question 1.a\n",
    "\n",
    "Let's calculate the correlation coefficient between the number of rooms and the median housing value. Remember from lecture that the correlation coefficient as calculated as follows, where $x$ and $y$ are our pairs of data.: \n",
    "\n",
    "$$\\text{Average of the product of }x \\text{ in standard units and } y \\text{ in standard units}$$\n",
    "\n",
    "\n",
    "Instead of walking you through all the steps like we did last time, you now know how to write functions! Write the function `corr` that computes the correlation coefficient between two columns of data. It should take in two inputs, each of them arrays of the same length with indices corresponding to the same observations. Run the following cell to see if your function is correct.\n",
    "\n",
    "_Hint: First, convert data to standard units using the `standardize` function. Next, find the element-wise product between all of the entires._\n",
    "\n",
    "_Hint: Element-wise product means that we want to multiple the value in each index of an array by the corresponding value in that **same** index in another array. Luckily, this is the default when working with arrays_ "
   ]
  },
  {
   "cell_type": "code",
   "execution_count": 4,
   "metadata": {},
   "outputs": [],
   "source": [
    "def corr(array_1, array_2):\n",
    "    \"\"\"Calculate the correlation between two sets of matched data\"\"\"\n",
    "    # Your Code Here ...\n",
    "    r = mean(standardize(array_1) * standardize(array_2))\n",
    "    return r "
   ]
  },
  {
   "cell_type": "code",
   "execution_count": 5,
   "metadata": {},
   "outputs": [
    {
     "data": {
      "text/plain": [
       "True"
      ]
     },
     "execution_count": 5,
     "metadata": {},
     "output_type": "execute_result"
    }
   ],
   "source": [
    "check('q1a', corr)"
   ]
  },
  {
   "cell_type": "markdown",
   "metadata": {},
   "source": [
    "Now that you have a function that gets the correlation coefficient for you, we can immediately start getting into linear regression! In the next part you will do a little algebra and solve for some missing part in equations to get the full equation of the line of best fit for these two variables."
   ]
  },
  {
   "cell_type": "markdown",
   "metadata": {},
   "source": [
    "## Question 1.b\n",
    "\n",
    "Now we'll use your `corr` function to create another function to solve for all of the parts of the line of best fit from linear regression. Remember that the components of the line of best fit can be extracted from the following equation: \n",
    "\n",
    "$$\\text{Estimate of $y$ in standard units} = r \\times \\text{Predictor $x$ in standard units}$$\n",
    "\n",
    "Replacing the definition of standard units, we have the following equation:\n",
    "\n",
    "$$\\frac{\\text{Estimate of } y - \\text{Average of } y}{\\text{SD of }y} = r \\times \\frac{\\text{Predictor } x - \\text{Average of } x}{\\text{SD of }x}$$\n",
    "\n",
    "After moving some terms around, we can arrive at the following equation for our estimate of $y$:\n",
    "\n",
    "$$\\text{Estimate of $y$} = \\frac{\\text{SD of $y$}}{\\text{SD of $x$}}\\times r \\times x + \\left(\\text{Average of $y$} - \\frac{\\text{SD of $y$}}{\\text{SD of $x$}}\\times r \\times \\text{Average of $x$}\\right)$$\n",
    "\n",
    "Which you can see, is exactly in the form of:\n",
    "\n",
    "$$y = mx + b$$\n",
    "\n",
    "Where $y$ is our estimate, and $x$ is our predictor.\n",
    "\n",
    "Using this \"simplified\" equation, lets make a function that will solve for these values and help us make some predictions."
   ]
  },
  {
   "cell_type": "markdown",
   "metadata": {},
   "source": [
    "### Question 1.b.1 \n",
    "\n",
    "Write the function `get_slope` which takes in two arguments, `x_data` and `y_data` and returns the value of the slope, or $m$ from the equation above, of the line of best fit. Afterwards, run the next cell to see if your implemented the function correctly!\n",
    "\n",
    "_Note: It is best to generalize this to any two pairs of data, hence why we are asking you to write a function rather than simply calculate the slope of the data_"
   ]
  },
  {
   "cell_type": "code",
   "execution_count": 6,
   "metadata": {},
   "outputs": [],
   "source": [
    "def get_slope(x_data, y_data):\n",
    "    \"\"\"Returns the slope of the line of best fit\n",
    "    using the correlation from the data\"\"\"\n",
    "    # Your Code Here...\n",
    "    slope = std(y_data)/std(x_data) * corr(x_data, y_data)\n",
    "    return slope"
   ]
  },
  {
   "cell_type": "code",
   "execution_count": 7,
   "metadata": {},
   "outputs": [
    {
     "data": {
      "text/plain": [
       "True"
      ]
     },
     "execution_count": 7,
     "metadata": {},
     "output_type": "execute_result"
    }
   ],
   "source": [
    "check('q1b1', get_slope)"
   ]
  },
  {
   "cell_type": "markdown",
   "metadata": {},
   "source": [
    "### Question 1.b.2\n",
    "\n",
    "Write the function `get_intercept` which takes in two arguments, `x_data` and `y_data` and returns the value of the intercept, or $b$ from the equation above, of the line of best fit. Afterwards, run the next cell to see if your implemented the function correctly!\n",
    "\n",
    "_Note: It is best to generalize this to any two pairs of data, hence why we are asking you to write a function rather than simply calculate the intercept of the data_"
   ]
  },
  {
   "cell_type": "code",
   "execution_count": 8,
   "metadata": {},
   "outputs": [],
   "source": [
    "def get_intercept(x_data, y_data):\n",
    "    \"\"\"Returns the intercept of the line of best fit\n",
    "    using the correlation from the data\"\"\"\n",
    "    # Your Code Here...\n",
    "    intercept = mean(y_data) - get_slope(x_data, y_data) * mean(x_data)\n",
    "    return intercept"
   ]
  },
  {
   "cell_type": "code",
   "execution_count": 9,
   "metadata": {},
   "outputs": [
    {
     "data": {
      "text/plain": [
       "True"
      ]
     },
     "execution_count": 9,
     "metadata": {},
     "output_type": "execute_result"
    }
   ],
   "source": [
    "check('q1b2', get_intercept)"
   ]
  },
  {
   "cell_type": "markdown",
   "metadata": {},
   "source": [
    "### Question 1.b.3\n",
    "\n",
    "Now we're gonna get a little fancy. Write the function `fit_predict` which takes in three arguments, `x_data`, `y_data`, _and_ `x_given`. `x_data` and `y_data` are the same as before, but `x_given` is a `float`. `get_prediction` will find the slope and intercept of the line of best fit, and then return the predicted `y` value for `x_pred`. Run the following cell to see if you implemented the function correctly! \n",
    "\n",
    "_Note: Make sure to use functions you've already written!_\n",
    "\n",
    "_Note: The process of finding the slope and intercept of a model is typically called \"fitting\" the model, hence this function both fits the model and predicts a value._"
   ]
  },
  {
   "cell_type": "code",
   "execution_count": 10,
   "metadata": {},
   "outputs": [],
   "source": [
    "def fit_predict(x_data, y_data, x_given):\n",
    "    \"\"\"Fits a simple linear regression model on x_data and y_data\n",
    "    and returns the predicted value for x_given\"\"\"\n",
    "    # Your Code Here...\n",
    "    prediction = get_slope(x_data, y_data) * x_given + get_intercept(x_data, y_data)\n",
    "    return prediction\n"
   ]
  },
  {
   "cell_type": "code",
   "execution_count": 11,
   "metadata": {},
   "outputs": [
    {
     "data": {
      "text/plain": [
       "True"
      ]
     },
     "execution_count": 11,
     "metadata": {},
     "output_type": "execute_result"
    }
   ],
   "source": [
    "check('q1b3', fit_predict)"
   ]
  },
  {
   "cell_type": "markdown",
   "metadata": {},
   "source": [
    "Great job! Run the next cell to see your functions at work, if the above functions are correctly implemented, you should see a line of dots that fits the data pretty well! These dots are the \"fitted values\" of the `x_data`, in this case for the average number of rooms. Fitted values are the predictions outputted by out model for given data. \n",
    "\n",
    "In the next section, you will learn how we can use fitted values to calculate a metric for how good our model performs, and use it to numerically implement linear regression."
   ]
  },
  {
   "cell_type": "code",
   "execution_count": 12,
   "metadata": {},
   "outputs": [
    {
     "name": "stdout",
     "output_type": "stream",
     "text": [
      "Best Slope 8.268557322426993 , Best Intercept:  -30.00512014537598\n"
     ]
    },
    {
     "data": {
      "text/plain": [
       "<matplotlib.collections.PathCollection at 0x22823070fa0>"
      ]
     },
     "execution_count": 12,
     "metadata": {},
     "output_type": "execute_result"
    },
    {
     "data": {
      "image/png": "[encoded data removed]",
      "text/plain": [
       "<Figure size 576x360 with 1 Axes>"
      ]
     },
     "metadata": {
      "needs_background": "light"
     },
     "output_type": "display_data"
    }
   ],
   "source": [
    "slope, intercept = get_slope(housing['rm'], housing['medv']), get_intercept(housing['rm'], housing['medv'])\n",
    "print('Best Slope', slope, ', Best Intercept: ', intercept)\n",
    "fig1, ax1 = plot_scatter(rooms, \n",
    "    median_value, \n",
    "    x_label = \"Average Number of Rooms\",\n",
    "    y_label = 'Median Housing Value ($1000s)',\n",
    "    title = 'Scatterplot of Number of Rooms and Median Value');\n",
    "ax1.scatter(rooms, slope*rooms + intercept)\n"
   ]
  },
  {
   "cell_type": "markdown",
   "metadata": {},
   "source": [
    "# 2. Numerically Optimized Linear Regression"
   ]
  },
  {
   "cell_type": "markdown",
   "metadata": {},
   "source": [
    "Since we know what the real Median Housing Value of all of these town, we can measure how far off our Linear Regression model is for our predictions. Of course, there will always be a little error, but we want to have as little as possible. \n",
    "\n",
    "The function `rm_medv_errors` will take in two arguments, a `slope` and an `intercept`. It will use these arguments to create a line that will give us predictions of the Median Value from the Average Number of Rooms, and will highlight the error corresponding to four of the points in red. There is nothing special about the four points, they were just chosen for clarity of display. \n",
    "\n",
    "Feel free to change the slope and intercept, we have it currently set to correspond to the line of best fit. Play around and see how these error bars change with different slopes and intercepts. "
   ]
  },
  {
   "cell_type": "code",
   "execution_count": 13,
   "metadata": {},
   "outputs": [
    {
     "data": {
      "image/png": "[encoded data removed]",
      "text/plain": [
       "<Figure size 576x360 with 1 Axes>"
      ]
     },
     "metadata": {
      "needs_background": "light"
     },
     "output_type": "display_data"
    }
   ],
   "source": [
    "best_slope = get_slope(housing['rm'], housing['medv'])\n",
    "best_intercept = get_intercept(housing['rm'], housing['medv'])\n",
    "\n",
    "# Change these arguments to play around - replace the arguments in 'slope' and 'intercept' \n",
    "rm_medv_errors(slope = best_slope, intercept = best_intercept)"
   ]
  },
  {
   "cell_type": "markdown",
   "metadata": {},
   "source": [
    "As introduced in lecture, we need one overall measure of the rough size of errors. Some lines have decently small errors, other lines might be downright silly with large errors for all values. \n",
    "\n",
    "If you use any arbitrary line to calculate your estimates, then some of your errors are likely to be positive and others negative. To avoid cancellation when measuring the rough size of the errors, we will take the mean of the squared errors rather than the mean of the errors themselves.\n",
    "\n",
    "The mean squared error of estimation is a measure of roughly how big the squared errors are, but its units are hard to interpret. Taking the square root yields the root mean square error **(RMSE)**, which is in the same units as the variable being predicted and therefore much easier to understand."
   ]
  },
  {
   "cell_type": "markdown",
   "metadata": {},
   "source": [
    "## Question 2.a\n",
    "\n",
    "Remember in Lecture we introduced that the regression line is the unique straight line that minizes the RMSE among _all_ straight lines. Hence, in this question we're going to write a function that will calculate the RMSE of any line given a slope and an intercept (similar in use the `rm_medv_errors` function, but for all points).\n",
    "\n",
    "We will be optimizing this function to find the best slope and intercept what minimizes the RMSE. Implement `rm_medv_rmse`, which given a slope and intercept will calculate the corresponding RMSE when using the Average Number of Rooms to predict the Median Household Value. \n",
    "\n",
    "We've filled out the first few lines of code for you below:\n"
   ]
  },
  {
   "cell_type": "code",
   "execution_count": 20,
   "metadata": {},
   "outputs": [],
   "source": [
    "def rm_medv_rmse(any_slope, any_intercept): \n",
    "    \"\"\"Calculates the RMSE from using a line with given slope and \n",
    "    intercept to predict MEDV from RM in housing_subset.csv\"\"\"\n",
    "    x = housing['rm']\n",
    "    y = housing['medv']\n",
    "    fitted_vals = any_slope * x + any_intercept\n",
    "    errors = y - fitted_vals\n",
    "    rmse = mean(errors**2) ** 0.5\n",
    "    return rmse"
   ]
  },
  {
   "cell_type": "code",
   "execution_count": 21,
   "metadata": {},
   "outputs": [
    {
     "data": {
      "text/plain": [
       "True"
      ]
     },
     "execution_count": 21,
     "metadata": {},
     "output_type": "execute_result"
    }
   ],
   "source": [
    "check('q2a', rm_medv_rmse)"
   ]
  },
  {
   "cell_type": "markdown",
   "metadata": {},
   "source": [
    "## Question 2.b \n",
    "\n",
    "Now that we have defined our \"objective function\" (this is just terminology used in optimization), we want to find the _argmin_, or the argument that minimizes said function. Luckily, we don't have to do it ourselves, and it is already implemented for you! \n",
    "\n",
    "The `minimize` function can be used to find the arguments of a function for which the functino returns its minimum value. Python uses a simiar trial-and-error approach, and will follow the echanges that lead to incrementally lower output values. \n",
    "\n",
    "The argument of minimize is a function that itself takes numerical arguments and returns a numerical value. For example, the function `rm_medv_rmse` takes a numerical slope and intercept as its arguments and returns the corresponding rmse. \n",
    "\n",
    "Use `minimize` in the next cell, and assign the result to the variable `best` and compare the results to your results from using the correlation coefficient."
   ]
  },
  {
   "cell_type": "code",
   "execution_count": 22,
   "metadata": {},
   "outputs": [
    {
     "data": {
      "text/plain": [
       "array([  8.26855755, -30.00508796])"
      ]
     },
     "execution_count": 22,
     "metadata": {},
     "output_type": "execute_result"
    }
   ],
   "source": [
    " # Your Code Here ...\n",
    "best = minimize(rm_medv_rmse)\n",
    "best"
   ]
  },
  {
   "cell_type": "code",
   "execution_count": 23,
   "metadata": {},
   "outputs": [
    {
     "data": {
      "text/plain": [
       "True"
      ]
     },
     "execution_count": 23,
     "metadata": {},
     "output_type": "execute_result"
    }
   ],
   "source": [
    "check('q2b', best)"
   ]
  },
  {
   "cell_type": "markdown",
   "metadata": {},
   "source": [
    "Notice anything neat? For that reason, sometimes the regression line is also called the \"least squares line\", since it minimizes the mean squared error. "
   ]
  },
  {
   "cell_type": "markdown",
   "metadata": {},
   "source": [
    "# 3. More Linear Regression\n",
    "\n",
    "In the previous section, we've only been using lines make predictions, and you might think that's pretty naive. What if the data isn't in the shape of a line? Here, we'll talk about some non-linear regression, for when the data is not linear and potentially a little _curvy_... \n",
    "\n",
    "\n",
    "Take for example, the following scatterplot of the weighted distances to five Boston employment centres on the x-axis and Nitric Oxides concentration on the y-axis. "
   ]
  },
  {
   "cell_type": "code",
   "execution_count": 24,
   "metadata": {},
   "outputs": [
    {
     "data": {
      "image/png": "[encoded data removed]",
      "text/plain": [
       "<Figure size 576x360 with 1 Axes>"
      ]
     },
     "metadata": {
      "needs_background": "light"
     },
     "output_type": "display_data"
    }
   ],
   "source": [
    "# Run this cell for visualization of slightly curvy data\n",
    "plot_scatter(housing['dis'], housing['nox'],\n",
    "    x_label = 'Distance to Boston Employment Center',\n",
    "    y_label = 'NOX Concentration',\n",
    "    title = 'Scatterplot of DIS and NOX');\n",
    "\n"
   ]
  },
  {
   "cell_type": "markdown",
   "metadata": {},
   "source": [
    "Clearly it doesn't look like a straight line... it's more ... _curvy_\n",
    "\n",
    "What if instead of fitting a line to this data, we could fit a parabola? If you recall from your Algebra 2 class, the equation for a parabola is:\n",
    "\n",
    "$$ y = a(x-h)^2 + k \\quad \\text{where $a, h,$ and $k$ are all just some constant numbers.}$$ \n",
    "\n",
    "Well if they're just numbers, we could just keep guessing and checking until we find the best one (AKA the one that minimizes MSE), but we can also let Python find them for us!\n",
    "\n",
    "You've actually done most of the work for this already by implementing numerically optimized linear regression\n"
   ]
  },
  {
   "cell_type": "markdown",
   "metadata": {},
   "source": [
    "### Question 3.a\n",
    "\n",
    "Implement the function `dn_parabola_mse` which takes in three arguments $a, h$ and $k$, and computes the root mean squared error when using the formula of a parabola to make predictions of the NOX Concentration from the Distance to Boston Employment Centers. "
   ]
  },
  {
   "cell_type": "code",
   "execution_count": 25,
   "metadata": {},
   "outputs": [],
   "source": [
    "def dn_parabola_mse(a, h, k):\n",
    "    \"\"\"Calculates the RMSE from using a parabola with the parameters\n",
    "    a, h, and k, on using DIS to predict NOX from housing_subset.csv\"\"\"\n",
    "    x = housing['dis']\n",
    "    y = housing['nox']\n",
    "    # Your Code Here:\n",
    "    errors = y - (a*(x - h)**2 + k)\n",
    "    rmse = np.mean(errors**2)**0.5\n",
    "    return rmse"
   ]
  },
  {
   "cell_type": "code",
   "execution_count": 26,
   "metadata": {},
   "outputs": [
    {
     "data": {
      "text/plain": [
       "True"
      ]
     },
     "execution_count": 26,
     "metadata": {},
     "output_type": "execute_result"
    }
   ],
   "source": [
    "check('q3a', dn_parabola_mse)"
   ]
  },
  {
   "cell_type": "markdown",
   "metadata": {},
   "source": [
    "### Question 3.b\n",
    "\n",
    "Now use `minimize` to find the best `a`,`h`, and `k` for the parabola and assign the ouput of `minimize` to `best_parabola`."
   ]
  },
  {
   "cell_type": "code",
   "execution_count": 27,
   "metadata": {},
   "outputs": [
    {
     "data": {
      "text/plain": [
       "array([7.31973911e-03, 7.78861388e+00, 4.07228657e-01])"
      ]
     },
     "execution_count": 27,
     "metadata": {},
     "output_type": "execute_result"
    }
   ],
   "source": [
    "best_parabola = minimize(dn_parabola_mse)\n",
    "best_parabola"
   ]
  },
  {
   "cell_type": "code",
   "execution_count": 28,
   "metadata": {},
   "outputs": [
    {
     "data": {
      "text/plain": [
       "True"
      ]
     },
     "execution_count": 28,
     "metadata": {},
     "output_type": "execute_result"
    }
   ],
   "source": [
    "check('q3b', best_parabola)"
   ]
  },
  {
   "cell_type": "markdown",
   "metadata": {},
   "source": [
    "In the following cell, we've used your functions and outputs to plot the different fitted values between using Simple Linear Regression, and the NonLinear Regression (although technically it is still linear regression, bring this up in office hours if you're curious why). Great job so far! "
   ]
  },
  {
   "cell_type": "code",
   "execution_count": 29,
   "metadata": {},
   "outputs": [
    {
     "data": {
      "image/png": "[encoded data removed]",
      "text/plain": [
       "<Figure size 576x360 with 1 Axes>"
      ]
     },
     "metadata": {
      "needs_background": "light"
     },
     "output_type": "display_data"
    }
   ],
   "source": [
    "dis = housing['dis']\n",
    "nox = housing['nox']\n",
    "best_slope = get_slope(dis, nox)\n",
    "best_intercept = get_intercept(dis, nox)\n",
    "fitted_vals = best_slope * dis + best_intercept\n",
    "\n",
    "a, h, k = best_parabola\n",
    "fitted_parabola_vals = a*(dis - h)**2 + k\n",
    "\n",
    "fig, ax = plot_scatter(housing['dis'], housing['nox'],\n",
    "    x_label = 'Distance to Boston Employment Center',\n",
    "    y_label = 'NOX Concentration',\n",
    "    title = 'Scatterplot of DIS and NOX')\n",
    "\n",
    "ax.scatter(dis, fitted_vals, label = 'Best Line', color = 'orange')\n",
    "ax.scatter(dis, fitted_parabola_vals, label = 'Best Parabola', color = 'red')\n",
    "ax.legend();"
   ]
  },
  {
   "cell_type": "markdown",
   "metadata": {},
   "source": [
    "You could also do this for a third-degree equation, or even higher up, all you would need to do is modify the starting equation, and `minimize` will find the best parameters to do so in the order of the function. \n"
   ]
  },
  {
   "cell_type": "markdown",
   "metadata": {},
   "source": [
    "# 4. Summary \n",
    "\n",
    "\n",
    "Yay! You're done with lab 4.  Hope this lab was helpful for some extra practice. If you have any questions or want to go further in depth on the material, please attend office hours which is held after lectures until 8PM. \n",
    "\n",
    "If you are submitting this lab for the Certificate of Completion, save this file which can be found under `File`.  Then run the cell below ONLY when you completed every question. Everything should return `True` which would indiciate everything is correct.\n"
   ]
  },
  {
   "cell_type": "code",
   "execution_count": null,
   "metadata": {},
   "outputs": [],
   "source": [
    "checkall()"
   ]
  }
 ],
 "metadata": {
  "kernelspec": {
   "display_name": "Python 3.8.8 ('base')",
   "language": "python",
   "name": "python3"
  },
  "language_info": {
   "codemirror_mode": {
    "name": "ipython",
    "version": 3
   },
   "file_extension": ".py",
   "mimetype": "text/x-python",
   "name": "python",
   "nbconvert_exporter": "python",
   "pygments_lexer": "ipython3",
   "version": "3.8.8"
  },
  "orig_nbformat": 4,
  "vscode": {
   "interpreter": {
    "hash": "2f39d6a9340f9094a15ae3206b3cb83be26c4819028e15d4b820076fd30a3721"
   }
  }
 },
 "nbformat": 4,
 "nbformat_minor": 2
}
